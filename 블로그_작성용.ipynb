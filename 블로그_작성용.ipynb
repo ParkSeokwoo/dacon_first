{
  "cells": [
    {
      "cell_type": "markdown",
      "metadata": {
        "id": "CCNIw_poegiG"
      },
      "source": [
        "# 설치"
      ]
    },
    {
      "cell_type": "code",
      "execution_count": 60,
      "metadata": {
        "colab": {
          "base_uri": "https://localhost:8080/"
        },
        "id": "OVXqQLZN3W5k",
        "outputId": "9cc787b6-f39c-4422-daee-7fd6962f54c0"
      },
      "outputs": [],
      "source": [
        "# !pip install workalendar\n",
        "# !sudo apt-get install -y fonts-nanum\n",
        "# !sudo fc-cache -fv\n",
        "# !rm ~/.cache/matplotlib -rf"
      ]
    },
    {
      "cell_type": "markdown",
      "metadata": {
        "id": "bdYHK7tSej3p"
      },
      "source": [
        "# 데이터 불러오기"
      ]
    },
    {
      "cell_type": "code",
      "execution_count": 61,
      "metadata": {
        "id": "qfaW457ox-K6"
      },
      "outputs": [],
      "source": [
        "import pandas as pd\n",
        "import numpy as np\n",
        "import matplotlib.pyplot as plt\n",
        "import seaborn as sns\n",
        "from pandas import Timestamp\n",
        "from workalendar.asia import SouthKorea\n",
        "from sklearn.preprocessing import LabelEncoder\n",
        "\n",
        "import warnings\n",
        "warnings.filterwarnings(\"ignore\")\n",
        "\n",
        "# plt.rc('font', family='NanumBarunGothic')\n",
        "\n",
        "plt.rcParams['font.family'] ='Malgun Gothic'\n",
        "plt.rcParams['axes.unicode_minus'] =False\n",
        "\n",
        "# train_df=pd.read_csv(\"/content/drive/MyDrive/open/train.csv\")\n",
        "# test_df=pd.read_csv(\"/content/drive/MyDrive/open/test.csv\")\n",
        "# ss=pd.read_csv(\"/content/drive/MyDrive/open/sample_submission.csv\")\n",
        "# total_df=pd.read_csv(\"/content/drive/MyDrive/open/external_open/countrywide_accident.csv\")\n",
        "\n",
        "train_df=pd.read_csv(\"train.csv\")\n",
        "test_df=pd.read_csv(\"test.csv\")\n",
        "ss=pd.read_csv(\"sample_submission.csv\")\n",
        "total_df=pd.read_csv(\"./external_open/countrywide_accident.csv\")"
      ]
    },
    {
      "cell_type": "code",
      "execution_count": 62,
      "metadata": {
        "id": "w-1eReb40ZX_"
      },
      "outputs": [],
      "source": [
        "country_df=pd.concat([train_df, total_df])"
      ]
    },
    {
      "cell_type": "markdown",
      "metadata": {
        "id": "NDPdHTMl5ooA"
      },
      "source": [
        "# 전체 데이터 파생변수"
      ]
    },
    {
      "cell_type": "code",
      "execution_count": 63,
      "metadata": {
        "id": "HMiO0rzA5rbZ"
      },
      "outputs": [],
      "source": [
        "# == ID 패스 ==\n",
        "\n",
        "# == 사고일시 ==\n",
        "time_pattern = r'(\\d{4})-(\\d{1,2})-(\\d{1,2}) (\\d{1,2})'\n",
        "\n",
        "country_df[['연', '월', '일', '시간']] = country_df['사고일시'].str.extract(time_pattern)\n",
        "country_df[['연', '월', '일', '시간']] = country_df[['연', '월', '일', '시간']].apply(pd.to_numeric) # 추출된 문자열을 수치화해줍니다\n",
        "\n",
        "# = 공휴일 column 추가 =\n",
        "def is_holiday(year, month, day):\n",
        "    cal = SouthKorea()\n",
        "    return cal.is_holiday(Timestamp(year, month, day))\n",
        "\n",
        "def classify_day(year, month, day):\n",
        "    date = Timestamp(year, month, day)\n",
        "    if date.dayofweek < 5 and not is_holiday(year, month, day):\n",
        "        return 0\n",
        "    else:\n",
        "        return 1\n",
        "\n",
        "country_df['Holiday'] = country_df.apply(lambda row: classify_day(row['연'], row['월'], row['일']), axis=1)\n",
        "country_df.drop(columns=['사고일시'], inplace = True) # 정보 추출이 완료된 '사고일시','일','요일','연' 컬럼은 제거합니다\n",
        "\n",
        "# == 시군구 ==\n",
        "location_pattern = r'(\\S+) (\\S+) (\\S+)'\n",
        "\n",
        "country_df[['도시', '구', '동']] = country_df['시군구'].str.extract(location_pattern)\n",
        "country_df.drop(columns=['시군구'], inplace = True)\n",
        "\n",
        "# == 도로형태 ==\n",
        "road_pattern = r'(.+) - (.+)'\n",
        "\n",
        "country_df[['도로형태1', '도로형태2']] = country_df['도로형태'].str.extract(road_pattern)\n",
        "country_df = country_df.drop(columns=['도로형태2'])\n",
        "\n",
        "# == 기상상태\n",
        "country_df.drop([\"기상상태\"], axis=1, inplace=True)"
      ]
    },
    {
      "cell_type": "code",
      "execution_count": 64,
      "metadata": {
        "id": "StbqUIqGjaHZ"
      },
      "outputs": [],
      "source": [
        "# == 연령\n",
        "g_age = r'(\\d{2})세'\n",
        "p_age = r'(\\d{1,2})세'\n",
        "\n",
        "country_df[\"가해운전자 연령\"] = country_df['가해운전자 연령'].str.extract(g_age)\n",
        "country_df[\"피해운전자 연령\"] = country_df['피해운전자 연령'].str.extract(p_age)\n",
        "\n",
        "country_df[\"가해운전자 연령\"]=country_df[\"가해운전자 연령\"].apply(pd.to_numeric)\n",
        "country_df[\"피해운전자 연령\"]=country_df[\"피해운전자 연령\"].apply(pd.to_numeric)"
      ]
    },
    {
      "cell_type": "code",
      "execution_count": 65,
      "metadata": {
        "id": "RKVaVO5KTi8Y"
      },
      "outputs": [],
      "source": [
        "# == ID 패스 ==\n",
        "\n",
        "# == 사고일시 ==\n",
        "time_pattern = r'(\\d{4})-(\\d{1,2})-(\\d{1,2}) (\\d{1,2})'\n",
        "\n",
        "test_df[['연', '월', '일', '시간']] = test_df['사고일시'].str.extract(time_pattern)\n",
        "test_df[['연', '월', '일', '시간']] = test_df[['연', '월', '일', '시간']].apply(pd.to_numeric) # 추출된 문자열을 수치화해줍니다\n",
        "\n",
        "# = 공휴일 column 추가 =\n",
        "def is_holiday(year, month, day):\n",
        "    cal = SouthKorea()\n",
        "    return cal.is_holiday(Timestamp(year, month, day))\n",
        "\n",
        "def classify_day(year, month, day):\n",
        "    date = Timestamp(year, month, day)\n",
        "    if date.dayofweek < 5 and not is_holiday(year, month, day):\n",
        "        return 0\n",
        "    else:\n",
        "        return 1\n",
        "\n",
        "test_df['Holiday'] = test_df.apply(lambda row: classify_day(row['연'], row['월'], row['일']), axis=1)\n",
        "test_df.drop(columns=['사고일시'], inplace = True) # 정보 추출이 완료된 '사고일시','일','요일','연' 컬럼은 제거합니다\n",
        "\n",
        "# == 시군구 ==\n",
        "location_pattern = r'(\\S+) (\\S+) (\\S+)'\n",
        "\n",
        "test_df[['도시', '구', '동']] = test_df['시군구'].str.extract(location_pattern)\n",
        "test_df.drop(columns=['시군구'], inplace = True)\n",
        "\n",
        "# == 도로형태 ==\n",
        "road_pattern = r'(.+) - (.+)'\n",
        "\n",
        "test_df[['도로형태1', '도로형태2']] = test_df['도로형태'].str.extract(road_pattern)\n",
        "test_df = test_df.drop(columns=['도로형태2'])\n",
        "\n",
        "# == 기상상태\n",
        "test_df.drop([\"기상상태\"], axis=1, inplace=True)"
      ]
    },
    {
      "cell_type": "code",
      "execution_count": 66,
      "metadata": {
        "id": "U2zscpEqVZr1"
      },
      "outputs": [],
      "source": [
        "# 차대차, 차대사람의 데이터\n",
        "not_car = country_df[country_df['사고유형'] != '차량단독'].copy()\n",
        "not_car.reset_index(inplace=True, drop=True)\n",
        "\n",
        "# 차량단독의 데이터\n",
        "car = country_df[country_df['사고유형'] == '차량단독'].copy()\n",
        "car.reset_index(inplace=True, drop=True)\n",
        "\n",
        "# 차량단독에서 ('노면상태', '가해운전자 연령', '도시', '구', '동') column에 대한 결측치 drop\n",
        "car = car.dropna(subset=['노면상태', '가해운전자 연령', '도시', '구', '동'])\n",
        "car.reset_index(inplace=True, drop=True)\n",
        "\n",
        "# 차량단독의 경우 피해운전자 차종은 미분류나 결측치임. 따라서 없음으로 대치\n",
        "car['피해운전자 차종'] = '없음'\n",
        "\n",
        "# 차량단독이 아닌 경우에 대해서는 결측치 모두 drop\n",
        "not_car = not_car.dropna()\n",
        "not_car.reset_index(inplace=True, drop=True)\n",
        "\n",
        "# 차량단독과 차량단독이 아닌 경우를 합쳐서 전체 데이터 형성\n",
        "country_df = pd.concat([car, not_car], axis=0)\n",
        "country_df.reset_index(inplace=True, drop=True)"
      ]
    },
    {
      "cell_type": "code",
      "execution_count": 67,
      "metadata": {
        "id": "Slhp6uTs354Y"
      },
      "outputs": [],
      "source": [
        "# train_df(대구 데이터)와 country_df(전체 도시 데이터)의 object형 column 확인\n",
        "\n",
        "train_df=country_df[country_df[\"도시\"]==\"대구광역시\"]\n",
        "country_df=country_df[country_df[\"도시\"]!=\"대구광역시\"]\n",
        "temp_obj_col = []\n",
        "con_obj_col = []\n",
        "for col in train_df.columns:\n",
        "    if train_df[col].dtype == object:\n",
        "        temp_obj_col.append(col)\n",
        "for col in country_df.columns:\n",
        "    if country_df[col].dtype == object:\n",
        "        con_obj_col.append(col)"
      ]
    },
    {
      "cell_type": "code",
      "execution_count": 68,
      "metadata": {
        "id": "4_LMhzFjTHu_"
      },
      "outputs": [],
      "source": [
        "#대구 데이터에 없는 object형 변수 값을 갖고 있는 전체 도시 데이터의 인덱스를 파악\n",
        "not_using_cols = ['ID', '도시', '구', '동', \"도로형태1\"]\n",
        "\n",
        "idxs = []\n",
        "for col in con_obj_col:\n",
        "    if col not in not_using_cols:\n",
        "        temp_values = list(train_df[col].unique())\n",
        "        total_values = list(country_df[col].unique())\n",
        "\n",
        "        unique = []\n",
        "\n",
        "        for tvalue in total_values:\n",
        "            if tvalue not in temp_values:\n",
        "                unique.append(tvalue)\n",
        "\n",
        "        for u in unique:\n",
        "            idx = country_df[country_df[col]==u].index.to_list()\n",
        "            idxs = idxs + idx\n",
        "\n",
        "idxs = list(set(idxs))"
      ]
    },
    {
      "cell_type": "code",
      "execution_count": 69,
      "metadata": {
        "id": "06eOF0qxY6mE"
      },
      "outputs": [],
      "source": [
        "country_df = country_df.drop(idxs, axis=0)\n",
        "country_df.reset_index(inplace=True, drop=True)\n",
        "country_df=pd.concat([train_df, country_df])"
      ]
    },
    {
      "cell_type": "markdown",
      "metadata": {
        "id": "cEC7BNv11qNl"
      },
      "source": [
        "## 사고유형에 따라 데이터 분리"
      ]
    },
    {
      "cell_type": "code",
      "execution_count": 132,
      "metadata": {
        "colab": {
          "base_uri": "https://localhost:8080/",
          "height": 71
        },
        "id": "BvY_oxxi0zeJ",
        "outputId": "dd043dc5-5945-4cb3-9dd9-8b34b1b57487"
      },
      "outputs": [
        {
          "data": {
            "text/plain": [
              "(26620, 29)"
            ]
          },
          "metadata": {},
          "output_type": "display_data"
        },
        {
          "data": {
            "text/plain": [
              "(489871, 29)"
            ]
          },
          "metadata": {},
          "output_type": "display_data"
        },
        {
          "data": {
            "text/plain": [
              "(113105, 29)"
            ]
          },
          "metadata": {},
          "output_type": "display_data"
        }
      ],
      "source": [
        "train1=country_df[country_df[\"사고유형\"]==\"차량단독\"]\n",
        "train2=country_df[country_df[\"사고유형\"]==\"차대차\"]\n",
        "train3=country_df[country_df[\"사고유형\"]==\"차대사람\"]\n",
        "test1=test_df[test_df[\"사고유형\"]==\"차량단독\"]\n",
        "test2=test_df[test_df[\"사고유형\"]==\"차대차\"]\n",
        "test3=test_df[test_df[\"사고유형\"]==\"차대사람\"]\n",
        "\n",
        "display(train1.shape)\n",
        "display(train2.shape)\n",
        "display(train3.shape)"
      ]
    },
    {
      "cell_type": "code",
      "execution_count": 133,
      "metadata": {
        "id": "jwkXYkFDJFcM"
      },
      "outputs": [],
      "source": [
        "# 컬렴 별 위험도를 측정 후 구 별로 컬럼별 발생 비율을 반영한 가중치\n",
        "def danger(df, column):\n",
        "    col=str(column)\n",
        "    column_dangerous=df[[col, \"ECLO\"]].groupby(col).mean()\n",
        "    column_dangerous.columns=[col+\"_dangerous\"]\n",
        "    column_count=df[[\"도시\", \"구\", col]]\n",
        "    column_count[\"cnt\"]=1\n",
        "    column_count=column_count.groupby([\"도시\", \"구\", col]).count()\n",
        "    column_count.reset_index(inplace=True)\n",
        "    temp=pd.merge(column_count, column_dangerous, how=\"left\", on=[col])\n",
        "    temp['multiply'] = temp['cnt']*temp[col+'_dangerous']\n",
        "    temp = temp.groupby(['도시','구']).sum().reset_index().drop([col+\"_dangerous\"],axis=1)\n",
        "    temp[col+'_dangerous'] = temp['multiply']/temp['cnt']\n",
        "    temp.drop([column,'multiply','cnt'],axis=1,inplace=True)\n",
        "    return temp"
      ]
    },
    {
      "cell_type": "code",
      "execution_count": 134,
      "metadata": {
        "id": "VLCHf37iayA4"
      },
      "outputs": [],
      "source": [
        "#차량 단독\n",
        "def feat_eng1(df) :\n",
        "    global test1\n",
        "    # == 이상치 1% 제거\n",
        "    sns.boxplot(x=\"ECLO\", data=df)\n",
        "    plt.show()\n",
        "    def set_limit(column):\n",
        "        return np.quantile(column, 0.999)\n",
        "\n",
        "    df_copy = df.copy()\n",
        "    df_copy = df_copy[[ '노면상태', '사고유형', '사고유형 - 세부분류', '도로형태', 'ECLO']]\n",
        "    df_copy.reset_index(inplace=True, drop=True)\n",
        "\n",
        "    outlier_idxs = []\n",
        "    for col in df_copy.columns[:-1]:\n",
        "        temp_df = pd.DataFrame(df_copy.groupby(col)['ECLO'].agg(set_limit)).reset_index()\n",
        "        for j in range(len(temp_df)):\n",
        "            s_idxs = df[(df[col] == temp_df.loc[j, col]) & (df['ECLO'] > temp_df.loc[j, 'ECLO'])].index.to_list()\n",
        "            outlier_idxs = outlier_idxs + s_idxs\n",
        "    outliers = list(set(outlier_idxs))\n",
        "\n",
        "    print('outlier 수 : ', len(outliers))\n",
        "\n",
        "    df = df.drop(outliers, axis=0)\n",
        "    df.reset_index(inplace=True, drop=True)\n",
        "\n",
        "    print(len(df))\n",
        "    sns.boxplot(x=\"ECLO\", data=df)\n",
        "    plt.show()\n",
        "\n",
        "    # == 사고유형 -> drop\n",
        "    df.drop([\"사고유형\"], axis=1, inplace=True)\n",
        "\n",
        "    # == 지역별 가해운전자 & 피해운전자 평균 연령 추출\n",
        "    age_mean = df[['도시','구','동','가해운전자 연령']].groupby(['도시', '구','동']).mean()\n",
        "    age_mean.columns = ['가해운전자 평균연령']\n",
        "    df = pd.merge(df, age_mean, how=\"left\", on=[\"도시\", \"구\", \"동\"])\n",
        "    test_eng = pd.merge(test1, age_mean, how=\"left\", on=[\"도시\", \"구\", \"동\"]).drop(columns=[\"사고유형\"])\n",
        "    test_eng[['가해운전자 평균연령']]=test_eng[['가해운전자 평균연령']].fillna(test_eng[['가해운전자 평균연령']].mean())\n",
        "\n",
        "    # == 지역별 가해운전자 & 피해운전자 평균 성별 추출\n",
        "    def sex_transform(x):\n",
        "        if x=='남':\n",
        "            return 1\n",
        "        elif x=='여':\n",
        "            return 0\n",
        "        else:\n",
        "            return np.NaN\n",
        "    df['가해운전자 성별'] = df['가해운전자 성별'].apply(lambda x:sex_transform(x))\n",
        "    sex_mean = df[['도시','구','동','가해운전자 성별']].groupby(['도시', '구','동']).mean()\n",
        "    sex_mean.columns = ['가해운전자 평균성별']\n",
        "    df = pd.merge(df, sex_mean, how=\"left\", on=[\"도시\", \"구\", \"동\"])\n",
        "    test_eng = pd.merge(test_eng, sex_mean, how=\"left\", on=[\"도시\", \"구\", \"동\"])\n",
        "    test_eng[['가해운전자 평균성별']] = test_eng[['가해운전자 평균성별']].fillna(test_eng[['가해운전자 평균성별']].mean())\n",
        "    \n",
        "    # == 가해노인운전자 위험도\n",
        "    def sepa(x):\n",
        "        if x>=65 :\n",
        "            return 1\n",
        "        else :\n",
        "            return 0\n",
        "        \n",
        "    df[\"가해운전자 연령\"]=df[\"가해운전자 연령\"].apply(sepa)\n",
        "    old_count = df[[\"도시\", \"구\", \"가해운전자 연령\"]]\n",
        "    old_count[\"cnt\"]=1\n",
        "    old_count = old_count.groupby([\"도시\", \"구\"]).sum().reset_index()\n",
        "    old_count[\"ratio\"]=old_count[\"가해운전자 연령\"]/old_count[\"cnt\"]\n",
        "    old_eclo=df[df[\"가해운전자 연령\"]==1][[\"도시\", \"구\", \"ECLO\"]]\n",
        "    old_eclo = old_eclo.groupby([\"도시\", \"구\"]).mean().reset_index()\n",
        "    temp=pd.merge(old_count, old_eclo, how=\"left\", on=[\"도시\", \"구\"])\n",
        "    temp.fillna(0, inplace=True)\n",
        "    temp[\"가해노인운전자 위험도\"]=temp[\"ratio\"]*temp[\"ECLO\"]\n",
        "    temp.drop([\"가해운전자 연령\", \"cnt\", \"ratio\", \"ECLO\"], axis=1, inplace=True)\n",
        "\n",
        "    df = pd.merge(df, temp, how=\"left\", on=[\"도시\", \"구\"])\n",
        "    test_eng = pd.merge(test_eng, temp, how=\"left\", on=[\"도시\", \"구\"])\n",
        "\n",
        "    # 가해운전자 차종 별 위험도\n",
        "    danger1=danger(df, \"가해운전자 차종\")\n",
        "\n",
        "    df = pd.merge(df, danger1, how=\"left\", on=[\"도시\", \"구\"])\n",
        "    test_eng = pd.merge(test_eng, danger1, how=\"left\", on=[\"도시\", \"구\"])\n",
        "\n",
        "    # == 칼럼 동기화\n",
        "    test_eng = test_eng.drop(columns=[\"ID\"])\n",
        "    ytrain = df[\"ECLO\"]\n",
        "    df = df[test_eng.columns]\n",
        "\n",
        "\n",
        "    # == 원핫 인코딩\n",
        "    one_hot_features=['노면상태',\"도로형태1\"]\n",
        "\n",
        "    train_oh=pd.get_dummies(df[one_hot_features])\n",
        "    test_oh=pd.get_dummies(test_eng[one_hot_features])\n",
        "\n",
        "    for i in train_oh.columns:\n",
        "        if i not in test_oh.columns:\n",
        "            test_oh[i]=0\n",
        "    for i in test_oh.columns:\n",
        "        if i not in train_oh.columns:\n",
        "            train_oh[i]=0\n",
        "\n",
        "    display(len(test_oh.columns),len(train_oh.columns))\n",
        "\n",
        "    df.drop(one_hot_features,axis=1,inplace=True)\n",
        "    test_eng.drop(one_hot_features,axis=1,inplace=True)\n",
        "\n",
        "    df=pd.concat([df,train_oh],axis=1)\n",
        "    test_eng=pd.concat([test_eng,test_oh],axis=1)\n",
        "\n",
        "    df=df.drop(columns=[\"일\"])\n",
        "    # == 레이블 인코딩\n",
        "    label_features = [\"요일\", \"도시\", \"구\", \"동\", \"도로형태\"]\n",
        "\n",
        "    display(label_features)\n",
        "\n",
        "    for i in label_features:\n",
        "        print(i)\n",
        "        le = LabelEncoder()\n",
        "        le=le.fit(df[i])\n",
        "        df[i]=le.transform(df[i])\n",
        "\n",
        "        for case in np.unique(test_eng[i]):\n",
        "            if case not in le.classes_:\n",
        "                print('test case is not in classes')\n",
        "                le.classes_ = np.append(le.classes_, case)\n",
        "        test_eng[i]=le.transform(test_eng[i])\n",
        "\n",
        "    # == 타겟 인코딩\n",
        "\n",
        "    return df, ytrain ,test_eng"
      ]
    },
    {
      "cell_type": "code",
      "execution_count": 135,
      "metadata": {
        "id": "9EngD9lXhUqx"
      },
      "outputs": [],
      "source": [
        "# 차대차\n",
        "def feat_eng2(df) :\n",
        "    global test2\n",
        "    # == 이상치 1% 제거\n",
        "    sns.boxplot(x=\"ECLO\", data=df)\n",
        "    plt.show()\n",
        "    def set_limit(column):\n",
        "        return np.quantile(column, 0.999)\n",
        "\n",
        "    df_copy = df.copy()\n",
        "    df_copy = df_copy[[ '노면상태', '사고유형', '사고유형 - 세부분류', '도로형태', 'ECLO']]\n",
        "    df_copy.reset_index(inplace=True, drop=True)\n",
        "\n",
        "    outlier_idxs = []\n",
        "    for col in df_copy.columns[:-1]:\n",
        "        temp_df = pd.DataFrame(df_copy.groupby(col)['ECLO'].agg(set_limit)).reset_index()\n",
        "        for j in range(len(temp_df)):\n",
        "            s_idxs = df[(df[col] == temp_df.loc[j, col]) & (df['ECLO'] > temp_df.loc[j, 'ECLO'])].index.to_list()\n",
        "            outlier_idxs = outlier_idxs + s_idxs\n",
        "    outliers = list(set(outlier_idxs))\n",
        "\n",
        "    print('outlier 수 : ', len(outliers))\n",
        "\n",
        "    df = df.drop(outliers, axis=0)\n",
        "    df.reset_index(inplace=True, drop=True)\n",
        "\n",
        "    print(len(df))\n",
        "    sns.boxplot(x=\"ECLO\", data=df)\n",
        "    plt.show()\n",
        "\n",
        "    # == 사고유형 -> drop\n",
        "    df.drop([\"사고유형\"], axis=1, inplace=True)\n",
        "\n",
        "    # == 지역별 가해운전자 & 피해운전자 평균 연령 추출\n",
        "    age_mean = df[['도시','구','동','가해운전자 연령', \"피해운전자 연령\"]].groupby(['도시', '구','동']).mean()\n",
        "    age_mean.columns = ['가해운전자 평균연령', \"피해운전자 평균연령\"]\n",
        "    df = pd.merge(df, age_mean, how=\"left\", on=[\"도시\", \"구\", \"동\"])\n",
        "    test_eng = pd.merge(test2, age_mean, how=\"left\", on=[\"도시\", \"구\", \"동\"]).drop(columns=[\"사고유형\"])\n",
        "    test_eng[['가해운전자 평균연령','피해운전자 평균연령']]=test_eng[['가해운전자 평균연령','피해운전자 평균연령']].fillna(test_eng[['가해운전자 평균연령','피해운전자 평균연령']].mean())\n",
        "\n",
        "    # == 지역별 가해운전자 & 피해운전자 평균 성별 추출\n",
        "    def sex_transform(x):\n",
        "        if x=='남':\n",
        "            return 1\n",
        "        elif x=='여':\n",
        "            return 0\n",
        "        else:\n",
        "            return np.NaN\n",
        "    df['가해운전자 성별'] = df['가해운전자 성별'].apply(lambda x:sex_transform(x))\n",
        "    df['피해운전자 성별'] = df['피해운전자 성별'].apply(lambda x:sex_transform(x))\n",
        "    sex_mean = df[['도시','구','동','가해운전자 성별','피해운전자 성별']].groupby(['도시', '구','동']).mean()\n",
        "    sex_mean.columns = ['가해운전자 평균성별','피해운전자 평균성별']\n",
        "    df = pd.merge(df, sex_mean, how=\"left\", on=[\"도시\", \"구\", \"동\"])\n",
        "    test_eng = pd.merge(test_eng, sex_mean, how=\"left\", on=[\"도시\", \"구\", \"동\"])\n",
        "    test_eng[['가해운전자 평균성별','피해운전자 평균성별']]=test_eng[['가해운전자 평균성별','피해운전자 평균성별']].fillna(test_eng[['가해운전자 평균성별','피해운전자 평균성별']].mean())\n",
        "\n",
        "    # 가해운전자 차종 별 위험도\n",
        "    danger21=danger(df, \"가해운전자 차종\")\n",
        "\n",
        "    df = pd.merge(df, danger21, how=\"left\", on=[\"도시\", \"구\"])\n",
        "    test_eng = pd.merge(test_eng, danger21, how=\"left\", on=[\"도시\", \"구\"])\n",
        "    # 피해운전자 차종 별 위험도\n",
        "    danger22=danger(df, \"피해운전자 차종\")\n",
        "\n",
        "    df = pd.merge(df, danger22, how=\"left\", on=[\"도시\", \"구\"])\n",
        "    test_eng = pd.merge(test_eng, danger22, how=\"left\", on=[\"도시\", \"구\"])\n",
        "\n",
        "    # == 칼럼 동기화\n",
        "    test_eng = test_eng.drop(columns=[\"ID\"])\n",
        "    ytrain = df[\"ECLO\"]\n",
        "    df = df[test_eng.columns]\n",
        "\n",
        "\n",
        "    # == 원핫 인코딩\n",
        "    one_hot_features=['노면상태', \"도로형태1\"]\n",
        "\n",
        "    train_oh=pd.get_dummies(df[one_hot_features])\n",
        "    test_oh=pd.get_dummies(test_eng[one_hot_features])\n",
        "\n",
        "    for i in train_oh.columns:\n",
        "        if i not in test_oh.columns:\n",
        "            test_oh[i]=0\n",
        "    for i in test_oh.columns:\n",
        "        if i not in train_oh.columns:\n",
        "            train_oh[i]=0\n",
        "\n",
        "    display(len(test_oh.columns),len(train_oh.columns))\n",
        "\n",
        "    df.drop(one_hot_features,axis=1,inplace=True)\n",
        "    test_eng.drop(one_hot_features,axis=1,inplace=True)\n",
        "\n",
        "    df=pd.concat([df,train_oh],axis=1)\n",
        "    test_eng=pd.concat([test_eng,test_oh],axis=1)\n",
        "\n",
        "    df=df.drop(columns=[\"일\"])\n",
        "    # == 레이블 인코딩\n",
        "    label_features = [\"요일\", \"도시\", \"구\", \"동\", \"도로형태\"]\n",
        "\n",
        "    display(label_features)\n",
        "\n",
        "    for i in label_features:\n",
        "        print(i)\n",
        "        le = LabelEncoder()\n",
        "        le=le.fit(df[i])\n",
        "        df[i]=le.transform(df[i])\n",
        "\n",
        "        for case in np.unique(test_eng[i]):\n",
        "            if case not in le.classes_:\n",
        "                print('test case is not in classes')\n",
        "                le.classes_ = np.append(le.classes_, case)\n",
        "        test_eng[i]=le.transform(test_eng[i])\n",
        "\n",
        "    # == 타겟 인코딩\n",
        "\n",
        "    return df, ytrain ,test_eng"
      ]
    },
    {
      "cell_type": "code",
      "execution_count": 136,
      "metadata": {
        "id": "Qzxg9981kGpq"
      },
      "outputs": [],
      "source": [
        "# 차대 사람\n",
        "def feat_eng3(df) :\n",
        "    global test3\n",
        "    # == 이상치 1% 제거\n",
        "    sns.boxplot(x=\"ECLO\", data=df)\n",
        "    plt.show()\n",
        "    def set_limit(column):\n",
        "        return np.quantile(column, 0.999)\n",
        "\n",
        "    df_copy = df.copy()\n",
        "    df_copy = df_copy[[ '노면상태', '사고유형', '사고유형 - 세부분류', '도로형태', 'ECLO']]\n",
        "    df_copy.reset_index(inplace=True, drop=True)\n",
        "\n",
        "    outlier_idxs = []\n",
        "    for col in df_copy.columns[:-1]:\n",
        "        temp_df = pd.DataFrame(df_copy.groupby(col)['ECLO'].agg(set_limit)).reset_index()\n",
        "        for j in range(len(temp_df)):\n",
        "            s_idxs = df[(df[col] == temp_df.loc[j, col]) & (df['ECLO'] > temp_df.loc[j, 'ECLO'])].index.to_list()\n",
        "            outlier_idxs = outlier_idxs + s_idxs\n",
        "    outliers = list(set(outlier_idxs))\n",
        "\n",
        "    print('outlier 수 : ', len(outliers))\n",
        "\n",
        "    df = df.drop(outliers, axis=0)\n",
        "    df.reset_index(inplace=True, drop=True)\n",
        "\n",
        "    print(len(df))\n",
        "    sns.boxplot(x=\"ECLO\", data=df)\n",
        "    plt.show()\n",
        "\n",
        "    # == 사고유형 -> drop\n",
        "    df.drop([\"사고유형\"], axis=1, inplace=True)\n",
        "\n",
        "    # == 지역별 가해운전자 & 피해운전자 평균 연령 추출\n",
        "    age_mean = df[['도시','구','동','가해운전자 연령', \"피해운전자 연령\"]].groupby(['도시', '구','동']).mean()\n",
        "    age_mean.columns = ['가해운전자 평균연령', \"피해운전자 평균연령\"]\n",
        "    df = pd.merge(df, age_mean, how=\"left\", on=[\"도시\", \"구\", \"동\"])\n",
        "    test_eng = pd.merge(test3, age_mean, how=\"left\", on=[\"도시\", \"구\", \"동\"]).drop(columns=[\"사고유형\"])\n",
        "    test_eng[['가해운전자 평균연령','피해운전자 평균연령']]=test_eng[['가해운전자 평균연령','피해운전자 평균연령']].fillna(test_eng[['가해운전자 평균연령','피해운전자 평균연령']].mean())\n",
        "\n",
        "    # == 지역별 가해운전자 & 피해운전자 평균 성별 추출\n",
        "    def sex_transform(x):\n",
        "        if x=='남':\n",
        "            return 1\n",
        "        elif x=='여':\n",
        "            return 0\n",
        "        else:\n",
        "            return np.NaN\n",
        "    df['가해운전자 성별'] = df['가해운전자 성별'].apply(lambda x:sex_transform(x))\n",
        "    df['피해운전자 성별'] = df['피해운전자 성별'].apply(lambda x:sex_transform(x))\n",
        "    sex_mean = df[['도시','구','동','가해운전자 성별','피해운전자 성별']].groupby(['도시', '구','동']).mean()\n",
        "    sex_mean.columns = ['가해운전자 평균성별','피해운전자 평균성별']\n",
        "    df = pd.merge(df, sex_mean, how=\"left\", on=[\"도시\", \"구\", \"동\"])\n",
        "    test_eng = pd.merge(test_eng, sex_mean, how=\"left\", on=[\"도시\", \"구\", \"동\"])\n",
        "    test_eng[['가해운전자 평균성별','피해운전자 평균성별']]=test_eng[['가해운전자 평균성별','피해운전자 평균성별']].fillna(test_eng[['가해운전자 평균성별','피해운전자 평균성별']].mean())\n",
        "\n",
        "    # == 피해 & 가해 노인운전자 위험도\n",
        "    def sepa(x):\n",
        "        if x>=65 :\n",
        "            return 1\n",
        "        else :\n",
        "            return 0\n",
        "    # df[\"가해운전자 연령\"]=df[\"가해운전자 연령\"].apply(sepa)\n",
        "    # old_count1 = df[[\"도시\", \"구\", \"가해운전자 연령\"]]\n",
        "    # old_count1[\"cnt\"]=1\n",
        "    # old_count1 = old_count1.groupby([\"도시\", \"구\"]).sum().reset_index()\n",
        "    # old_count1[\"ratio\"]=old_count1[\"가해운전자 연령\"]/old_count1[\"cnt\"]\n",
        "    # old_eclo1=df[df[\"가해운전자 연령\"]==1][[\"도시\", \"구\", \"ECLO\"]]\n",
        "    # old_eclo1 = old_eclo1.groupby([\"도시\", \"구\"]).mean().reset_index()\n",
        "    # temp1=pd.merge(old_count1, old_eclo1, how=\"left\", on=[\"도시\", \"구\"])\n",
        "    # temp1.fillna(0, inplace=True)\n",
        "    # temp1[\"가해노인운전자 위험도\"]=temp1[\"ratio\"]*temp1[\"ECLO\"]\n",
        "    # temp1.drop([\"가해운전자 연령\", \"cnt\", \"ratio\", \"ECLO\"], axis=1, inplace=True)\n",
        "\n",
        "    df[\"피해운전자 연령\"]=df[\"피해운전자 연령\"].apply(sepa)\n",
        "    old_count2 = df[[\"도시\", \"구\", \"피해운전자 연령\"]]\n",
        "    old_count2[\"cnt\"]=1\n",
        "    old_count2 = old_count2.groupby([\"도시\", \"구\"]).sum().reset_index()\n",
        "    old_count2[\"ratio\"]=old_count2[\"피해운전자 연령\"]/old_count2[\"cnt\"]\n",
        "    old_eclo2=df[df[\"피해운전자 연령\"]==1][[\"도시\", \"구\", \"ECLO\"]]\n",
        "    old_eclo2 = old_eclo2.groupby([\"도시\", \"구\"]).mean().reset_index()\n",
        "    temp2=pd.merge(old_count2, old_eclo2, how=\"left\", on=[\"도시\", \"구\"])\n",
        "    temp2.fillna(0, inplace=True)\n",
        "    temp2[\"피해노인운전자 위험도\"]=temp2[\"ratio\"]*temp2[\"ECLO\"]\n",
        "    temp2.drop([\"피해운전자 연령\", \"cnt\", \"ratio\", \"ECLO\"], axis=1, inplace=True)\n",
        "\n",
        "    # df = pd.merge(df, temp1, how=\"left\", on=[\"도시\", \"구\"])\n",
        "    # test_eng = pd.merge(test_eng, temp1, how=\"left\", on=[\"도시\", \"구\"])\n",
        "    df = pd.merge(df, temp2, how=\"left\", on=[\"도시\", \"구\"])\n",
        "    test_eng = pd.merge(test_eng, temp2, how=\"left\", on=[\"도시\", \"구\"])\n",
        "\n",
        "    # 가해운전자 차종 별 위험도\n",
        "    danger31=danger(df, \"가해운전자 차종\")\n",
        "\n",
        "    df = pd.merge(df, danger31, how=\"left\", on=[\"도시\", \"구\"])\n",
        "    test_eng = pd.merge(test_eng, danger31, how=\"left\", on=[\"도시\", \"구\"])\n",
        "\n",
        "    # 피해운전자 차종 별 위험도\n",
        "    danger32=danger(df, \"피해운전자 차종\")\n",
        "\n",
        "    df = pd.merge(df, danger32, how=\"left\", on=[\"도시\", \"구\"])\n",
        "    test_eng = pd.merge(test_eng, danger32, how=\"left\", on=[\"도시\", \"구\"])\n",
        "\n",
        "    # == 칼럼 동기화\n",
        "    test_eng = test_eng.drop(columns=[\"ID\"])\n",
        "    ytrain = df[\"ECLO\"]\n",
        "    df = df[test_eng.columns]\n",
        "\n",
        "\n",
        "    # == 원핫 인코딩\n",
        "    one_hot_features=['노면상태', \"도로형태1\"]\n",
        "\n",
        "    train_oh=pd.get_dummies(df[one_hot_features])\n",
        "    test_oh=pd.get_dummies(test_eng[one_hot_features])\n",
        "\n",
        "    for i in train_oh.columns:\n",
        "        if i not in test_oh.columns:\n",
        "            test_oh[i]=0\n",
        "    for i in test_oh.columns:\n",
        "        if i not in train_oh.columns:\n",
        "            train_oh[i]=0\n",
        "\n",
        "    display(len(test_oh.columns),len(train_oh.columns))\n",
        "\n",
        "    df.drop(one_hot_features,axis=1,inplace=True)\n",
        "    test_eng.drop(one_hot_features,axis=1,inplace=True)\n",
        "\n",
        "    df=pd.concat([df,train_oh],axis=1)\n",
        "    test_eng=pd.concat([test_eng,test_oh],axis=1)\n",
        "\n",
        "    df=df.drop(columns=[\"일\"])\n",
        "    # == 레이블 인코딩\n",
        "    label_features = [\"요일\", \"도시\", \"구\", \"동\", \"도로형태\"]\n",
        "\n",
        "    display(label_features)\n",
        "\n",
        "    for i in label_features:\n",
        "        print(i)\n",
        "        le = LabelEncoder()\n",
        "        le=le.fit(df[i])\n",
        "        df[i]=le.transform(df[i])\n",
        "\n",
        "        for case in np.unique(test_eng[i]):\n",
        "            if case not in le.classes_:\n",
        "                print('test case is not in classes')\n",
        "                le.classes_ = np.append(le.classes_, case)\n",
        "        test_eng[i]=le.transform(test_eng[i])\n",
        "\n",
        "    # == 타겟 인코딩\n",
        "\n",
        "    return df, ytrain ,test_eng"
      ]
    },
    {
      "cell_type": "code",
      "execution_count": 137,
      "metadata": {},
      "outputs": [
        {
          "data": {
            "text/plain": [
              "Index(['ID', '요일', '도로형태', '노면상태', '사고유형', '사고유형 - 세부분류', '법규위반', '가해운전자 차종',\n",
              "       '가해운전자 성별', '가해운전자 연령', '가해운전자 상해정도', '피해운전자 차종', '피해운전자 성별',\n",
              "       '피해운전자 연령', '피해운전자 상해정도', '사망자수', '중상자수', '경상자수', '부상자수', 'ECLO', '연',\n",
              "       '월', '일', '시간', 'Holiday', '도시', '구', '동', '도로형태1'],\n",
              "      dtype='object')"
            ]
          },
          "execution_count": 137,
          "metadata": {},
          "output_type": "execute_result"
        }
      ],
      "source": [
        "train1.columns"
      ]
    },
    {
      "cell_type": "code",
      "execution_count": 138,
      "metadata": {
        "colab": {
          "base_uri": "https://localhost:8080/",
          "height": 1000
        },
        "id": "At9HPbk9cA9v",
        "outputId": "155ee681-dd40-44c8-bbe4-a44de43bc014"
      },
      "outputs": [
        {
          "data": {
            "image/png": "[encoded data removed]",
            "text/plain": [
              "<Figure size 640x480 with 1 Axes>"
            ]
          },
          "metadata": {},
          "output_type": "display_data"
        },
        {
          "name": "stdout",
          "output_type": "stream",
          "text": [
            "outlier 수 :  42\n",
            "26575\n"
          ]
        },
        {
          "data": {
            "image/png": "[encoded data removed]",
            "text/plain": [
              "<Figure size 640x480 with 1 Axes>"
            ]
          },
          "metadata": {},
          "output_type": "display_data"
        },
        {
          "data": {
            "text/plain": [
              "11"
            ]
          },
          "metadata": {},
          "output_type": "display_data"
        },
        {
          "data": {
            "text/plain": [
              "11"
            ]
          },
          "metadata": {},
          "output_type": "display_data"
        },
        {
          "data": {
            "text/plain": [
              "['요일', '도시', '구', '동', '도로형태']"
            ]
          },
          "metadata": {},
          "output_type": "display_data"
        },
        {
          "name": "stdout",
          "output_type": "stream",
          "text": [
            "요일\n",
            "도시\n",
            "구\n",
            "동\n",
            "test case is not in classes\n",
            "test case is not in classes\n",
            "test case is not in classes\n",
            "test case is not in classes\n",
            "test case is not in classes\n",
            "test case is not in classes\n",
            "test case is not in classes\n",
            "도로형태\n"
          ]
        },
        {
          "data": {
            "image/png": "[encoded data removed]",
            "text/plain": [
              "<Figure size 640x480 with 1 Axes>"
            ]
          },
          "metadata": {},
          "output_type": "display_data"
        },
        {
          "name": "stdout",
          "output_type": "stream",
          "text": [
            "outlier 수 :  634\n",
            "489180\n"
          ]
        },
        {
          "data": {
            "image/png": "[encoded data removed]",
            "text/plain": [
              "<Figure size 640x480 with 1 Axes>"
            ]
          },
          "metadata": {},
          "output_type": "display_data"
        },
        {
          "data": {
            "text/plain": [
              "11"
            ]
          },
          "metadata": {},
          "output_type": "display_data"
        },
        {
          "data": {
            "text/plain": [
              "11"
            ]
          },
          "metadata": {},
          "output_type": "display_data"
        },
        {
          "data": {
            "text/plain": [
              "['요일', '도시', '구', '동', '도로형태']"
            ]
          },
          "metadata": {},
          "output_type": "display_data"
        },
        {
          "name": "stdout",
          "output_type": "stream",
          "text": [
            "요일\n",
            "도시\n",
            "구\n",
            "동\n",
            "도로형태\n"
          ]
        },
        {
          "data": {
            "image/png": "[encoded data removed]",
            "text/plain": [
              "<Figure size 640x480 with 1 Axes>"
            ]
          },
          "metadata": {},
          "output_type": "display_data"
        },
        {
          "name": "stdout",
          "output_type": "stream",
          "text": [
            "outlier 수 :  125\n",
            "112976\n"
          ]
        },
        {
          "data": {
            "image/png": "[encoded data removed]",
            "text/plain": [
              "<Figure size 640x480 with 1 Axes>"
            ]
          },
          "metadata": {},
          "output_type": "display_data"
        },
        {
          "data": {
            "text/plain": [
              "11"
            ]
          },
          "metadata": {},
          "output_type": "display_data"
        },
        {
          "data": {
            "text/plain": [
              "11"
            ]
          },
          "metadata": {},
          "output_type": "display_data"
        },
        {
          "data": {
            "text/plain": [
              "['요일', '도시', '구', '동', '도로형태']"
            ]
          },
          "metadata": {},
          "output_type": "display_data"
        },
        {
          "name": "stdout",
          "output_type": "stream",
          "text": [
            "요일\n",
            "도시\n",
            "구\n",
            "동\n",
            "test case is not in classes\n",
            "test case is not in classes\n",
            "test case is not in classes\n",
            "test case is not in classes\n",
            "도로형태\n"
          ]
        }
      ],
      "source": [
        "X_train_eng1, y_train1, X_test_eng1=feat_eng1(train1)\n",
        "X_train_eng2, y_train2, X_test_eng2=feat_eng2(train2)\n",
        "X_train_eng3, y_train3, X_test_eng3=feat_eng3(train3)"
      ]
    },
    {
      "cell_type": "code",
      "execution_count": 139,
      "metadata": {
        "colab": {
          "base_uri": "https://localhost:8080/"
        },
        "id": "0xoxKAxkHLLY",
        "outputId": "283180a2-daf5-4c0f-a526-c10b96a708a5"
      },
      "outputs": [
        {
          "name": "stdout",
          "output_type": "stream",
          "text": [
            "0\n",
            "0\n",
            "0\n",
            "0\n",
            "0\n",
            "0\n",
            "0\n",
            "0\n",
            "0\n"
          ]
        }
      ],
      "source": [
        "print(X_train_eng1.isnull().sum().sum())\n",
        "print(X_test_eng1.isnull().sum().sum())\n",
        "print(y_train1.isnull().sum().sum())\n",
        "print(X_train_eng2.isnull().sum().sum())\n",
        "print(X_test_eng2.isnull().sum().sum())\n",
        "print(y_train2.isnull().sum().sum())\n",
        "print(X_train_eng3.isnull().sum().sum())\n",
        "print(X_test_eng3.isnull().sum().sum())\n",
        "print(y_train3.isnull().sum().sum())"
      ]
    },
    {
      "cell_type": "code",
      "execution_count": 140,
      "metadata": {
        "colab": {
          "base_uri": "https://localhost:8080/"
        },
        "id": "Ic2gWVy5JlTX",
        "outputId": "74034686-98c4-466c-edc3-026d2817367c"
      },
      "outputs": [
        {
          "data": {
            "text/plain": [
              "Index(['요일', '도로형태', '연', '월', '시간', 'Holiday', '도시', '구', '동', '가해운전자 평균연령',\n",
              "       '가해운전자 평균성별', '가해노인운전자 위험도', '가해운전자 차종_dangerous', '노면상태_건조', '노면상태_기타',\n",
              "       '노면상태_서리/결빙', '노면상태_적설', '노면상태_젖음/습기', '노면상태_침수', '도로형태1_교차로',\n",
              "       '도로형태1_기타', '도로형태1_단일로', '도로형태1_미분류', '도로형태1_주차장'],\n",
              "      dtype='object')"
            ]
          },
          "execution_count": 140,
          "metadata": {},
          "output_type": "execute_result"
        }
      ],
      "source": [
        "X_train_eng1.columns"
      ]
    },
    {
      "cell_type": "code",
      "execution_count": 141,
      "metadata": {
        "colab": {
          "base_uri": "https://localhost:8080/"
        },
        "id": "vlRyIXhRJup-",
        "outputId": "2856d4b4-3481-4115-def4-fe4aa8aa0450"
      },
      "outputs": [
        {
          "data": {
            "text/plain": [
              "Index(['요일', '도로형태', '연', '월', '시간', 'Holiday', '도시', '구', '동', '가해운전자 평균연령',\n",
              "       '피해운전자 평균연령', '가해운전자 평균성별', '피해운전자 평균성별', '가해운전자 차종_dangerous',\n",
              "       '피해운전자 차종_dangerous', '노면상태_건조', '노면상태_기타', '노면상태_서리/결빙', '노면상태_적설',\n",
              "       '노면상태_젖음/습기', '노면상태_침수', '도로형태1_교차로', '도로형태1_기타', '도로형태1_단일로',\n",
              "       '도로형태1_미분류', '도로형태1_주차장'],\n",
              "      dtype='object')"
            ]
          },
          "execution_count": 141,
          "metadata": {},
          "output_type": "execute_result"
        }
      ],
      "source": [
        "X_train_eng2.columns"
      ]
    },
    {
      "cell_type": "code",
      "execution_count": 142,
      "metadata": {
        "colab": {
          "base_uri": "https://localhost:8080/"
        },
        "id": "XFCkvF-PJu8f",
        "outputId": "6c9b139b-de00-4ae6-d9bb-0b5dc85dae7d"
      },
      "outputs": [
        {
          "data": {
            "text/plain": [
              "Index(['요일', '도로형태', '연', '월', '시간', 'Holiday', '도시', '구', '동', '가해운전자 평균연령',\n",
              "       '피해운전자 평균연령', '가해운전자 평균성별', '피해운전자 평균성별', '피해노인운전자 위험도',\n",
              "       '가해운전자 차종_dangerous', '피해운전자 차종_dangerous', '노면상태_건조', '노면상태_기타',\n",
              "       '노면상태_서리/결빙', '노면상태_적설', '노면상태_젖음/습기', '노면상태_침수', '도로형태1_교차로',\n",
              "       '도로형태1_기타', '도로형태1_단일로', '도로형태1_미분류', '도로형태1_주차장'],\n",
              "      dtype='object')"
            ]
          },
          "execution_count": 142,
          "metadata": {},
          "output_type": "execute_result"
        }
      ],
      "source": [
        "X_train_eng3.columns"
      ]
    },
    {
      "cell_type": "markdown",
      "metadata": {
        "id": "QNuKOhQBeZeo"
      },
      "source": [
        "# 하이퍼 파라미터 튜닝"
      ]
    },
    {
      "cell_type": "code",
      "execution_count": 143,
      "metadata": {
        "id": "WFiY2upXTTRf"
      },
      "outputs": [],
      "source": [
        "from sklearn.model_selection import train_test_split\n",
        "\n",
        "# Log transformation of target variable\n",
        "y_train_log_total1 = np.log1p(y_train1)\n",
        "X_train1, X_valid1, y_train_log1, y_valid_log1 = train_test_split(X_train_eng1, y_train_log_total1, test_size=0.2, random_state=42, shuffle=True)\n",
        "\n",
        "y_train_log_total2 = np.log1p(y_train2)\n",
        "X_train2, X_valid2, y_train_log2, y_valid_log2 = train_test_split(X_train_eng2, y_train_log_total2, test_size=0.2, random_state=42, shuffle=True)\n",
        "\n",
        "y_train_log_total3 = np.log1p(y_train3)\n",
        "X_train3, X_valid3, y_train_log3, y_valid_log3 = train_test_split(X_train_eng3, y_train_log_total3, test_size=0.2, random_state=42, shuffle=True)"
      ]
    },
    {
      "cell_type": "code",
      "execution_count": 144,
      "metadata": {
        "colab": {
          "base_uri": "https://localhost:8080/"
        },
        "id": "VBqOUYa1g5sS",
        "outputId": "3b83e259-7334-4ccf-ff61-14ad1651f818"
      },
      "outputs": [],
      "source": [
        "# !pip install optuna\n",
        "# !pip install catboost"
      ]
    },
    {
      "cell_type": "code",
      "execution_count": 145,
      "metadata": {
        "id": "OPZMGj83zRNr"
      },
      "outputs": [],
      "source": [
        "from lightgbm import LGBMRegressor, early_stopping\n",
        "import optuna\n",
        "from sklearn.metrics import mean_squared_log_error as msle\n",
        "\n",
        "def lgbm_modeling1(X_train, y_train, X_valid, y_valid):\n",
        "  def objective(trial):\n",
        "    param = {\n",
        "        'objective': 'regression',\n",
        "        'verbose': -1,\n",
        "        'metric': 'rmse',\n",
        "        'num_leaves': trial.suggest_int('num_leaves', 2, 16),\n",
        "        'colsample_bytree': trial.suggest_uniform('colsample_bytree', 0.7, 1.0),\n",
        "        'reg_alpha': trial.suggest_uniform('reg_alpha', 0.0, 1.0),\n",
        "        'reg_lambda': trial.suggest_uniform('reg_lambda', 0.0, 10.0),\n",
        "        'max_depth': trial.suggest_int('max_depth', 3, 8),\n",
        "        'learning_rate': trial.suggest_loguniform(\"learning_rate\", 1e-2, 0.1),\n",
        "        'n_estimators': trial.suggest_int('n_estimators', 100, 1000),\n",
        "        'min_child_samples': trial.suggest_int('min_child_samples', 20, 40),\n",
        "        'subsample': trial.suggest_uniform('subsample', 0.6, 1.0),\n",
        "    }\n",
        "\n",
        "    model = LGBMRegressor(**param, random_state=42, n_jobs=-1)\n",
        "    bst_lgbm = model.fit(X_train,y_train, eval_set = [(X_valid,y_valid)], eval_metric='rmse',callbacks=[early_stopping(stopping_rounds=100)])\n",
        "\n",
        "    preds = bst_lgbm.predict(X_valid)\n",
        "    if (preds<0).sum()>0:\n",
        "      print('negative')\n",
        "      preds = np.where(preds>0,preds,0)\n",
        "    loss = msle(y_valid,preds)\n",
        "\n",
        "    return np.sqrt(loss)\n",
        "\n",
        "  study_lgbm = optuna.create_study(direction='minimize',sampler=optuna.samplers.TPESampler(seed=100))\n",
        "  study_lgbm.optimize(objective,n_trials=30,show_progress_bar=True)\n",
        "\n",
        "  lgbm_reg = LGBMRegressor(**study_lgbm.best_params, random_state=42, n_jobs=-1)\n",
        "  lgbm_reg.fit(X_train,y_train,eval_set = [(X_valid,y_valid)], eval_metric='rmse', callbacks=[early_stopping(stopping_rounds=100)])\n",
        "\n",
        "  return lgbm_reg,study_lgbm"
      ]
    },
    {
      "cell_type": "code",
      "execution_count": 146,
      "metadata": {
        "id": "rFGITsAeVMp9"
      },
      "outputs": [],
      "source": [
        "from catboost import CatBoostRegressor, Pool\n",
        "import optuna\n",
        "from sklearn.metrics import mean_squared_log_error as msle\n",
        "\n",
        "def catboost_modeling1(X_train, y_train, X_valid, y_valid):\n",
        "    def objective(trial):\n",
        "        param = {\n",
        "            'iterations': trial.suggest_int(\"iterations\", 1000, 8000),\n",
        "            'od_wait': trial.suggest_int('od_wait', 500, 1500),\n",
        "            'learning_rate': trial.suggest_uniform('learning_rate', 0.01, 0.2),\n",
        "            'reg_lambda': trial.suggest_uniform('reg_lambda', 1e-5, 10),\n",
        "            'subsample': trial.suggest_uniform('subsample', 0.5, 1),\n",
        "            'random_strength': trial.suggest_uniform('random_strength', 10, 30),\n",
        "            'depth': trial.suggest_int('depth', 5, 12),\n",
        "            'min_data_in_leaf': trial.suggest_int('min_data_in_leaf', 1, 20),\n",
        "            'leaf_estimation_iterations': trial.suggest_int('leaf_estimation_iterations', 1, 10),\n",
        "            'bagging_temperature': trial.suggest_loguniform('bagging_temperature', 0.01, 10.00),\n",
        "            'colsample_bylevel': trial.suggest_float('colsample_bylevel', 0.4, 1.0),\n",
        "        }\n",
        "\n",
        "        model = CatBoostRegressor(**param, random_seed=42, thread_count=-1)\n",
        "        model.fit(X_train, y_train, eval_set=(X_valid, y_valid), early_stopping_rounds=100, verbose_eval=False)\n",
        "\n",
        "        preds = model.predict(X_valid)\n",
        "        if (preds < 0).sum() > 0:\n",
        "            print('Negative predictions found. Adjusting...')\n",
        "            preds = np.where(preds > 0, preds, 0)\n",
        "\n",
        "        loss = msle(y_valid, preds)\n",
        "\n",
        "        return np.sqrt(loss)\n",
        "\n",
        "    study_catboost = optuna.create_study(direction='minimize', sampler=optuna.samplers.TPESampler(seed=100))\n",
        "    study_catboost.optimize(objective, n_trials=30, show_progress_bar=True)\n",
        "\n",
        "    catboost_reg = CatBoostRegressor(**study_catboost.best_params, random_seed=42, thread_count=-1)\n",
        "    catboost_reg.fit(X_train, y_train, eval_set=(X_valid, y_valid), early_stopping_rounds=100, verbose_eval=False)\n",
        "\n",
        "    return catboost_reg, study_catboost"
      ]
    },
    {
      "cell_type": "code",
      "execution_count": 147,
      "metadata": {
        "id": "ekAk_I7p28HL"
      },
      "outputs": [],
      "source": [
        "def lgbm_modeling2(X_train, y_train, X_valid, y_valid):\n",
        "  def objective(trial):\n",
        "    param = {\n",
        "        'objective': 'regression',\n",
        "        'verbose': -1,\n",
        "        'metric': 'rmse',\n",
        "        'num_leaves': trial.suggest_int('num_leaves', 16, 512),\n",
        "        'colsample_bytree': trial.suggest_uniform('colsample_bytree', 0.7, 1.0),\n",
        "        'reg_alpha': trial.suggest_uniform('reg_alpha', 0.0, 1.0),\n",
        "        'reg_lambda': trial.suggest_uniform('reg_lambda', 0.0, 10.0),\n",
        "        'max_depth': trial.suggest_int('max_depth', 8, 15),\n",
        "        'learning_rate': trial.suggest_loguniform(\"learning_rate\", 1e-2, 0.1),\n",
        "        'n_estimators': trial.suggest_int('n_estimators', 1000, 3000),\n",
        "        'min_child_samples': trial.suggest_int('min_child_samples', 50, 100),\n",
        "        'subsample': trial.suggest_uniform('subsample', 0.8, 1.0),\n",
        "    }\n",
        "\n",
        "    model = LGBMRegressor(**param, random_state=42, n_jobs=-1)\n",
        "    bst_lgbm = model.fit(X_train,y_train, eval_set = [(X_valid,y_valid)], eval_metric='rmse',callbacks=[early_stopping(stopping_rounds=100)])\n",
        "\n",
        "    preds = bst_lgbm.predict(X_valid)\n",
        "    if (preds<0).sum()>0:\n",
        "      print('negative')\n",
        "      preds = np.where(preds>0,preds,0)\n",
        "    loss = msle(y_valid,preds)\n",
        "\n",
        "    return np.sqrt(loss)\n",
        "\n",
        "  study_lgbm = optuna.create_study(direction='minimize',sampler=optuna.samplers.TPESampler(seed=100))\n",
        "  study_lgbm.optimize(objective,n_trials=30,show_progress_bar=True)\n",
        "\n",
        "  lgbm_reg = LGBMRegressor(**study_lgbm.best_params, random_state=42, n_jobs=-1)\n",
        "  lgbm_reg.fit(X_train,y_train,eval_set = [(X_valid,y_valid)], eval_metric='rmse', callbacks=[early_stopping(stopping_rounds=100)])\n",
        "\n",
        "  return lgbm_reg,study_lgbm"
      ]
    },
    {
      "cell_type": "code",
      "execution_count": 148,
      "metadata": {
        "id": "wljxEyaiVrWJ"
      },
      "outputs": [],
      "source": [
        "from catboost import CatBoostRegressor, Pool\n",
        "import optuna\n",
        "from sklearn.metrics import mean_squared_log_error as msle\n",
        "\n",
        "def catboost_modeling2(X_train, y_train, X_valid, y_valid):\n",
        "    def objective(trial):\n",
        "        param = {\n",
        "            'iterations': trial.suggest_int(\"iterations\", 1000, 15000),\n",
        "            'od_wait': trial.suggest_int('od_wait', 500, 2000),\n",
        "            'learning_rate': trial.suggest_uniform('learning_rate', 0.01, 0.5),\n",
        "            'reg_lambda': trial.suggest_uniform('reg_lambda', 1e-5, 50),\n",
        "            'subsample': trial.suggest_uniform('subsample', 0.5, 1),\n",
        "            'random_strength': trial.suggest_uniform('random_strength', 10, 50),\n",
        "            'depth': trial.suggest_int('depth', 5, 15),\n",
        "            'min_data_in_leaf': trial.suggest_int('min_data_in_leaf', 1, 30),\n",
        "            'leaf_estimation_iterations': trial.suggest_int('leaf_estimation_iterations', 1, 15),\n",
        "            'bagging_temperature': trial.suggest_loguniform('bagging_temperature', 0.01, 100.00),\n",
        "            'colsample_bylevel': trial.suggest_float('colsample_bylevel', 0.4, 1.0),\n",
        "        }\n",
        "\n",
        "        model = CatBoostRegressor(**param, random_seed=42, thread_count=-1)\n",
        "        model.fit(X_train, y_train, eval_set=(X_valid, y_valid), early_stopping_rounds=100, verbose_eval=False)\n",
        "\n",
        "        preds = model.predict(X_valid)\n",
        "        if (preds < 0).sum() > 0:\n",
        "            print('Negative predictions found. Adjusting...')\n",
        "            preds = np.where(preds > 0, preds, 0)\n",
        "\n",
        "        loss = msle(y_valid, preds)\n",
        "\n",
        "        return np.sqrt(loss)\n",
        "\n",
        "    study_catboost = optuna.create_study(direction='minimize', sampler=optuna.samplers.TPESampler(seed=100))\n",
        "    study_catboost.optimize(objective, n_trials=30, show_progress_bar=True)\n",
        "\n",
        "    catboost_reg = CatBoostRegressor(**study_catboost.best_params, random_seed=42, thread_count=-1)\n",
        "    catboost_reg.fit(X_train, y_train, eval_set=(X_valid, y_valid), early_stopping_rounds=100, verbose_eval=False)\n",
        "\n",
        "    return catboost_reg, study_catboost"
      ]
    },
    {
      "cell_type": "code",
      "execution_count": 149,
      "metadata": {
        "id": "spIsbBfh28j4"
      },
      "outputs": [],
      "source": [
        "def lgbm_modeling3(X_train, y_train, X_valid, y_valid):\n",
        "  def objective(trial):\n",
        "    param = {\n",
        "        'objective': 'regression',\n",
        "        'verbose': -1,\n",
        "        'metric': 'rmse',\n",
        "        'num_leaves': trial.suggest_int('num_leaves', 2, 256),\n",
        "        'colsample_bytree': trial.suggest_uniform('colsample_bytree', 0.7, 1.0),\n",
        "        'reg_alpha': trial.suggest_uniform('reg_alpha', 0.0, 1.0),\n",
        "        'reg_lambda': trial.suggest_uniform('reg_lambda', 0.0, 10.0),\n",
        "        'max_depth': trial.suggest_int('max_depth', 6, 12),\n",
        "        'learning_rate': trial.suggest_loguniform(\"learning_rate\", 1e-2, 0.1),\n",
        "        'n_estimators': trial.suggest_int('n_estimators', 500, 2000),\n",
        "        'min_child_samples': trial.suggest_int('min_child_samples', 25, 75),\n",
        "        'subsample': trial.suggest_uniform('subsample', 0.8, 1.0),\n",
        "    }\n",
        "\n",
        "    model = LGBMRegressor(**param, random_state=42, n_jobs=-1)\n",
        "    bst_lgbm = model.fit(X_train,y_train, eval_set = [(X_valid,y_valid)], eval_metric='rmse',callbacks=[early_stopping(stopping_rounds=100)])\n",
        "\n",
        "    preds = bst_lgbm.predict(X_valid)\n",
        "    if (preds<0).sum()>0:\n",
        "      print('negative')\n",
        "      preds = np.where(preds>0,preds,0)\n",
        "    loss = msle(y_valid,preds)\n",
        "\n",
        "    return np.sqrt(loss)\n",
        "\n",
        "  study_lgbm = optuna.create_study(direction='minimize',sampler=optuna.samplers.TPESampler(seed=100))\n",
        "  study_lgbm.optimize(objective,n_trials=30,show_progress_bar=True)\n",
        "\n",
        "  lgbm_reg = LGBMRegressor(**study_lgbm.best_params, random_state=42, n_jobs=-1)\n",
        "  lgbm_reg.fit(X_train,y_train,eval_set = [(X_valid,y_valid)], eval_metric='rmse', callbacks=[early_stopping(stopping_rounds=100)])\n",
        "\n",
        "  return lgbm_reg,study_lgbm"
      ]
    },
    {
      "cell_type": "code",
      "execution_count": 150,
      "metadata": {
        "id": "kkASK2pHVvpH"
      },
      "outputs": [],
      "source": [
        "from catboost import CatBoostRegressor, Pool\n",
        "import optuna\n",
        "from sklearn.metrics import mean_squared_log_error as msle\n",
        "\n",
        "def catboost_modeling3(X_train, y_train, X_valid, y_valid):\n",
        "    def objective(trial):\n",
        "        param = {\n",
        "            'iterations': trial.suggest_int(\"iterations\", 1000, 10000),\n",
        "            'od_wait': trial.suggest_int('od_wait', 500, 2000),\n",
        "            'learning_rate': trial.suggest_uniform('learning_rate', 0.01, 0.1),\n",
        "            'reg_lambda': trial.suggest_uniform('reg_lambda', 1e-5, 20),\n",
        "            'subsample': trial.suggest_uniform('subsample', 0.7, 1),\n",
        "            'random_strength': trial.suggest_uniform('random_strength', 10, 30),\n",
        "            'depth': trial.suggest_int('depth', 5, 12),\n",
        "            'min_data_in_leaf': trial.suggest_int('min_data_in_leaf', 5, 20),\n",
        "            'leaf_estimation_iterations': trial.suggest_int('leaf_estimation_iterations', 1, 10),\n",
        "            'bagging_temperature': trial.suggest_loguniform('bagging_temperature', 0.01, 100.00),\n",
        "            'colsample_bylevel': trial.suggest_float('colsample_bylevel', 0.5, 1.0),\n",
        "        }\n",
        "\n",
        "        model = CatBoostRegressor(**param, random_seed=42, thread_count=-1)\n",
        "        model.fit(X_train, y_train, eval_set=(X_valid, y_valid), early_stopping_rounds=100, verbose_eval=False)\n",
        "\n",
        "        preds = model.predict(X_valid)\n",
        "        if (preds < 0).sum() > 0:\n",
        "            print('Negative predictions found. Adjusting...')\n",
        "            preds = np.where(preds > 0, preds, 0)\n",
        "\n",
        "        loss = msle(y_valid, preds)\n",
        "\n",
        "        return np.sqrt(loss)\n",
        "\n",
        "    study_catboost = optuna.create_study(direction='minimize', sampler=optuna.samplers.TPESampler(seed=100))\n",
        "    study_catboost.optimize(objective, n_trials=30, show_progress_bar=True)\n",
        "\n",
        "    catboost_reg = CatBoostRegressor(**study_catboost.best_params, random_seed=42, thread_count=-1)\n",
        "    catboost_reg.fit(X_train, y_train, eval_set=(X_valid, y_valid), early_stopping_rounds=100, verbose_eval=False)\n",
        "\n",
        "    return catboost_reg, study_catboost"
      ]
    },
    {
      "cell_type": "code",
      "execution_count": 151,
      "metadata": {
        "colab": {
          "base_uri": "https://localhost:8080/",
          "height": 1000,
          "referenced_widgets": [
            "d4f777a1d0d84030bdb60a82dc8188fb",
            "3093403de7bc44d1a04821c384610634",
            "62e9dda486014cb1a01c1d59e4b00116",
            "c7abe979992945a682d3ab42ed14d031",
            "42e1b5245d164354b04efd80d338f8e2",
            "8e9d9c8ecfb74ed78c2ab5cbf0f09ff3",
            "e0075ed6dfad46ae8fb113563e849c56",
            "293bf4cdb9ae4d05a82a2672428e8eb3",
            "f7edc86e08bb478c9b5a87cf919a44d2",
            "91c8288d13e0429983cda2e9c6dabe64",
            "36c416c6229e4b62a26b838bdde662bc"
          ]
        },
        "id": "IQuiq-yxz7dC",
        "outputId": "98d3dca6-eb35-4f16-ffe2-59625846534b"
      },
      "outputs": [
        {
          "name": "stderr",
          "output_type": "stream",
          "text": [
            "[I 2024-01-05 21:36:15,947] A new study created in memory with name: no-name-c8bb364a-414b-407c-8949-b39ceea8a024\n"
          ]
        },
        {
          "data": {
            "application/vnd.jupyter.widget-view+json": {
              "model_id": "5d86fe8471f64024a8c3119272908fc1",
              "version_major": 2,
              "version_minor": 0
            },
            "text/plain": [
              "  0%|          | 0/30 [00:00<?, ?it/s]"
            ]
          },
          "metadata": {},
          "output_type": "display_data"
        },
        {
          "name": "stdout",
          "output_type": "stream",
          "text": [
            "Training until validation scores don't improve for 100 rounds\n",
            "Did not meet early stopping. Best iteration is:\n",
            "[699]\tvalid_0's rmse: 0.499339\n",
            "[I 2024-01-05 21:36:16,311] Trial 0 finished with value: 0.19990648901672856 and parameters: {'num_leaves': 10, 'colsample_bytree': 0.7835108155281388, 'reg_alpha': 0.4245175907491331, 'reg_lambda': 8.447761323199037, 'max_depth': 3, 'learning_rate': 0.01323028259781289, 'n_estimators': 704, 'min_child_samples': 37, 'subsample': 0.6546826358739811}. Best is trial 0 with value: 0.19990648901672856.\n",
            "Training until validation scores don't improve for 100 rounds\n",
            "Early stopping, best iteration is:\n",
            "[812]\tvalid_0's rmse: 0.498958\n",
            "[I 2024-01-05 21:36:16,722] Trial 1 finished with value: 0.1996935366370804 and parameters: {'num_leaves': 10, 'colsample_bytree': 0.9673965862936792, 'reg_alpha': 0.20920212211718958, 'reg_lambda': 1.8532821955007506, 'max_depth': 3, 'learning_rate': 0.016584313263890035, 'n_estimators': 981, 'min_child_samples': 37, 'subsample': 0.6687764050930377}. Best is trial 1 with value: 0.1996935366370804.\n",
            "Training until validation scores don't improve for 100 rounds\n",
            "Did not meet early stopping. Best iteration is:\n",
            "[235]\tvalid_0's rmse: 0.499319\n",
            "[I 2024-01-05 21:36:16,884] Trial 2 finished with value: 0.1998542698686727 and parameters: {'num_leaves': 14, 'colsample_bytree': 0.7822221241125097, 'reg_alpha': 0.4317041836631217, 'reg_lambda': 9.400298196223746, 'max_depth': 7, 'learning_rate': 0.021682629560764107, 'n_estimators': 258, 'min_child_samples': 27, 'subsample': 0.6022754029410293}. Best is trial 1 with value: 0.1996935366370804.\n",
            "Training until validation scores don't improve for 100 rounds\n",
            "Did not meet early stopping. Best iteration is:\n",
            "[442]\tvalid_0's rmse: 0.500204\n",
            "[I 2024-01-05 21:36:17,061] Trial 3 finished with value: 0.2003049063243948 and parameters: {'num_leaves': 5, 'colsample_bytree': 0.9386987525419862, 'reg_alpha': 0.01525497124633901, 'reg_lambda': 5.988433769284929, 'max_depth': 6, 'learning_rate': 0.012739362198601082, 'n_estimators': 444, 'min_child_samples': 20, 'subsample': 0.9561646253768303}. Best is trial 1 with value: 0.1996935366370804.\n",
            "Training until validation scores don't improve for 100 rounds\n",
            "Early stopping, best iteration is:\n",
            "[194]\tvalid_0's rmse: 0.499065\n",
            "[I 2024-01-05 21:36:17,247] Trial 4 finished with value: 0.19968902527763321 and parameters: {'num_leaves': 16, 'colsample_bytree': 0.7179825966454111, 'reg_alpha': 0.8905459447285041, 'reg_lambda': 5.769014994000329, 'max_depth': 7, 'learning_rate': 0.042676022602809054, 'n_estimators': 624, 'min_child_samples': 20, 'subsample': 0.6840106310691443}. Best is trial 4 with value: 0.19968902527763321.\n",
            "Training until validation scores don't improve for 100 rounds\n",
            "Early stopping, best iteration is:\n",
            "[73]\tvalid_0's rmse: 0.49945\n",
            "[I 2024-01-05 21:36:17,347] Trial 5 finished with value: 0.19990614678771507 and parameters: {'num_leaves': 10, 'colsample_bytree': 0.9307345513316955, 'reg_alpha': 0.2506952291383959, 'reg_lambda': 2.8589569040686467, 'max_depth': 8, 'learning_rate': 0.0944074992066832, 'n_estimators': 897, 'min_child_samples': 27, 'subsample': 0.8395435783502989}. Best is trial 4 with value: 0.19968902527763321.\n",
            "Training until validation scores don't improve for 100 rounds\n",
            "Did not meet early stopping. Best iteration is:\n",
            "[435]\tvalid_0's rmse: 0.499359\n",
            "[I 2024-01-05 21:36:17,524] Trial 6 finished with value: 0.19983246439230917 and parameters: {'num_leaves': 7, 'colsample_bytree': 0.8020570646111937, 'reg_alpha': 0.17808098950580487, 'reg_lambda': 2.376942086240504, 'max_depth': 3, 'learning_rate': 0.03202074482061571, 'n_estimators': 439, 'min_child_samples': 32, 'subsample': 0.8519767502349989}. Best is trial 4 with value: 0.19968902527763321.\n",
            "Training until validation scores don't improve for 100 rounds\n",
            "Did not meet early stopping. Best iteration is:\n",
            "[283]\tvalid_0's rmse: 0.500447\n",
            "[I 2024-01-05 21:36:17,628] Trial 7 finished with value: 0.20043157028312686 and parameters: {'num_leaves': 4, 'colsample_bytree': 0.9801523898399257, 'reg_alpha': 0.9463798808091013, 'reg_lambda': 6.022966577308656, 'max_depth': 5, 'learning_rate': 0.023077459852761856, 'n_estimators': 284, 'min_child_samples': 25, 'subsample': 0.6986143524814199}. Best is trial 4 with value: 0.19968902527763321.\n",
            "Training until validation scores don't improve for 100 rounds\n",
            "Did not meet early stopping. Best iteration is:\n",
            "[182]\tvalid_0's rmse: 0.501198\n",
            "[I 2024-01-05 21:36:17,719] Trial 8 finished with value: 0.20075910015901358 and parameters: {'num_leaves': 4, 'colsample_bytree': 0.9899829083461971, 'reg_alpha': 0.9570126003527981, 'reg_lambda': 5.979736843289207, 'max_depth': 7, 'learning_rate': 0.02189703047708427, 'n_estimators': 182, 'min_child_samples': 29, 'subsample': 0.8034795572952775}. Best is trial 4 with value: 0.19968902527763321.\n",
            "Training until validation scores don't improve for 100 rounds\n",
            "Did not meet early stopping. Best iteration is:\n",
            "[693]\tvalid_0's rmse: 0.49923\n",
            "[I 2024-01-05 21:36:17,947] Trial 9 finished with value: 0.199791640205438 and parameters: {'num_leaves': 3, 'colsample_bytree': 0.8584105669954142, 'reg_alpha': 0.9921580365105283, 'reg_lambda': 3.950359317582296, 'max_depth': 5, 'learning_rate': 0.06389259646429983, 'n_estimators': 779, 'min_child_samples': 26, 'subsample': 0.85361467318491}. Best is trial 4 with value: 0.19968902527763321.\n",
            "Training until validation scores don't improve for 100 rounds\n",
            "Early stopping, best iteration is:\n",
            "[101]\tvalid_0's rmse: 0.499175\n",
            "[I 2024-01-05 21:36:18,110] Trial 10 finished with value: 0.19985787332550345 and parameters: {'num_leaves': 16, 'colsample_bytree': 0.7157996903457646, 'reg_alpha': 0.7148245980653324, 'reg_lambda': 1.2011099837715111, 'max_depth': 8, 'learning_rate': 0.03962010892209828, 'n_estimators': 587, 'min_child_samples': 20, 'subsample': 0.7421646061046204}. Best is trial 4 with value: 0.19968902527763321.\n",
            "Training until validation scores don't improve for 100 rounds\n",
            "Early stopping, best iteration is:\n",
            "[138]\tvalid_0's rmse: 0.499474\n",
            "[I 2024-01-05 21:36:18,258] Trial 11 finished with value: 0.1999290626769798 and parameters: {'num_leaves': 13, 'colsample_bytree': 0.7118661894465588, 'reg_alpha': 0.642009922365276, 'reg_lambda': 0.6848780982033043, 'max_depth': 4, 'learning_rate': 0.04883590898435269, 'n_estimators': 943, 'min_child_samples': 40, 'subsample': 0.7191138743612384}. Best is trial 4 with value: 0.19968902527763321.\n",
            "Training until validation scores don't improve for 100 rounds\n",
            "Early stopping, best iteration is:\n",
            "[806]\tvalid_0's rmse: 0.499479\n",
            "[I 2024-01-05 21:36:18,744] Trial 12 finished with value: 0.19987043800423515 and parameters: {'num_leaves': 12, 'colsample_bytree': 0.8594430102856832, 'reg_alpha': 0.7369368304521953, 'reg_lambda': 4.1901889646665085, 'max_depth': 6, 'learning_rate': 0.010078846167656003, 'n_estimators': 984, 'min_child_samples': 34, 'subsample': 0.6138355237092644}. Best is trial 4 with value: 0.19968902527763321.\n",
            "Training until validation scores don't improve for 100 rounds\n",
            "Early stopping, best iteration is:\n",
            "[328]\tvalid_0's rmse: 0.499219\n",
            "[I 2024-01-05 21:36:18,989] Trial 13 finished with value: 0.19975321407449292 and parameters: {'num_leaves': 16, 'colsample_bytree': 0.9118070668369775, 'reg_alpha': 0.5780386604003178, 'reg_lambda': 0.7940610494821945, 'max_depth': 4, 'learning_rate': 0.025846892551172694, 'n_estimators': 780, 'min_child_samples': 35, 'subsample': 0.6741933776623836}. Best is trial 4 with value: 0.19968902527763321.\n",
            "Training until validation scores don't improve for 100 rounds\n",
            "Did not meet early stopping. Best iteration is:\n",
            "[571]\tvalid_0's rmse: 0.499572\n",
            "[I 2024-01-05 21:36:19,291] Trial 14 finished with value: 0.1999642233214504 and parameters: {'num_leaves': 8, 'colsample_bytree': 0.8932186944151279, 'reg_alpha': 0.8215512516285634, 'reg_lambda': 0.06721354240420241, 'max_depth': 7, 'learning_rate': 0.016621696122611558, 'n_estimators': 617, 'min_child_samples': 23, 'subsample': 0.752667436086739}. Best is trial 4 with value: 0.19968902527763321.\n",
            "Training until validation scores don't improve for 100 rounds\n",
            "Early stopping, best iteration is:\n",
            "[253]\tvalid_0's rmse: 0.49913\n",
            "[I 2024-01-05 21:36:19,476] Trial 15 finished with value: 0.19980241285753378 and parameters: {'num_leaves': 11, 'colsample_bytree': 0.8128370773294205, 'reg_alpha': 0.4053826596999384, 'reg_lambda': 2.534693942494933, 'max_depth': 4, 'learning_rate': 0.03222450019452623, 'n_estimators': 825, 'min_child_samples': 31, 'subsample': 0.6514756558859743}. Best is trial 4 with value: 0.19968902527763321.\n",
            "Training until validation scores don't improve for 100 rounds\n",
            "Early stopping, best iteration is:\n",
            "[109]\tvalid_0's rmse: 0.499267\n",
            "[I 2024-01-05 21:36:19,624] Trial 16 finished with value: 0.19986335086677173 and parameters: {'num_leaves': 14, 'colsample_bytree': 0.7433506993576802, 'reg_alpha': 0.5376629479772814, 'reg_lambda': 7.176487266224489, 'max_depth': 6, 'learning_rate': 0.046222392946949645, 'n_estimators': 431, 'min_child_samples': 40, 'subsample': 0.6971243098650078}. Best is trial 4 with value: 0.19968902527763321.\n",
            "Training until validation scores don't improve for 100 rounds\n",
            "Did not meet early stopping. Best iteration is:\n",
            "[644]\tvalid_0's rmse: 0.499361\n",
            "[I 2024-01-05 21:36:19,939] Trial 17 finished with value: 0.19987280794112564 and parameters: {'num_leaves': 7, 'colsample_bytree': 0.8317742138639296, 'reg_alpha': 0.8199980836028011, 'reg_lambda': 4.70879995723626, 'max_depth': 5, 'learning_rate': 0.01702561499794335, 'n_estimators': 674, 'min_child_samples': 37, 'subsample': 0.7479973255458084}. Best is trial 4 with value: 0.19968902527763321.\n",
            "Training until validation scores don't improve for 100 rounds\n",
            "Early stopping, best iteration is:\n",
            "[265]\tvalid_0's rmse: 0.499271\n",
            "[I 2024-01-05 21:36:20,175] Trial 18 finished with value: 0.19981409105702075 and parameters: {'num_leaves': 15, 'colsample_bytree': 0.8906775663222319, 'reg_alpha': 0.3092652738749263, 'reg_lambda': 3.1837956660008375, 'max_depth': 7, 'learning_rate': 0.02994161159914683, 'n_estimators': 890, 'min_child_samples': 22, 'subsample': 0.6375453931720989}. Best is trial 4 with value: 0.19968902527763321.\n",
            "Training until validation scores don't improve for 100 rounds\n",
            "Early stopping, best iteration is:\n",
            "[272]\tvalid_0's rmse: 0.498959\n",
            "[I 2024-01-05 21:36:20,372] Trial 19 finished with value: 0.19962384731985688 and parameters: {'num_leaves': 12, 'colsample_bytree': 0.9649615581920508, 'reg_alpha': 0.5354066893190135, 'reg_lambda': 1.7929832474915406, 'max_depth': 3, 'learning_rate': 0.05914421881919026, 'n_estimators': 495, 'min_child_samples': 29, 'subsample': 0.6733118009107149}. Best is trial 19 with value: 0.19962384731985688.\n",
            "Training until validation scores don't improve for 100 rounds\n",
            "Early stopping, best iteration is:\n",
            "[112]\tvalid_0's rmse: 0.499258\n",
            "[I 2024-01-05 21:36:20,526] Trial 20 finished with value: 0.1998131873312245 and parameters: {'num_leaves': 12, 'colsample_bytree': 0.7493151293108303, 'reg_alpha': 0.6186140703638963, 'reg_lambda': 5.122075914641167, 'max_depth': 8, 'learning_rate': 0.06603921407345532, 'n_estimators': 518, 'min_child_samples': 29, 'subsample': 0.6026118178082965}. Best is trial 19 with value: 0.19962384731985688.\n",
            "Training until validation scores don't improve for 100 rounds\n",
            "Did not meet early stopping. Best iteration is:\n",
            "[343]\tvalid_0's rmse: 0.499119\n",
            "[I 2024-01-05 21:36:20,705] Trial 21 finished with value: 0.19976134964814046 and parameters: {'num_leaves': 10, 'colsample_bytree': 0.9649035717180465, 'reg_alpha': 0.5149344896133239, 'reg_lambda': 2.059282517092378, 'max_depth': 3, 'learning_rate': 0.03923818498825325, 'n_estimators': 348, 'min_child_samples': 35, 'subsample': 0.6719744141518461}. Best is trial 19 with value: 0.19962384731985688.\n",
            "Training until validation scores don't improve for 100 rounds\n",
            "Early stopping, best iteration is:\n",
            "[175]\tvalid_0's rmse: 0.498938\n",
            "[I 2024-01-05 21:36:20,874] Trial 22 finished with value: 0.19960646641048524 and parameters: {'num_leaves': 13, 'colsample_bytree': 0.9578100364230961, 'reg_alpha': 0.48294995236222593, 'reg_lambda': 1.945581177480604, 'max_depth': 4, 'learning_rate': 0.06032122957877699, 'n_estimators': 488, 'min_child_samples': 24, 'subsample': 0.6382527160982575}. Best is trial 22 with value: 0.19960646641048524.\n",
            "Training until validation scores don't improve for 100 rounds\n",
            "Early stopping, best iteration is:\n",
            "[137]\tvalid_0's rmse: 0.499013\n",
            "[I 2024-01-05 21:36:21,045] Trial 23 finished with value: 0.19969360710149944 and parameters: {'num_leaves': 14, 'colsample_bytree': 0.9955894947165727, 'reg_alpha': 0.505433835703214, 'reg_lambda': 3.57952759451527, 'max_depth': 4, 'learning_rate': 0.06275785150771696, 'n_estimators': 545, 'min_child_samples': 23, 'subsample': 0.6311688099559142}. Best is trial 22 with value: 0.19960646641048524.\n",
            "Training until validation scores don't improve for 100 rounds\n",
            "Early stopping, best iteration is:\n",
            "[108]\tvalid_0's rmse: 0.499187\n",
            "[I 2024-01-05 21:36:21,207] Trial 24 finished with value: 0.19973550663862893 and parameters: {'num_leaves': 12, 'colsample_bytree': 0.9515176209035571, 'reg_alpha': 0.650347372858255, 'reg_lambda': 1.411305096318697, 'max_depth': 4, 'learning_rate': 0.07925587554459942, 'n_estimators': 509, 'min_child_samples': 22, 'subsample': 0.6336900281036085}. Best is trial 22 with value: 0.19960646641048524.\n",
            "Training until validation scores don't improve for 100 rounds\n",
            "Early stopping, best iteration is:\n",
            "[269]\tvalid_0's rmse: 0.499069\n",
            "[I 2024-01-05 21:36:21,392] Trial 25 finished with value: 0.19969905475621533 and parameters: {'num_leaves': 15, 'colsample_bytree': 0.9228050855872112, 'reg_alpha': 0.8395911660101285, 'reg_lambda': 3.1103229440934257, 'max_depth': 3, 'learning_rate': 0.05350790278977026, 'n_estimators': 646, 'min_child_samples': 24, 'subsample': 0.700245511674063}. Best is trial 22 with value: 0.19960646641048524.\n",
            "Training until validation scores don't improve for 100 rounds\n",
            "Early stopping, best iteration is:\n",
            "[152]\tvalid_0's rmse: 0.499435\n",
            "[I 2024-01-05 21:36:21,555] Trial 26 finished with value: 0.19982376470851798 and parameters: {'num_leaves': 13, 'colsample_bytree': 0.9505778710449351, 'reg_alpha': 0.7076030094157064, 'reg_lambda': 1.8057663931850847, 'max_depth': 5, 'learning_rate': 0.05431720329812055, 'n_estimators': 377, 'min_child_samples': 21, 'subsample': 0.6318878214262683}. Best is trial 22 with value: 0.19960646641048524.\n",
            "Training until validation scores don't improve for 100 rounds\n",
            "Early stopping, best iteration is:\n",
            "[229]\tvalid_0's rmse: 0.49897\n",
            "[I 2024-01-05 21:36:21,756] Trial 27 finished with value: 0.19962440123184202 and parameters: {'num_leaves': 16, 'colsample_bytree': 0.9970321870968252, 'reg_alpha': 0.5687714163848461, 'reg_lambda': 3.458588827791968, 'max_depth': 4, 'learning_rate': 0.040049996871680614, 'n_estimators': 707, 'min_child_samples': 28, 'subsample': 0.6754710522582621}. Best is trial 22 with value: 0.19960646641048524.\n",
            "Training until validation scores don't improve for 100 rounds\n",
            "Early stopping, best iteration is:\n",
            "[188]\tvalid_0's rmse: 0.49897\n",
            "[I 2024-01-05 21:36:21,947] Trial 28 finished with value: 0.19960790045374982 and parameters: {'num_leaves': 13, 'colsample_bytree': 0.97793225710987, 'reg_alpha': 0.5849663838536372, 'reg_lambda': 2.660926221887472, 'max_depth': 4, 'learning_rate': 0.07256524834777078, 'n_estimators': 489, 'min_child_samples': 28, 'subsample': 0.7204426460127168}. Best is trial 22 with value: 0.19960646641048524.\n",
            "Training until validation scores don't improve for 100 rounds\n",
            "Did not meet early stopping. Best iteration is:\n",
            "[113]\tvalid_0's rmse: 0.499564\n",
            "[I 2024-01-05 21:36:22,056] Trial 29 finished with value: 0.19993689767089856 and parameters: {'num_leaves': 11, 'colsample_bytree': 0.9687312315732373, 'reg_alpha': 0.44186874230930717, 'reg_lambda': 2.1920744779414587, 'max_depth': 3, 'learning_rate': 0.09859421653962197, 'n_estimators': 116, 'min_child_samples': 31, 'subsample': 0.7206195558791886}. Best is trial 22 with value: 0.19960646641048524.\n",
            "[LightGBM] [Warning] Found whitespace in feature_names, replace with underlines\n",
            "[LightGBM] [Info] Auto-choosing col-wise multi-threading, the overhead of testing was 0.001413 seconds.\n",
            "You can set `force_col_wise=true` to remove the overhead.\n",
            "[LightGBM] [Info] Total Bins 1427\n",
            "[LightGBM] [Info] Number of data points in the train set: 21260, number of used features: 23\n",
            "[LightGBM] [Warning] Found whitespace in feature_names, replace with underlines\n",
            "[LightGBM] [Info] Start training from score 1.581151\n",
            "Training until validation scores don't improve for 100 rounds\n",
            "[LightGBM] [Warning] No further splits with positive gain, best gain: -inf\n",
            "[LightGBM] [Warning] No further splits with positive gain, best gain: -inf\n",
            "[LightGBM] [Warning] No further splits with positive gain, best gain: -inf\n",
            "[LightGBM] [Warning] No further splits with positive gain, best gain: -inf\n",
            "[LightGBM] [Warning] No further splits with positive gain, best gain: -inf\n",
            "[LightGBM] [Warning] No further splits with positive gain, best gain: -inf\n",
            "[LightGBM] [Warning] No further splits with positive gain, best gain: -inf\n",
            "[LightGBM] [Warning] No further splits with positive gain, best gain: -inf\n",
            "[LightGBM] [Warning] No further splits with positive gain, best gain: -inf\n",
            "[LightGBM] [Warning] No further splits with positive gain, best gain: -inf\n",
            "[LightGBM] [Warning] No further splits with positive gain, best gain: -inf\n",
            "[LightGBM] [Warning] No further splits with positive gain, best gain: -inf\n",
            "[LightGBM] [Warning] No further splits with positive gain, best gain: -inf\n",
            "[LightGBM] [Warning] No further splits with positive gain, best gain: -inf\n",
            "[LightGBM] [Warning] No further splits with positive gain, best gain: -inf\n",
            "[LightGBM] [Warning] No further splits with positive gain, best gain: -inf\n",
            "[LightGBM] [Warning] No further splits with positive gain, best gain: -inf\n",
            "[LightGBM] [Warning] No further splits with positive gain, best gain: -inf\n",
            "[LightGBM] [Warning] No further splits with positive gain, best gain: -inf\n",
            "[LightGBM] [Warning] No further splits with positive gain, best gain: -inf\n",
            "[LightGBM] [Warning] No further splits with positive gain, best gain: -inf\n",
            "[LightGBM] [Warning] No further splits with positive gain, best gain: -inf\n",
            "[LightGBM] [Warning] No further splits with positive gain, best gain: -inf\n",
            "[LightGBM] [Warning] No further splits with positive gain, best gain: -inf\n",
            "[LightGBM] [Warning] No further splits with positive gain, best gain: -inf\n",
            "[LightGBM] [Warning] No further splits with positive gain, best gain: -inf\n",
            "[LightGBM] [Warning] No further splits with positive gain, best gain: -inf\n",
            "[LightGBM] [Warning] No further splits with positive gain, best gain: -inf\n",
            "[LightGBM] [Warning] No further splits with positive gain, best gain: -inf\n",
            "[LightGBM] [Warning] No further splits with positive gain, best gain: -inf\n",
            "[LightGBM] [Warning] No further splits with positive gain, best gain: -inf\n",
            "[LightGBM] [Warning] No further splits with positive gain, best gain: -inf\n",
            "[LightGBM] [Warning] No further splits with positive gain, best gain: -inf\n",
            "[LightGBM] [Warning] No further splits with positive gain, best gain: -inf\n",
            "[LightGBM] [Warning] No further splits with positive gain, best gain: -inf\n",
            "[LightGBM] [Warning] No further splits with positive gain, best gain: -inf\n",
            "[LightGBM] [Warning] No further splits with positive gain, best gain: -inf\n",
            "[LightGBM] [Warning] No further splits with positive gain, best gain: -inf\n",
            "[LightGBM] [Warning] No further splits with positive gain, best gain: -inf\n",
            "Early stopping, best iteration is:\n",
            "[175]\tvalid_0's rmse: 0.498938\tvalid_0's l2: 0.248939\n",
            "{'num_leaves': 13, 'colsample_bytree': 0.9578100364230961, 'reg_alpha': 0.48294995236222593, 'reg_lambda': 1.945581177480604, 'max_depth': 4, 'learning_rate': 0.06032122957877699, 'n_estimators': 488, 'min_child_samples': 24, 'subsample': 0.6382527160982575}\n",
            "0.19960646641048524\n"
          ]
        }
      ],
      "source": [
        "lgbm1, study_lgbm1 = lgbm_modeling1(X_train1, y_train_log1, X_valid1, y_valid_log1)\n",
        "\n",
        "print(study_lgbm1.best_params)\n",
        "print(study_lgbm1.best_value)\n",
        "#Best value: 0.199654"
      ]
    },
    {
      "cell_type": "code",
      "execution_count": 152,
      "metadata": {
        "colab": {
          "base_uri": "https://localhost:8080/",
          "height": 675,
          "referenced_widgets": [
            "fb13b241df464e4e91e9cf763e771748",
            "b5c94a7382224602a73c405350c68ad5",
            "c2e165b2fc9549199723b4be1fb48c49",
            "2f5ec5c4ed154d6cb41002361aa47f1e",
            "aac9da1d7d8d4abe99b8f7f7e04fa38e",
            "a18276108a314b0e861c6204ebf37328",
            "f14630c4f4464d0882c3ba25f6d0c694",
            "3786ffea531f44d9be8ec1e82825be8b",
            "b6c3eb6585314af8a3411d4a994b591e",
            "f15de096c93b4ad8a7adce919232c896",
            "43acc330b762442d8b648c873747386c"
          ]
        },
        "id": "29VX2TL1V2os",
        "outputId": "0d541352-65cb-420a-8855-2370f3025605"
      },
      "outputs": [
        {
          "name": "stderr",
          "output_type": "stream",
          "text": [
            "[I 2024-01-05 21:36:32,066] A new study created in memory with name: no-name-fd17586d-448f-4b24-8dba-8eae563a43c9\n"
          ]
        },
        {
          "data": {
            "application/vnd.jupyter.widget-view+json": {
              "model_id": "d07d862023ea4ce1a6ee42c7b635c032",
              "version_major": 2,
              "version_minor": 0
            },
            "text/plain": [
              "  0%|          | 0/30 [00:00<?, ?it/s]"
            ]
          },
          "metadata": {},
          "output_type": "display_data"
        },
        {
          "name": "stdout",
          "output_type": "stream",
          "text": [
            "[I 2024-01-05 21:36:35,160] Trial 0 finished with value: 0.2003957319986005 and parameters: {'iterations': 4804, 'od_wait': 778, 'learning_rate': 0.09065834224233528, 'reg_lambda': 8.447762875437714, 'subsample': 0.5023594280954863, 'random_strength': 12.431382415662284, 'depth': 10, 'min_data_in_leaf': 17, 'leaf_estimation_iterations': 2, 'bagging_temperature': 0.531226814107122, 'colsample_bylevel': 0.9347931725873584}. Best is trial 0 with value: 0.2003957319986005.\n",
            "[I 2024-01-05 21:36:38,674] Trial 1 finished with value: 0.20001729522333006 and parameters: {'iterations': 2464, 'od_wait': 685, 'learning_rate': 0.030591609188208475, 'reg_lambda': 2.1969827292749957, 'subsample': 0.9893118923536848, 'random_strength': 26.233662981786466, 'depth': 6, 'min_data_in_leaf': 17, 'leaf_estimation_iterations': 3, 'bagging_temperature': 0.19729339719432015, 'colsample_bylevel': 0.9640178917734248}. Best is trial 1 with value: 0.20001729522333006.\n",
            "[I 2024-01-05 21:36:44,392] Trial 2 finished with value: 0.2005692615067317 and parameters: {'iterations': 6724, 'od_wait': 836, 'learning_rate': 0.043327986211043966, 'reg_lambda': 3.728326734578769, 'subsample': 0.5028442536762867, 'random_strength': 15.048527068896808, 'depth': 11, 'min_data_in_leaf': 1, 'leaf_estimation_iterations': 6, 'bagging_temperature': 0.6477592406073228, 'colsample_bylevel': 0.46308861124723383}. Best is trial 1 with value: 0.20001729522333006.\n",
            "[I 2024-01-05 21:36:46,526] Trial 3 finished with value: 0.20075888733312622 and parameters: {'iterations': 3673, 'od_wait': 536, 'learning_rate': 0.1791781970539944, 'reg_lambda': 9.809208760914544, 'subsample': 0.5299709944090186, 'random_strength': 27.810918894570083, 'depth': 9, 'min_data_in_leaf': 15, 'leaf_estimation_iterations': 7, 'bagging_temperature': 0.5565786937483687, 'colsample_bylevel': 0.4122634792161539}. Best is trial 1 with value: 0.20001729522333006.\n",
            "[I 2024-01-05 21:36:52,245] Trial 4 finished with value: 0.20134390650741965 and parameters: {'iterations': 2470, 'od_wait': 1045, 'learning_rate': 0.15613188251007382, 'reg_lambda': 2.5069597844316682, 'subsample': 0.6429478452034323, 'random_strength': 27.04790175682613, 'depth': 12, 'min_data_in_leaf': 18, 'leaf_estimation_iterations': 4, 'bagging_temperature': 0.6260036099225523, 'colsample_bylevel': 0.6128773669943799}. Best is trial 1 with value: 0.20001729522333006.\n",
            "[I 2024-01-05 21:36:55,077] Trial 5 finished with value: 0.20043648810033207 and parameters: {'iterations': 3381, 'od_wait': 678, 'learning_rate': 0.055161899638569586, 'reg_lambda': 0.4486323759849282, 'subsample': 0.7527157148178947, 'random_strength': 17.52504908594726, 'depth': 9, 'min_data_in_leaf': 13, 'leaf_estimation_iterations': 2, 'bagging_temperature': 6.331752031792306, 'colsample_bylevel': 0.9678279284854607}. Best is trial 1 with value: 0.20001729522333006.\n",
            "[I 2024-01-05 21:36:58,209] Trial 6 finished with value: 0.19999180377229114 and parameters: {'iterations': 5216, 'od_wait': 888, 'learning_rate': 0.07900572078077646, 'reg_lambda': 2.0434607252336736, 'subsample': 0.6383825306981676, 'random_strength': 14.930717624070994, 'depth': 6, 'min_data_in_leaf': 20, 'leaf_estimation_iterations': 10, 'bagging_temperature': 0.6221871723256807, 'colsample_bylevel': 0.8387804518359536}. Best is trial 6 with value: 0.19999180377229114.\n",
            "[I 2024-01-05 21:37:05,492] Trial 7 finished with value: 0.2003405316569082 and parameters: {'iterations': 3383, 'od_wait': 592, 'learning_rate': 0.09806462359805806, 'reg_lambda': 5.086993845393007, 'subsample': 0.5442300865014453, 'random_strength': 20.56070446636095, 'depth': 12, 'min_data_in_leaf': 8, 'leaf_estimation_iterations': 4, 'bagging_temperature': 2.608264389341008, 'colsample_bylevel': 0.8526093967494122}. Best is trial 6 with value: 0.19999180377229114.\n",
            "[I 2024-01-05 21:37:07,275] Trial 8 finished with value: 0.20051403469598172 and parameters: {'iterations': 3191, 'od_wait': 1134, 'learning_rate': 0.11267686930713611, 'reg_lambda': 2.9679445408626384, 'subsample': 0.5553939505912229, 'random_strength': 16.252805957514862, 'depth': 8, 'min_data_in_leaf': 14, 'leaf_estimation_iterations': 3, 'bagging_temperature': 0.8381153139375119, 'colsample_bylevel': 0.5200741643310419}. Best is trial 6 with value: 0.19999180377229114.\n",
            "[I 2024-01-05 21:37:13,043] Trial 9 finished with value: 0.20154244513915892 and parameters: {'iterations': 5604, 'od_wait': 1279, 'learning_rate': 0.15812369573604243, 'reg_lambda': 6.103285428812406, 'subsample': 0.6545001742622011, 'random_strength': 23.95469815025912, 'depth': 11, 'min_data_in_leaf': 13, 'leaf_estimation_iterations': 10, 'bagging_temperature': 8.501594391122794, 'colsample_bylevel': 0.5000164787193149}. Best is trial 6 with value: 0.19999180377229114.\n",
            "[I 2024-01-05 21:37:27,776] Trial 10 finished with value: 0.19982933557210034 and parameters: {'iterations': 7816, 'od_wait': 1492, 'learning_rate': 0.010289004016449083, 'reg_lambda': 0.5526068374321658, 'subsample': 0.7759377600213857, 'random_strength': 10.745071516932306, 'depth': 5, 'min_data_in_leaf': 8, 'leaf_estimation_iterations': 10, 'bagging_temperature': 0.0384320016426002, 'colsample_bylevel': 0.7617184124659633}. Best is trial 10 with value: 0.19982933557210034.\n",
            "[I 2024-01-05 21:37:31,243] Trial 11 finished with value: 0.19964226783831004 and parameters: {'iterations': 7813, 'od_wait': 1479, 'learning_rate': 0.061503395969918565, 'reg_lambda': 0.11313155692679971, 'subsample': 0.7771859334456329, 'random_strength': 10.640593257581255, 'depth': 5, 'min_data_in_leaf': 6, 'leaf_estimation_iterations': 10, 'bagging_temperature': 0.03560700698281062, 'colsample_bylevel': 0.7577460119399145}. Best is trial 11 with value: 0.19964226783831004.\n",
            "[I 2024-01-05 21:37:38,376] Trial 12 finished with value: 0.19984829879847266 and parameters: {'iterations': 7964, 'od_wait': 1493, 'learning_rate': 0.017724285771913144, 'reg_lambda': 0.016974640774292227, 'subsample': 0.8173962032636412, 'random_strength': 10.232027659885869, 'depth': 5, 'min_data_in_leaf': 7, 'leaf_estimation_iterations': 8, 'bagging_temperature': 0.02680505182399386, 'colsample_bylevel': 0.7339451848878662}. Best is trial 11 with value: 0.19964226783831004.\n",
            "[I 2024-01-05 21:37:51,512] Trial 13 finished with value: 0.1999439087483244 and parameters: {'iterations': 7559, 'od_wait': 1469, 'learning_rate': 0.010326906902614164, 'reg_lambda': 0.8440450144029583, 'subsample': 0.8270092569792513, 'random_strength': 10.741538220894276, 'depth': 5, 'min_data_in_leaf': 4, 'leaf_estimation_iterations': 9, 'bagging_temperature': 0.01495915769900111, 'colsample_bylevel': 0.7110700660587689}. Best is trial 11 with value: 0.19964226783831004.\n",
            "[I 2024-01-05 21:37:54,476] Trial 14 finished with value: 0.19991556201099506 and parameters: {'iterations': 1146, 'od_wait': 1319, 'learning_rate': 0.05784802485083525, 'reg_lambda': 0.02214153273013819, 'subsample': 0.8537943190460149, 'random_strength': 12.726249746269467, 'depth': 7, 'min_data_in_leaf': 8, 'leaf_estimation_iterations': 8, 'bagging_temperature': 0.06140553784933763, 'colsample_bylevel': 0.7841839421431026}. Best is trial 11 with value: 0.19964226783831004.\n",
            "[I 2024-01-05 21:37:59,715] Trial 15 finished with value: 0.20005542741965934 and parameters: {'iterations': 6571, 'od_wait': 1338, 'learning_rate': 0.03404097775018728, 'reg_lambda': 1.4773071823198596, 'subsample': 0.7727142520850205, 'random_strength': 12.796508439386567, 'depth': 7, 'min_data_in_leaf': 5, 'leaf_estimation_iterations': 10, 'bagging_temperature': 0.010678506602729738, 'colsample_bylevel': 0.6348579539757384}. Best is trial 11 with value: 0.19964226783831004.\n",
            "[I 2024-01-05 21:38:11,543] Trial 16 finished with value: 0.19991617492041816 and parameters: {'iterations': 6632, 'od_wait': 1190, 'learning_rate': 0.012596851955973805, 'reg_lambda': 3.7753220943386085, 'subsample': 0.72218055613413, 'random_strength': 10.007087990340317, 'depth': 5, 'min_data_in_leaf': 10, 'leaf_estimation_iterations': 8, 'bagging_temperature': 0.06500053608247024, 'colsample_bylevel': 0.6528840411236381}. Best is trial 11 with value: 0.19964226783831004.\n",
            "[I 2024-01-05 21:38:13,961] Trial 17 finished with value: 0.2000134493192772 and parameters: {'iterations': 7284, 'od_wait': 1401, 'learning_rate': 0.07027244034758495, 'reg_lambda': 1.3292028436462529, 'subsample': 0.883550909532129, 'random_strength': 19.442597046086426, 'depth': 6, 'min_data_in_leaf': 2, 'leaf_estimation_iterations': 6, 'bagging_temperature': 0.04857403966455649, 'colsample_bylevel': 0.7613261582638755}. Best is trial 11 with value: 0.19964226783831004.\n",
            "[I 2024-01-05 21:38:18,710] Trial 18 finished with value: 0.19982557235318488 and parameters: {'iterations': 5931, 'od_wait': 1199, 'learning_rate': 0.04332831326493993, 'reg_lambda': 1.3225943996460428, 'subsample': 0.909509857677762, 'random_strength': 13.770561852119766, 'depth': 7, 'min_data_in_leaf': 10, 'leaf_estimation_iterations': 9, 'bagging_temperature': 0.12423647464188807, 'colsample_bylevel': 0.855347428409661}. Best is trial 11 with value: 0.19964226783831004.\n",
            "[I 2024-01-05 21:38:22,729] Trial 19 finished with value: 0.19991571971756145 and parameters: {'iterations': 5870, 'od_wait': 1215, 'learning_rate': 0.053846057158870794, 'reg_lambda': 1.469189655927784, 'subsample': 0.9156958561091725, 'random_strength': 13.471180320599998, 'depth': 7, 'min_data_in_leaf': 11, 'leaf_estimation_iterations': 9, 'bagging_temperature': 0.12474520276056864, 'colsample_bylevel': 0.8945092108092609}. Best is trial 11 with value: 0.19964226783831004.\n",
            "[I 2024-01-05 21:38:24,343] Trial 20 finished with value: 0.20101209953683954 and parameters: {'iterations': 6061, 'od_wait': 1032, 'learning_rate': 0.11840849351792385, 'reg_lambda': 3.1723882063363034, 'subsample': 0.9422398461992486, 'random_strength': 17.878550326136498, 'depth': 8, 'min_data_in_leaf': 11, 'leaf_estimation_iterations': 7, 'bagging_temperature': 0.13123672984892004, 'colsample_bylevel': 0.8304602714799826}. Best is trial 11 with value: 0.19964226783831004.\n",
            "[I 2024-01-05 21:38:28,995] Trial 21 finished with value: 0.19991458978290355 and parameters: {'iterations': 7926, 'od_wait': 1369, 'learning_rate': 0.033422443460785566, 'reg_lambda': 0.8144900103993601, 'subsample': 0.7863388708391871, 'random_strength': 11.57191969921877, 'depth': 6, 'min_data_in_leaf': 6, 'leaf_estimation_iterations': 9, 'bagging_temperature': 0.022875912895671355, 'colsample_bylevel': 0.7909875877932985}. Best is trial 11 with value: 0.19964226783831004.\n",
            "[I 2024-01-05 21:38:34,143] Trial 22 finished with value: 0.19994084056317832 and parameters: {'iterations': 7073, 'od_wait': 1500, 'learning_rate': 0.028361475722599647, 'reg_lambda': 0.09512253129936732, 'subsample': 0.8589942156682362, 'random_strength': 14.041526984641102, 'depth': 5, 'min_data_in_leaf': 9, 'leaf_estimation_iterations': 10, 'bagging_temperature': 0.03676638567827458, 'colsample_bylevel': 0.8954048528030498}. Best is trial 11 with value: 0.19964226783831004.\n",
            "[I 2024-01-05 21:38:37,760] Trial 23 finished with value: 0.20004600684309135 and parameters: {'iterations': 4160, 'od_wait': 1403, 'learning_rate': 0.04659792589309848, 'reg_lambda': 1.0966672175916534, 'subsample': 0.720957862102243, 'random_strength': 11.707209266025028, 'depth': 7, 'min_data_in_leaf': 4, 'leaf_estimation_iterations': 9, 'bagging_temperature': 0.08950477063789856, 'colsample_bylevel': 0.6923266274959555}. Best is trial 11 with value: 0.19964226783831004.\n",
            "[I 2024-01-05 21:38:40,227] Trial 24 finished with value: 0.19999652569627757 and parameters: {'iterations': 7406, 'od_wait': 1120, 'learning_rate': 0.06856846827979304, 'reg_lambda': 2.1907926743689967, 'subsample': 0.7999127404501233, 'random_strength': 11.54792137849252, 'depth': 6, 'min_data_in_leaf': 6, 'leaf_estimation_iterations': 7, 'bagging_temperature': 0.03793246949788223, 'colsample_bylevel': 0.7975708012162562}. Best is trial 11 with value: 0.19964226783831004.\n",
            "[I 2024-01-05 21:38:46,977] Trial 25 finished with value: 0.1999775567418699 and parameters: {'iterations': 6288, 'od_wait': 1271, 'learning_rate': 0.02537031476503364, 'reg_lambda': 0.7389276587258671, 'subsample': 0.8995573977930904, 'random_strength': 14.192168440792551, 'depth': 5, 'min_data_in_leaf': 10, 'leaf_estimation_iterations': 10, 'bagging_temperature': 0.02016660303604801, 'colsample_bylevel': 0.7485034025090505}. Best is trial 11 with value: 0.19964226783831004.\n",
            "[I 2024-01-05 21:38:52,128] Trial 26 finished with value: 0.19992038204413257 and parameters: {'iterations': 5297, 'od_wait': 930, 'learning_rate': 0.03985968071065697, 'reg_lambda': 1.5959226108855793, 'subsample': 0.8516725902531412, 'random_strength': 10.188257588296059, 'depth': 8, 'min_data_in_leaf': 12, 'leaf_estimation_iterations': 8, 'bagging_temperature': 0.24367157885500315, 'colsample_bylevel': 0.6901864614345364}. Best is trial 11 with value: 0.19964226783831004.\n",
            "[I 2024-01-05 21:39:06,411] Trial 27 finished with value: 0.199802741346503 and parameters: {'iterations': 7042, 'od_wait': 1430, 'learning_rate': 0.01076890136067779, 'reg_lambda': 0.8946686553083643, 'subsample': 0.9486657890136225, 'random_strength': 12.920964651374756, 'depth': 6, 'min_data_in_leaf': 3, 'leaf_estimation_iterations': 9, 'bagging_temperature': 0.08556535969684417, 'colsample_bylevel': 0.8875029800035354}. Best is trial 11 with value: 0.19964226783831004.\n",
            "[I 2024-01-05 21:39:09,894] Trial 28 finished with value: 0.1996970356559598 and parameters: {'iterations': 6989, 'od_wait': 1226, 'learning_rate': 0.05216295074884099, 'reg_lambda': 1.3812886355646883, 'subsample': 0.9531427455676043, 'random_strength': 15.673434990678777, 'depth': 7, 'min_data_in_leaf': 3, 'leaf_estimation_iterations': 5, 'bagging_temperature': 0.08718046765515851, 'colsample_bylevel': 0.8906527929845273}. Best is trial 11 with value: 0.19964226783831004.\n",
            "[I 2024-01-05 21:39:11,862] Trial 29 finished with value: 0.2000111940568435 and parameters: {'iterations': 7011, 'od_wait': 1410, 'learning_rate': 0.08380358060491055, 'reg_lambda': 1.9669345089898935, 'subsample': 0.9892538468909956, 'random_strength': 12.483472980863247, 'depth': 6, 'min_data_in_leaf': 3, 'leaf_estimation_iterations': 5, 'bagging_temperature': 0.09252794668953346, 'colsample_bylevel': 0.9965446780944398}. Best is trial 11 with value: 0.19964226783831004.\n",
            "{'iterations': 7813, 'od_wait': 1479, 'learning_rate': 0.061503395969918565, 'reg_lambda': 0.11313155692679971, 'subsample': 0.7771859334456329, 'random_strength': 10.640593257581255, 'depth': 5, 'min_data_in_leaf': 6, 'leaf_estimation_iterations': 10, 'bagging_temperature': 0.03560700698281062, 'colsample_bylevel': 0.7577460119399145}\n",
            "0.19964226783831004\n"
          ]
        }
      ],
      "source": [
        "catboost1, study_catboost1 = catboost_modeling1(X_train1, y_train_log1, X_valid1, y_valid_log1)\n",
        "\n",
        "print(study_catboost1.best_params)\n",
        "print(study_catboost1.best_value)\n",
        "#Best value: 0.199642"
      ]
    },
    {
      "cell_type": "code",
      "execution_count": 153,
      "metadata": {
        "colab": {
          "base_uri": "https://localhost:8080/",
          "height": 1000,
          "referenced_widgets": [
            "e6523f3cba304ded903dfb357a43ee92",
            "28ca6b061e504fcf8cae977e96aabc22",
            "13169dff4a7e4f9c9b2e753947934a59",
            "5270ccdbd32c457b8590226e1a504f97",
            "5c05d45969b0494bbc4738fa1f34155b",
            "8d7ea465c1684674af24f0431efe696c",
            "baa1a5f61e7e4002becc7eb90c3efef1",
            "3d9600ebfc724cf9835b2fd51b1abfc6",
            "ce6b7192cf1d4fb581826e97bc3e29dc",
            "84e0a405c67143ef9b459ac5b74bccc2",
            "de921f60e2cd4b0ba80b909445a06191"
          ]
        },
        "id": "1b3JG-_A4gZJ",
        "outputId": "9ac63f12-3e2a-4141-85f7-66437611ad94"
      },
      "outputs": [
        {
          "name": "stderr",
          "output_type": "stream",
          "text": [
            "[I 2024-01-05 21:40:05,827] A new study created in memory with name: no-name-63395362-2679-4ec3-a9e4-e50bf58e70d8\n"
          ]
        },
        {
          "data": {
            "application/vnd.jupyter.widget-view+json": {
              "model_id": "22de958db4684d68b7f212c1616bda88",
              "version_major": 2,
              "version_minor": 0
            },
            "text/plain": [
              "  0%|          | 0/30 [00:00<?, ?it/s]"
            ]
          },
          "metadata": {},
          "output_type": "display_data"
        },
        {
          "name": "stdout",
          "output_type": "stream",
          "text": [
            "Training until validation scores don't improve for 100 rounds\n",
            "Early stopping, best iteration is:\n",
            "[1026]\tvalid_0's rmse: 0.449355\n",
            "[I 2024-01-05 21:40:19,145] Trial 0 finished with value: 0.1652931910882946 and parameters: {'num_leaves': 286, 'colsample_bytree': 0.7835108155281388, 'reg_alpha': 0.4245175907491331, 'reg_lambda': 8.447761323199037, 'max_depth': 8, 'learning_rate': 0.01323028259781289, 'n_estimators': 2342, 'min_child_samples': 92, 'subsample': 0.8273413179369906}. Best is trial 0 with value: 0.1652931910882946.\n",
            "Training until validation scores don't improve for 100 rounds\n",
            "Early stopping, best iteration is:\n",
            "[803]\tvalid_0's rmse: 0.449402\n",
            "[I 2024-01-05 21:40:29,793] Trial 1 finished with value: 0.16530893731772456 and parameters: {'num_leaves': 301, 'colsample_bytree': 0.9673965862936792, 'reg_alpha': 0.20920212211718958, 'reg_lambda': 1.8532821955007506, 'max_depth': 8, 'learning_rate': 0.016584313263890035, 'n_estimators': 2958, 'min_child_samples': 91, 'subsample': 0.8343882025465189}. Best is trial 0 with value: 0.1652931910882946.\n",
            "Training until validation scores don't improve for 100 rounds\n",
            "Early stopping, best iteration is:\n",
            "[225]\tvalid_0's rmse: 0.449599\n",
            "[I 2024-01-05 21:40:37,726] Trial 2 finished with value: 0.16537708511774057 and parameters: {'num_leaves': 421, 'colsample_bytree': 0.7822221241125097, 'reg_alpha': 0.4317041836631217, 'reg_lambda': 9.400298196223746, 'max_depth': 14, 'learning_rate': 0.021682629560764107, 'n_estimators': 1350, 'min_child_samples': 69, 'subsample': 0.8011377014705148}. Best is trial 0 with value: 0.1652931910882946.\n",
            "Training until validation scores don't improve for 100 rounds\n",
            "Early stopping, best iteration is:\n",
            "[600]\tvalid_0's rmse: 0.449441\n",
            "[I 2024-01-05 21:40:47,730] Trial 3 finished with value: 0.1653182018996252 and parameters: {'num_leaves': 141, 'colsample_bytree': 0.9386987525419862, 'reg_alpha': 0.01525497124633901, 'reg_lambda': 5.988433769284929, 'max_depth': 12, 'learning_rate': 0.012739362198601082, 'n_estimators': 1764, 'min_child_samples': 51, 'subsample': 0.9780823126884152}. Best is trial 0 with value: 0.1652931910882946.\n",
            "Training until validation scores don't improve for 100 rounds\n",
            "Early stopping, best iteration is:\n",
            "[109]\tvalid_0's rmse: 0.449736\n",
            "[I 2024-01-05 21:40:51,945] Trial 4 finished with value: 0.16542030371908834 and parameters: {'num_leaves': 503, 'colsample_bytree': 0.7179825966454111, 'reg_alpha': 0.8905459447285041, 'reg_lambda': 5.769014994000329, 'max_depth': 13, 'learning_rate': 0.042676022602809054, 'n_estimators': 2164, 'min_child_samples': 51, 'subsample': 0.8420053155345721}. Best is trial 0 with value: 0.1652931910882946.\n",
            "Training until validation scores don't improve for 100 rounds\n",
            "Early stopping, best iteration is:\n",
            "[66]\tvalid_0's rmse: 0.449658\n",
            "[I 2024-01-05 21:40:55,012] Trial 5 finished with value: 0.16539857142395095 and parameters: {'num_leaves': 286, 'colsample_bytree': 0.9307345513316955, 'reg_alpha': 0.2506952291383959, 'reg_lambda': 2.8589569040686467, 'max_depth': 14, 'learning_rate': 0.0944074992066832, 'n_estimators': 2770, 'min_child_samples': 68, 'subsample': 0.9197717891751495}. Best is trial 0 with value: 0.1652931910882946.\n",
            "Training until validation scores don't improve for 100 rounds\n",
            "Early stopping, best iteration is:\n",
            "[376]\tvalid_0's rmse: 0.449331\n",
            "[I 2024-01-05 21:41:00,996] Trial 6 finished with value: 0.16528430625837973 and parameters: {'num_leaves': 192, 'colsample_bytree': 0.8020570646111937, 'reg_alpha': 0.17808098950580487, 'reg_lambda': 2.376942086240504, 'max_depth': 8, 'learning_rate': 0.03202074482061571, 'n_estimators': 1752, 'min_child_samples': 80, 'subsample': 0.9259883751174995}. Best is trial 6 with value: 0.16528430625837973.\n",
            "Training until validation scores don't improve for 100 rounds\n",
            "Early stopping, best iteration is:\n",
            "[530]\tvalid_0's rmse: 0.449376\n",
            "[I 2024-01-05 21:41:07,776] Trial 7 finished with value: 0.16529527005201797 and parameters: {'num_leaves': 86, 'colsample_bytree': 0.9801523898399257, 'reg_alpha': 0.9463798808091013, 'reg_lambda': 6.022966577308656, 'max_depth': 11, 'learning_rate': 0.023077459852761856, 'n_estimators': 1408, 'min_child_samples': 64, 'subsample': 0.84930717624071}. Best is trial 6 with value: 0.16528430625837973.\n",
            "Training until validation scores don't improve for 100 rounds\n",
            "Early stopping, best iteration is:\n",
            "[459]\tvalid_0's rmse: 0.449379\n",
            "[I 2024-01-05 21:41:14,660] Trial 8 finished with value: 0.16529158643417272 and parameters: {'num_leaves': 102, 'colsample_bytree': 0.9899829083461971, 'reg_alpha': 0.9570126003527981, 'reg_lambda': 5.979736843289207, 'max_depth': 13, 'learning_rate': 0.02189703047708427, 'n_estimators': 1184, 'min_child_samples': 73, 'subsample': 0.9017397786476388}. Best is trial 6 with value: 0.16528430625837973.\n",
            "Training until validation scores don't improve for 100 rounds\n",
            "Early stopping, best iteration is:\n",
            "[328]\tvalid_0's rmse: 0.44932\n",
            "[I 2024-01-05 21:41:18,368] Trial 9 finished with value: 0.1652740841692192 and parameters: {'num_leaves': 59, 'colsample_bytree': 0.8584105669954142, 'reg_alpha': 0.9921580365105283, 'reg_lambda': 3.950359317582296, 'max_depth': 10, 'learning_rate': 0.06389259646429983, 'n_estimators': 2509, 'min_child_samples': 65, 'subsample': 0.9268073365924551}. Best is trial 9 with value: 0.1652740841692192.\n",
            "Training until validation scores don't improve for 100 rounds\n",
            "Early stopping, best iteration is:\n",
            "[856]\tvalid_0's rmse: 0.449351\n",
            "[I 2024-01-05 21:41:23,762] Trial 10 finished with value: 0.16528177817432374 and parameters: {'num_leaves': 17, 'colsample_bytree': 0.8782537366930974, 'reg_alpha': 0.7089054297607518, 'reg_lambda': 0.9671738635741085, 'max_depth': 10, 'learning_rate': 0.06312373825761299, 'n_estimators': 2555, 'min_child_samples': 61, 'subsample': 0.990142092101792}. Best is trial 9 with value: 0.1652740841692192.\n",
            "Training until validation scores don't improve for 100 rounds\n",
            "Early stopping, best iteration is:\n",
            "[539]\tvalid_0's rmse: 0.449307\n",
            "[I 2024-01-05 21:41:27,578] Trial 11 finished with value: 0.1652657902567018 and parameters: {'num_leaves': 21, 'colsample_bytree': 0.8818762890825397, 'reg_alpha': 0.7212026060044041, 'reg_lambda': 1.0913188408908356, 'max_depth': 10, 'learning_rate': 0.06686228781048692, 'n_estimators': 2591, 'min_child_samples': 61, 'subsample': 0.9842983629880566}. Best is trial 11 with value: 0.1652657902567018.\n",
            "Training until validation scores don't improve for 100 rounds\n",
            "Early stopping, best iteration is:\n",
            "[532]\tvalid_0's rmse: 0.449381\n",
            "[I 2024-01-05 21:41:31,497] Trial 12 finished with value: 0.16529771286444211 and parameters: {'num_leaves': 28, 'colsample_bytree': 0.8558825261319339, 'reg_alpha': 0.7365948728840033, 'reg_lambda': 3.5637557895137846, 'max_depth': 10, 'learning_rate': 0.06342094918686329, 'n_estimators': 2542, 'min_child_samples': 58, 'subsample': 0.9597544630254945}. Best is trial 11 with value: 0.1652657902567018.\n",
            "Training until validation scores don't improve for 100 rounds\n",
            "Early stopping, best iteration is:\n",
            "[63]\tvalid_0's rmse: 0.449669\n",
            "[I 2024-01-05 21:41:34,216] Trial 13 finished with value: 0.16540663863284766 and parameters: {'num_leaves': 189, 'colsample_bytree': 0.897469801268673, 'reg_alpha': 0.7491314103076837, 'reg_lambda': 0.42506502344497366, 'max_depth': 10, 'learning_rate': 0.09641282647155178, 'n_estimators': 2050, 'min_child_samples': 82, 'subsample': 0.9522528927064305}. Best is trial 11 with value: 0.1652657902567018.\n",
            "Training until validation scores don't improve for 100 rounds\n",
            "Early stopping, best iteration is:\n",
            "[300]\tvalid_0's rmse: 0.449383\n",
            "[I 2024-01-05 21:41:38,193] Trial 14 finished with value: 0.16529810331965378 and parameters: {'num_leaves': 75, 'colsample_bytree': 0.8317876820877073, 'reg_alpha': 0.5871031167589889, 'reg_lambda': 0.1618583966090048, 'max_depth': 9, 'learning_rate': 0.0492197526277084, 'n_estimators': 2499, 'min_child_samples': 57, 'subsample': 0.9918796662492315}. Best is trial 11 with value: 0.1652657902567018.\n",
            "Training until validation scores don't improve for 100 rounds\n",
            "Early stopping, best iteration is:\n",
            "[128]\tvalid_0's rmse: 0.44952\n",
            "[I 2024-01-05 21:41:41,662] Trial 15 finished with value: 0.1653544255906099 and parameters: {'num_leaves': 183, 'colsample_bytree': 0.8932402865144623, 'reg_alpha': 0.8430133628759113, 'reg_lambda': 4.069371201278706, 'max_depth': 11, 'learning_rate': 0.0667698137410483, 'n_estimators': 2845, 'min_child_samples': 75, 'subsample': 0.9419561870078285}. Best is trial 11 with value: 0.1652657902567018.\n",
            "Training until validation scores don't improve for 100 rounds\n",
            "Early stopping, best iteration is:\n",
            "[266]\tvalid_0's rmse: 0.449486\n",
            "[I 2024-01-05 21:41:47,362] Trial 16 finished with value: 0.1653402540123813 and parameters: {'num_leaves': 367, 'colsample_bytree': 0.8555949730866064, 'reg_alpha': 0.9655107547034487, 'reg_lambda': 1.6815130083607022, 'max_depth': 9, 'learning_rate': 0.036230535710702644, 'n_estimators': 2299, 'min_child_samples': 65, 'subsample': 0.9670082640940775}. Best is trial 11 with value: 0.1652657902567018.\n",
            "Training until validation scores don't improve for 100 rounds\n",
            "Early stopping, best iteration is:\n",
            "[187]\tvalid_0's rmse: 0.449418\n",
            "[I 2024-01-05 21:41:51,246] Trial 17 finished with value: 0.16531207678082238 and parameters: {'num_leaves': 142, 'colsample_bytree': 0.907357032890792, 'reg_alpha': 0.8163914842157524, 'reg_lambda': 3.9317692990133613, 'max_depth': 12, 'learning_rate': 0.048731758454422076, 'n_estimators': 2701, 'min_child_samples': 100, 'subsample': 0.890492065163892}. Best is trial 11 with value: 0.1652657902567018.\n",
            "Training until validation scores don't improve for 100 rounds\n",
            "Early stopping, best iteration is:\n",
            "[251]\tvalid_0's rmse: 0.449375\n",
            "[I 2024-01-05 21:41:54,079] Trial 18 finished with value: 0.1652953999973349 and parameters: {'num_leaves': 52, 'colsample_bytree': 0.8410314392732339, 'reg_alpha': 0.9934789890358741, 'reg_lambda': 1.2533194742110698, 'max_depth': 9, 'learning_rate': 0.0762406879983001, 'n_estimators': 1908, 'min_child_samples': 56, 'subsample': 0.9982702880156583}. Best is trial 11 with value: 0.1652657902567018.\n",
            "Training until validation scores don't improve for 100 rounds\n",
            "Early stopping, best iteration is:\n",
            "[173]\tvalid_0's rmse: 0.449462\n",
            "[I 2024-01-05 21:41:57,379] Trial 19 finished with value: 0.16532699323623626 and parameters: {'num_leaves': 116, 'colsample_bytree': 0.9269663685679821, 'reg_alpha': 0.5693209146125945, 'reg_lambda': 2.8669395388089853, 'max_depth': 15, 'learning_rate': 0.05238997795880091, 'n_estimators': 2989, 'min_child_samples': 81, 'subsample': 0.9663243812557979}. Best is trial 11 with value: 0.1652657902567018.\n",
            "Training until validation scores don't improve for 100 rounds\n",
            "Early stopping, best iteration is:\n",
            "[102]\tvalid_0's rmse: 0.449581\n",
            "[I 2024-01-05 21:42:00,563] Trial 20 finished with value: 0.1653745069635466 and parameters: {'num_leaves': 208, 'colsample_bytree': 0.8642050018242631, 'reg_alpha': 0.8224065242360109, 'reg_lambda': 4.610285966185608, 'max_depth': 11, 'learning_rate': 0.07851853628006286, 'n_estimators': 2341, 'min_child_samples': 71, 'subsample': 0.9418349077537437}. Best is trial 11 with value: 0.1652657902567018.\n",
            "Training until validation scores don't improve for 100 rounds\n",
            "Early stopping, best iteration is:\n",
            "[942]\tvalid_0's rmse: 0.44932\n",
            "[I 2024-01-05 21:42:05,796] Trial 21 finished with value: 0.1652712917121585 and parameters: {'num_leaves': 19, 'colsample_bytree': 0.8797540665946072, 'reg_alpha': 0.6776521250476738, 'reg_lambda': 0.9170272788034349, 'max_depth': 10, 'learning_rate': 0.05938192668003035, 'n_estimators': 2571, 'min_child_samples': 62, 'subsample': 0.9862245165117961}. Best is trial 11 with value: 0.1652657902567018.\n",
            "Training until validation scores don't improve for 100 rounds\n",
            "Early stopping, best iteration is:\n",
            "[821]\tvalid_0's rmse: 0.449306\n",
            "[I 2024-01-05 21:42:10,429] Trial 22 finished with value: 0.16526560424159956 and parameters: {'num_leaves': 18, 'colsample_bytree': 0.8829369508248255, 'reg_alpha': 0.6779754550300205, 'reg_lambda': 0.9773135449322707, 'max_depth': 10, 'learning_rate': 0.05684458771626437, 'n_estimators': 2704, 'min_child_samples': 63, 'subsample': 0.979391754647576}. Best is trial 22 with value: 0.16526560424159956.\n",
            "Training until validation scores don't improve for 100 rounds\n",
            "Early stopping, best iteration is:\n",
            "[885]\tvalid_0's rmse: 0.449301\n",
            "[I 2024-01-05 21:42:16,200] Trial 23 finished with value: 0.16526782549119104 and parameters: {'num_leaves': 26, 'colsample_bytree': 0.8911038534355192, 'reg_alpha': 0.6536140593202664, 'reg_lambda': 0.21487982252013715, 'max_depth': 9, 'learning_rate': 0.04186529399788284, 'n_estimators': 2683, 'min_child_samples': 61, 'subsample': 0.9796648434343916}. Best is trial 22 with value: 0.16526560424159956.\n",
            "Training until validation scores don't improve for 100 rounds\n",
            "Early stopping, best iteration is:\n",
            "[302]\tvalid_0's rmse: 0.449278\n",
            "[I 2024-01-05 21:42:21,246] Trial 24 finished with value: 0.16526506010148764 and parameters: {'num_leaves': 140, 'colsample_bytree': 0.9150735540397849, 'reg_alpha': 0.6332414936957886, 'reg_lambda': 0.03386532464504238, 'max_depth': 9, 'learning_rate': 0.04107738263987887, 'n_estimators': 2725, 'min_child_samples': 54, 'subsample': 0.9965311547292869}. Best is trial 24 with value: 0.16526506010148764.\n",
            "Training until validation scores don't improve for 100 rounds\n",
            "Early stopping, best iteration is:\n",
            "[280]\tvalid_0's rmse: 0.449398\n",
            "[I 2024-01-05 21:42:26,163] Trial 25 finished with value: 0.1653048635537915 and parameters: {'num_leaves': 139, 'colsample_bytree': 0.9447591469419848, 'reg_alpha': 0.5170778070470878, 'reg_lambda': 0.1566881218384831, 'max_depth': 9, 'learning_rate': 0.03617596778190219, 'n_estimators': 2795, 'min_child_samples': 50, 'subsample': 0.9962972313564703}. Best is trial 24 with value: 0.16526506010148764.\n",
            "Training until validation scores don't improve for 100 rounds\n",
            "Early stopping, best iteration is:\n",
            "[144]\tvalid_0's rmse: 0.44954\n",
            "[I 2024-01-05 21:42:30,112] Trial 26 finished with value: 0.16535797620200152 and parameters: {'num_leaves': 222, 'colsample_bytree': 0.9148343215631141, 'reg_alpha': 0.6267196707558198, 'reg_lambda': 1.635683962928867, 'max_depth': 11, 'learning_rate': 0.05449593537491642, 'n_estimators': 2223, 'min_child_samples': 54, 'subsample': 0.9696284322681779}. Best is trial 24 with value: 0.16526506010148764.\n",
            "Training until validation scores don't improve for 100 rounds\n",
            "Early stopping, best iteration is:\n",
            "[172]\tvalid_0's rmse: 0.449562\n",
            "[I 2024-01-05 21:42:34,680] Trial 27 finished with value: 0.1653675426623861 and parameters: {'num_leaves': 235, 'colsample_bytree': 0.9506217649381846, 'reg_alpha': 0.7574103556483895, 'reg_lambda': 0.9680529715818814, 'max_depth': 10, 'learning_rate': 0.04389308134112581, 'n_estimators': 2850, 'min_child_samples': 59, 'subsample': 0.9747642224243676}. Best is trial 24 with value: 0.16526506010148764.\n",
            "Training until validation scores don't improve for 100 rounds\n",
            "Early stopping, best iteration is:\n",
            "[150]\tvalid_0's rmse: 0.449443\n",
            "[I 2024-01-05 21:42:37,530] Trial 28 finished with value: 0.16532237894724178 and parameters: {'num_leaves': 109, 'colsample_bytree': 0.9160592968517034, 'reg_alpha': 0.6397634708371965, 'reg_lambda': 2.042001961072231, 'max_depth': 8, 'learning_rate': 0.07717518705782002, 'n_estimators': 2427, 'min_child_samples': 54, 'subsample': 0.9995298431196444}. Best is trial 24 with value: 0.16526506010148764.\n",
            "Training until validation scores don't improve for 100 rounds\n",
            "Early stopping, best iteration is:\n",
            "[337]\tvalid_0's rmse: 0.449322\n",
            "[I 2024-01-05 21:42:41,280] Trial 29 finished with value: 0.16527749236855707 and parameters: {'num_leaves': 57, 'colsample_bytree': 0.9592354972374054, 'reg_alpha': 0.5235596510164776, 'reg_lambda': 0.8783247323560293, 'max_depth': 8, 'learning_rate': 0.05215690484892423, 'n_estimators': 2117, 'min_child_samples': 68, 'subsample': 0.9760087588461854}. Best is trial 24 with value: 0.16526506010148764.\n",
            "[LightGBM] [Warning] Found whitespace in feature_names, replace with underlines\n",
            "[LightGBM] [Info] Auto-choosing row-wise multi-threading, the overhead of testing was 0.008059 seconds.\n",
            "You can set `force_row_wise=true` to remove the overhead.\n",
            "And if memory is not enough, you can set `force_col_wise=true`.\n",
            "[LightGBM] [Info] Total Bins 2040\n",
            "[LightGBM] [Info] Number of data points in the train set: 391344, number of used features: 25\n",
            "[LightGBM] [Warning] Found whitespace in feature_names, replace with underlines\n",
            "[LightGBM] [Info] Start training from score 1.698204\n",
            "Training until validation scores don't improve for 100 rounds\n",
            "[LightGBM] [Warning] No further splits with positive gain, best gain: -inf\n",
            "[LightGBM] [Warning] No further splits with positive gain, best gain: -inf\n",
            "[LightGBM] [Warning] No further splits with positive gain, best gain: -inf\n",
            "[LightGBM] [Warning] No further splits with positive gain, best gain: -inf\n",
            "[LightGBM] [Warning] No further splits with positive gain, best gain: -inf\n",
            "[LightGBM] [Warning] No further splits with positive gain, best gain: -inf\n",
            "[LightGBM] [Warning] No further splits with positive gain, best gain: -inf\n",
            "[LightGBM] [Warning] No further splits with positive gain, best gain: -inf\n",
            "[LightGBM] [Warning] No further splits with positive gain, best gain: -inf\n",
            "[LightGBM] [Warning] No further splits with positive gain, best gain: -inf\n",
            "[LightGBM] [Warning] No further splits with positive gain, best gain: -inf\n",
            "[LightGBM] [Warning] No further splits with positive gain, best gain: -inf\n",
            "[LightGBM] [Warning] No further splits with positive gain, best gain: -inf\n",
            "[LightGBM] [Warning] No further splits with positive gain, best gain: -inf\n",
            "[LightGBM] [Warning] No further splits with positive gain, best gain: -inf\n",
            "[LightGBM] [Warning] No further splits with positive gain, best gain: -inf\n",
            "[LightGBM] [Warning] No further splits with positive gain, best gain: -inf\n",
            "[LightGBM] [Warning] No further splits with positive gain, best gain: -inf\n",
            "[LightGBM] [Warning] No further splits with positive gain, best gain: -inf\n",
            "[LightGBM] [Warning] No further splits with positive gain, best gain: -inf\n",
            "[LightGBM] [Warning] No further splits with positive gain, best gain: -inf\n",
            "[LightGBM] [Warning] No further splits with positive gain, best gain: -inf\n",
            "[LightGBM] [Warning] No further splits with positive gain, best gain: -inf\n",
            "[LightGBM] [Warning] No further splits with positive gain, best gain: -inf\n",
            "[LightGBM] [Warning] No further splits with positive gain, best gain: -inf\n",
            "[LightGBM] [Warning] No further splits with positive gain, best gain: -inf\n",
            "[LightGBM] [Warning] No further splits with positive gain, best gain: -inf\n",
            "[LightGBM] [Warning] No further splits with positive gain, best gain: -inf\n",
            "[LightGBM] [Warning] No further splits with positive gain, best gain: -inf\n",
            "[LightGBM] [Warning] No further splits with positive gain, best gain: -inf\n",
            "[LightGBM] [Warning] No further splits with positive gain, best gain: -inf\n",
            "[LightGBM] [Warning] No further splits with positive gain, best gain: -inf\n",
            "[LightGBM] [Warning] No further splits with positive gain, best gain: -inf\n",
            "[LightGBM] [Warning] No further splits with positive gain, best gain: -inf\n",
            "[LightGBM] [Warning] No further splits with positive gain, best gain: -inf\n",
            "[LightGBM] [Warning] No further splits with positive gain, best gain: -inf\n",
            "[LightGBM] [Warning] No further splits with positive gain, best gain: -inf\n",
            "[LightGBM] [Warning] No further splits with positive gain, best gain: -inf\n",
            "[LightGBM] [Warning] No further splits with positive gain, best gain: -inf\n",
            "[LightGBM] [Warning] No further splits with positive gain, best gain: -inf\n",
            "[LightGBM] [Warning] No further splits with positive gain, best gain: -inf\n",
            "[LightGBM] [Warning] No further splits with positive gain, best gain: -inf\n",
            "[LightGBM] [Warning] No further splits with positive gain, best gain: -inf\n",
            "[LightGBM] [Warning] No further splits with positive gain, best gain: -inf\n",
            "[LightGBM] [Warning] No further splits with positive gain, best gain: -inf\n",
            "[LightGBM] [Warning] No further splits with positive gain, best gain: -inf\n",
            "[LightGBM] [Warning] No further splits with positive gain, best gain: -inf\n",
            "[LightGBM] [Warning] No further splits with positive gain, best gain: -inf\n",
            "[LightGBM] [Warning] No further splits with positive gain, best gain: -inf\n",
            "[LightGBM] [Warning] No further splits with positive gain, best gain: -inf\n",
            "[LightGBM] [Warning] No further splits with positive gain, best gain: -inf\n",
            "[LightGBM] [Warning] No further splits with positive gain, best gain: -inf\n",
            "[LightGBM] [Warning] No further splits with positive gain, best gain: -inf\n",
            "[LightGBM] [Warning] No further splits with positive gain, best gain: -inf\n",
            "[LightGBM] [Warning] No further splits with positive gain, best gain: -inf\n",
            "[LightGBM] [Warning] No further splits with positive gain, best gain: -inf\n",
            "[LightGBM] [Warning] No further splits with positive gain, best gain: -inf\n",
            "[LightGBM] [Warning] No further splits with positive gain, best gain: -inf\n",
            "[LightGBM] [Warning] No further splits with positive gain, best gain: -inf\n",
            "[LightGBM] [Warning] No further splits with positive gain, best gain: -inf\n",
            "[LightGBM] [Warning] No further splits with positive gain, best gain: -inf\n",
            "[LightGBM] [Warning] No further splits with positive gain, best gain: -inf\n",
            "[LightGBM] [Warning] No further splits with positive gain, best gain: -inf\n",
            "[LightGBM] [Warning] No further splits with positive gain, best gain: -inf\n",
            "[LightGBM] [Warning] No further splits with positive gain, best gain: -inf\n",
            "Early stopping, best iteration is:\n",
            "[302]\tvalid_0's rmse: 0.449278\tvalid_0's l2: 0.201851\n",
            "{'num_leaves': 140, 'colsample_bytree': 0.9150735540397849, 'reg_alpha': 0.6332414936957886, 'reg_lambda': 0.03386532464504238, 'max_depth': 9, 'learning_rate': 0.04107738263987887, 'n_estimators': 2725, 'min_child_samples': 54, 'subsample': 0.9965311547292869}\n",
            "0.16526506010148764\n"
          ]
        }
      ],
      "source": [
        "lgbm2,study_lgbm2 = lgbm_modeling2(X_train2, y_train_log2, X_valid2, y_valid_log2)\n",
        "\n",
        "print(study_lgbm2.best_params)\n",
        "print(study_lgbm2.best_value)\n",
        "#Best value: 0.165257"
      ]
    },
    {
      "cell_type": "code",
      "execution_count": 154,
      "metadata": {
        "colab": {
          "base_uri": "https://localhost:8080/",
          "height": 675,
          "referenced_widgets": [
            "df0bdd60a0fe4062a2517a7cc40dbeab",
            "b55a6a7a9603406880eb37c829d6e9a4",
            "bf7d61d398ea4bab8835e59ddbea1362",
            "7ea3c9b9328e4f929ea01966f0aed779",
            "01503d35c8c248bdb886dfa18d6fec5a",
            "7c2364ed69bc42308288dc1636de1182",
            "48792c45b69c4fc793b332bb2aa07061",
            "cc422519562d4d7eac227fb08ad87c2c",
            "647dd816455c484897142da349081250",
            "93a26b8a9e1b49d39d270beda0487bd4",
            "bb79ae456def440596bcb323e7d6f2ce"
          ]
        },
        "id": "1sVKO6zpWH_l",
        "outputId": "c79d6f8e-35ed-4a92-fd8b-fe28027db5cf"
      },
      "outputs": [
        {
          "name": "stderr",
          "output_type": "stream",
          "text": [
            "[I 2024-01-05 21:43:36,280] A new study created in memory with name: no-name-c3a64e0f-7d95-42a2-9d4f-96314cd234a7\n"
          ]
        },
        {
          "data": {
            "application/vnd.jupyter.widget-view+json": {
              "model_id": "7bbada44c5b146d3b6367da31733cf70",
              "version_major": 2,
              "version_minor": 0
            },
            "text/plain": [
              "  0%|          | 0/30 [00:00<?, ?it/s]"
            ]
          },
          "metadata": {},
          "output_type": "display_data"
        },
        {
          "name": "stdout",
          "output_type": "stream",
          "text": [
            "[I 2024-01-05 21:43:54,152] Trial 0 finished with value: 0.16572154424950306 and parameters: {'iterations': 8608, 'od_wait': 917, 'learning_rate': 0.21801361946707523, 'reg_lambda': 42.23880816823386, 'subsample': 0.5023594280954863, 'random_strength': 14.862764831324569, 'depth': 12, 'min_data_in_leaf': 25, 'leaf_estimation_iterations': 3, 'bagging_temperature': 1.996978171423994, 'colsample_bylevel': 0.9347931725873584}. Best is trial 0 with value: 0.16572154424950306.\n",
            "[I 2024-01-05 21:44:25,797] Trial 1 finished with value: 0.16528877853722226 and parameters: {'iterations': 3929, 'od_wait': 778, 'learning_rate': 0.06310467632748501, 'reg_lambda': 10.984882434274681, 'subsample': 0.9893118923536848, 'random_strength': 42.46732596357293, 'depth': 6, 'min_data_in_leaf': 25, 'leaf_estimation_iterations': 5, 'bagging_temperature': 0.5331098841434914, 'colsample_bylevel': 0.9640178917734248}. Best is trial 1 with value: 0.16528877853722226.\n",
            "[I 2024-01-05 21:45:04,951] Trial 2 finished with value: 0.16570236253446505 and parameters: {'iterations': 12447, 'od_wait': 1004, 'learning_rate': 0.09595112233374496, 'reg_lambda': 18.641608586175693, 'subsample': 0.5028442536762867, 'random_strength': 20.097054137793616, 'depth': 13, 'min_data_in_leaf': 1, 'leaf_estimation_iterations': 9, 'bagging_temperature': 2.601466011605155, 'colsample_bylevel': 0.46308861124723383}. Best is trial 1 with value: 0.16528877853722226.\n",
            "[I 2024-01-05 21:45:15,718] Trial 3 finished with value: 0.16604415580042164 and parameters: {'iterations': 6347, 'od_wait': 554, 'learning_rate': 0.4463016660866171, 'reg_lambda': 49.046043041407, 'subsample': 0.5299709944090186, 'random_strength': 45.621837789140166, 'depth': 11, 'min_data_in_leaf': 23, 'leaf_estimation_iterations': 10, 'bagging_temperature': 2.1250481241558123, 'colsample_bylevel': 0.4122634792161539}. Best is trial 1 with value: 0.16528877853722226.\n",
            "[I 2024-01-05 21:46:24,261] Trial 4 finished with value: 0.16634251025422736 and parameters: {'iterations': 3940, 'od_wait': 1317, 'learning_rate': 0.38686643384176933, 'reg_lambda': 12.534768949967503, 'subsample': 0.6429478452034323, 'random_strength': 44.09580351365226, 'depth': 15, 'min_data_in_leaf': 27, 'leaf_estimation_iterations': 6, 'bagging_temperature': 2.4856260025785004, 'colsample_bylevel': 0.6128773669943799}. Best is trial 1 with value: 0.16528877853722226.\n",
            "[I 2024-01-05 21:46:41,329] Trial 5 finished with value: 0.16566494967523893 and parameters: {'iterations': 5763, 'od_wait': 767, 'learning_rate': 0.12647016222578472, 'reg_lambda': 2.2431236744159393, 'subsample': 0.7527157148178947, 'random_strength': 25.05009817189452, 'depth': 11, 'min_data_in_leaf': 19, 'leaf_estimation_iterations': 3, 'bagging_temperature': 54.3707342363769, 'colsample_bylevel': 0.9678279284854607}. Best is trial 1 with value: 0.16528877853722226.\n",
            "[I 2024-01-05 21:46:53,151] Trial 6 finished with value: 0.16536039563594138 and parameters: {'iterations': 9432, 'od_wait': 1082, 'learning_rate': 0.18796212201358142, 'reg_lambda': 10.217271799979441, 'subsample': 0.6383825306981676, 'random_strength': 19.861435248141987, 'depth': 6, 'min_data_in_leaf': 29, 'leaf_estimation_iterations': 15, 'bagging_temperature': 2.4654417002037676, 'colsample_bylevel': 0.8387804518359536}. Best is trial 1 with value: 0.16528877853722226.\n",
            "[I 2024-01-05 21:48:11,785] Trial 7 finished with value: 0.16627229314245995 and parameters: {'iterations': 5765, 'od_wait': 638, 'learning_rate': 0.2371140292792024, 'reg_lambda': 25.434949574920765, 'subsample': 0.5442300865014453, 'random_strength': 31.1214089327219, 'depth': 15, 'min_data_in_leaf': 12, 'leaf_estimation_iterations': 6, 'bagging_temperature': 16.66487841003685, 'colsample_bylevel': 0.8526093967494122}. Best is trial 1 with value: 0.16528877853722226.\n",
            "[I 2024-01-05 21:48:20,902] Trial 8 finished with value: 0.16573526810134157 and parameters: {'iterations': 5383, 'od_wait': 1451, 'learning_rate': 0.274798241897351, 'reg_lambda': 14.839694576063225, 'subsample': 0.5553939505912229, 'random_strength': 22.505611915029725, 'depth': 10, 'min_data_in_leaf': 20, 'leaf_estimation_iterations': 4, 'bagging_temperature': 3.6677948367210185, 'colsample_bylevel': 0.5200741643310419}. Best is trial 1 with value: 0.16528877853722226.\n",
            "[I 2024-01-05 21:49:09,550] Trial 9 finished with value: 0.16647306870406825 and parameters: {'iterations': 10207, 'od_wait': 1668, 'learning_rate': 0.39200321531926735, 'reg_lambda': 30.516411557188157, 'subsample': 0.6545001742622011, 'random_strength': 37.90939630051824, 'depth': 14, 'min_data_in_leaf': 19, 'leaf_estimation_iterations': 15, 'bagging_temperature': 80.5379383379046, 'colsample_bylevel': 0.5000164787193149}. Best is trial 1 with value: 0.16528877853722226.\n",
            "[I 2024-01-05 21:49:32,649] Trial 10 finished with value: 0.16621958760508393 and parameters: {'iterations': 1058, 'od_wait': 1988, 'learning_rate': 0.010745326147684614, 'reg_lambda': 2.8829073939565095, 'subsample': 0.9969144118622725, 'random_strength': 49.66096254732037, 'depth': 5, 'min_data_in_leaf': 12, 'leaf_estimation_iterations': 1, 'bagging_temperature': 0.07532028796968017, 'colsample_bylevel': 0.7309165596765588}. Best is trial 1 with value: 0.16528877853722226.\n",
            "[I 2024-01-05 21:49:55,421] Trial 11 finished with value: 0.16530080107568193 and parameters: {'iterations': 13776, 'od_wait': 1080, 'learning_rate': 0.13527319231628923, 'reg_lambda': 9.839560309857866, 'subsample': 0.9050957509923976, 'random_strength': 13.148831530455581, 'depth': 6, 'min_data_in_leaf': 30, 'leaf_estimation_iterations': 15, 'bagging_temperature': 0.23587978024393988, 'colsample_bylevel': 0.8272001118835488}. Best is trial 1 with value: 0.16528877853722226.\n",
            "[I 2024-01-05 21:50:47,816] Trial 12 finished with value: 0.1653124214878001 and parameters: {'iterations': 14928, 'od_wait': 1205, 'learning_rate': 0.02887784497265941, 'reg_lambda': 0.10544687060729707, 'subsample': 0.955432263586462, 'random_strength': 11.073853674801963, 'depth': 8, 'min_data_in_leaf': 30, 'leaf_estimation_iterations': 12, 'bagging_temperature': 0.23696599928801426, 'colsample_bylevel': 0.9904808889844067}. Best is trial 1 with value: 0.16528877853722226.\n",
            "[I 2024-01-05 21:51:09,586] Trial 13 finished with value: 0.1653679700071038 and parameters: {'iterations': 2198, 'od_wait': 884, 'learning_rate': 0.10749457936624816, 'reg_lambda': 9.835028070559986, 'subsample': 0.923387579313703, 'random_strength': 32.4523098073751, 'depth': 7, 'min_data_in_leaf': 23, 'leaf_estimation_iterations': 12, 'bagging_temperature': 0.010001464539188588, 'colsample_bylevel': 0.8542884874426665}. Best is trial 1 with value: 0.16528877853722226.\n",
            "[I 2024-01-05 21:51:23,107] Trial 14 finished with value: 0.16542897271288132 and parameters: {'iterations': 11998, 'od_wait': 746, 'learning_rate': 0.15172218153415784, 'reg_lambda': 20.26913893117031, 'subsample': 0.8966262412799687, 'random_strength': 37.37710439950534, 'depth': 8, 'min_data_in_leaf': 3, 'leaf_estimation_iterations': 7, 'bagging_temperature': 0.4502056056893091, 'colsample_bylevel': 0.7653070976939209}. Best is trial 1 with value: 0.16528877853722226.\n",
            "[I 2024-01-05 21:51:57,550] Trial 15 finished with value: 0.16527908220094273 and parameters: {'iterations': 14112, 'od_wait': 1522, 'learning_rate': 0.07739420601039514, 'reg_lambda': 7.401199344761577, 'subsample': 0.8510965827393607, 'random_strength': 27.415218083187398, 'depth': 5, 'min_data_in_leaf': 30, 'leaf_estimation_iterations': 12, 'bagging_temperature': 0.11633729276909537, 'colsample_bylevel': 0.9016825215957707}. Best is trial 15 with value: 0.16527908220094273.\n",
            "[I 2024-01-05 21:52:41,371] Trial 16 finished with value: 0.16527188105545634 and parameters: {'iterations': 3604, 'od_wait': 1580, 'learning_rate': 0.06580171538749761, 'reg_lambda': 4.5421115096457685, 'subsample': 0.8419841276136888, 'random_strength': 27.04713851524151, 'depth': 5, 'min_data_in_leaf': 15, 'leaf_estimation_iterations': 11, 'bagging_temperature': 0.06314693507880309, 'colsample_bylevel': 0.9141023864941741}. Best is trial 16 with value: 0.16527188105545634.\n",
            "[I 2024-01-05 21:53:11,673] Trial 17 finished with value: 0.16539397884456997 and parameters: {'iterations': 10975, 'od_wait': 1717, 'learning_rate': 0.0562572835848309, 'reg_lambda': 5.325110462386622, 'subsample': 0.8375539017705651, 'random_strength': 27.35247222499889, 'depth': 9, 'min_data_in_leaf': 13, 'leaf_estimation_iterations': 12, 'bagging_temperature': 0.05671854828709822, 'colsample_bylevel': 0.9095371801300237}. Best is trial 16 with value: 0.16527188105545634.\n",
            "[I 2024-01-05 21:53:33,203] Trial 18 finished with value: 0.1653467102206667 and parameters: {'iterations': 7428, 'od_wait': 1536, 'learning_rate': 0.07841609442999715, 'reg_lambda': 0.35903778452580326, 'subsample': 0.8300707037880136, 'random_strength': 28.513045935860745, 'depth': 7, 'min_data_in_leaf': 8, 'leaf_estimation_iterations': 10, 'bagging_temperature': 0.04106992237852633, 'colsample_bylevel': 0.6658310096571414}. Best is trial 16 with value: 0.16527188105545634.\n",
            "[I 2024-01-05 21:55:25,152] Trial 19 finished with value: 0.16529129513205887 and parameters: {'iterations': 3780, 'od_wait': 1938, 'learning_rate': 0.016467885857318468, 'reg_lambda': 5.297762939804557, 'subsample': 0.8241908606161972, 'random_strength': 33.74835641333512, 'depth': 5, 'min_data_in_leaf': 16, 'leaf_estimation_iterations': 11, 'bagging_temperature': 0.015703605149628177, 'colsample_bylevel': 0.9156200728461925}. Best is trial 16 with value: 0.16527188105545634.\n",
            "[I 2024-01-05 21:55:45,622] Trial 20 finished with value: 0.1653375183460582 and parameters: {'iterations': 7453, 'od_wait': 1801, 'learning_rate': 0.16460450790042308, 'reg_lambda': 7.579102386890593, 'subsample': 0.7796630320044162, 'random_strength': 25.333345770353716, 'depth': 5, 'min_data_in_leaf': 5, 'leaf_estimation_iterations': 13, 'bagging_temperature': 0.10527977548195823, 'colsample_bylevel': 0.7783878953139366}. Best is trial 16 with value: 0.16527188105545634.\n",
            "[I 2024-01-05 21:56:19,069] Trial 21 finished with value: 0.16528599108385944 and parameters: {'iterations': 3424, 'od_wait': 1433, 'learning_rate': 0.05957545305111741, 'reg_lambda': 15.365289384666305, 'subsample': 0.8703914059364966, 'random_strength': 35.876213254171226, 'depth': 6, 'min_data_in_leaf': 26, 'leaf_estimation_iterations': 8, 'bagging_temperature': 0.5625632580842737, 'colsample_bylevel': 0.9954934329442023}. Best is trial 16 with value: 0.16527188105545634.\n",
            "[I 2024-01-05 21:56:43,961] Trial 22 finished with value: 0.1653159372838736 and parameters: {'iterations': 2760, 'od_wait': 1424, 'learning_rate': 0.07644218826308266, 'reg_lambda': 15.01119921281564, 'subsample': 0.8738970003271863, 'random_strength': 29.10196443304726, 'depth': 7, 'min_data_in_leaf': 16, 'leaf_estimation_iterations': 8, 'bagging_temperature': 0.02793085331162263, 'colsample_bylevel': 0.8975174485845591}. Best is trial 16 with value: 0.16527188105545634.\n",
            "[I 2024-01-05 21:57:21,376] Trial 23 finished with value: 0.165290525794889 and parameters: {'iterations': 1323, 'od_wait': 1564, 'learning_rate': 0.05190810891226894, 'reg_lambda': 5.773265594945094, 'subsample': 0.8554470029996266, 'random_strength': 34.96891949076357, 'depth': 5, 'min_data_in_leaf': 9, 'leaf_estimation_iterations': 9, 'bagging_temperature': 0.14684258468736183, 'colsample_bylevel': 0.9918578040999901}. Best is trial 16 with value: 0.16527188105545634.\n",
            "[I 2024-01-05 21:57:43,042] Trial 24 finished with value: 0.1653163672384612 and parameters: {'iterations': 4739, 'od_wait': 1284, 'learning_rate': 0.11145712544209346, 'reg_lambda': 6.8052147740394595, 'subsample': 0.7989189308398315, 'random_strength': 31.457502515086958, 'depth': 6, 'min_data_in_leaf': 27, 'leaf_estimation_iterations': 8, 'bagging_temperature': 0.029361925523239327, 'colsample_bylevel': 0.9370983108123623}. Best is trial 16 with value: 0.16527188105545634.\n",
            "[I 2024-01-05 21:58:17,267] Trial 25 finished with value: 0.16535078412769944 and parameters: {'iterations': 2478, 'od_wait': 1794, 'learning_rate': 0.04712572435720654, 'reg_lambda': 15.895634050705372, 'subsample': 0.8806786943330573, 'random_strength': 36.448796697606916, 'depth': 8, 'min_data_in_leaf': 21, 'leaf_estimation_iterations': 13, 'bagging_temperature': 0.7383603608864577, 'colsample_bylevel': 0.8765980840498797}. Best is trial 16 with value: 0.16527188105545634.\n",
            "[I 2024-01-05 21:58:33,662] Trial 26 finished with value: 0.16546516728417074 and parameters: {'iterations': 6551, 'od_wait': 1398, 'learning_rate': 0.1086652754750283, 'reg_lambda': 19.292791079301963, 'subsample': 0.934504176048944, 'random_strength': 39.724782968876674, 'depth': 9, 'min_data_in_leaf': 27, 'leaf_estimation_iterations': 10, 'bagging_temperature': 0.13086866583781176, 'colsample_bylevel': 0.9409392406310351}. Best is trial 16 with value: 0.16527188105545634.\n",
            "[I 2024-01-05 22:00:09,386] Trial 27 finished with value: 0.1653905240354171 and parameters: {'iterations': 3133, 'od_wait': 1606, 'learning_rate': 0.011982956140695444, 'reg_lambda': 12.742634858262482, 'subsample': 0.8565181051537858, 'random_strength': 32.15134100502433, 'depth': 5, 'min_data_in_leaf': 17, 'leaf_estimation_iterations': 13, 'bagging_temperature': 0.22953246787004722, 'colsample_bylevel': 0.9966960388206991}. Best is trial 16 with value: 0.16527188105545634.\n",
            "[I 2024-01-05 22:00:37,193] Trial 28 finished with value: 0.16533706699672737 and parameters: {'iterations': 8818, 'od_wait': 1196, 'learning_rate': 0.08046257647239113, 'reg_lambda': 3.7834908096961084, 'subsample': 0.7941943750768707, 'random_strength': 33.98816580668683, 'depth': 7, 'min_data_in_leaf': 14, 'leaf_estimation_iterations': 11, 'bagging_temperature': 0.06299274874585883, 'colsample_bylevel': 0.887249541824482}. Best is trial 16 with value: 0.16527188105545634.\n",
            "[I 2024-01-05 22:00:52,627] Trial 29 finished with value: 0.16534928460822704 and parameters: {'iterations': 8487, 'od_wait': 1508, 'learning_rate': 0.1906488409220359, 'reg_lambda': 9.169203361182637, 'subsample': 0.8808765916109684, 'random_strength': 18.384200633299475, 'depth': 6, 'min_data_in_leaf': 24, 'leaf_estimation_iterations': 14, 'bagging_temperature': 0.3765156717215021, 'colsample_bylevel': 0.9386092496093983}. Best is trial 16 with value: 0.16527188105545634.\n",
            "{'iterations': 3604, 'od_wait': 1580, 'learning_rate': 0.06580171538749761, 'reg_lambda': 4.5421115096457685, 'subsample': 0.8419841276136888, 'random_strength': 27.04713851524151, 'depth': 5, 'min_data_in_leaf': 15, 'leaf_estimation_iterations': 11, 'bagging_temperature': 0.06314693507880309, 'colsample_bylevel': 0.9141023864941741}\n",
            "0.16527188105545634\n"
          ]
        }
      ],
      "source": [
        "catboost2,study_catboost2 = catboost_modeling2(X_train2, y_train_log2, X_valid2, y_valid_log2)\n",
        "\n",
        "print(study_catboost2.best_params)\n",
        "print(study_catboost2.best_value)\n",
        "#Best value: 0.165264"
      ]
    },
    {
      "cell_type": "code",
      "execution_count": 155,
      "metadata": {
        "colab": {
          "base_uri": "https://localhost:8080/",
          "height": 1000,
          "referenced_widgets": [
            "16b34acb5e8c473ba3ddbdc0dc0e6cf5",
            "5a851a8450fa4c7d8ab87a875c8b073a",
            "671fe5a43af4495982e5133912c2c451",
            "35926b7dda1445709aa496e4c2a09bee",
            "5ba2eb57d959481bb372c92dcf218146",
            "b90f9a30a77c47d38be1d604379b1c7c",
            "0e876d0be22b42e7922ddb9048636760",
            "6c772a5904ee4f0eb5ce44964bd6feb2",
            "2414b58cb19f4e659ae2bfbe3f2050da",
            "5da6c137409442c48e708b04a71e0f4b",
            "4400ec3b8b99409db74cb2449f1cb1bc"
          ]
        },
        "id": "NWUXh8tl4gcF",
        "outputId": "ce7a3833-2254-4a23-c5a0-092f544d0713"
      },
      "outputs": [
        {
          "name": "stderr",
          "output_type": "stream",
          "text": [
            "[I 2024-01-05 22:01:36,590] A new study created in memory with name: no-name-f7217f35-05e2-4a25-9107-fa6bc24bd396\n"
          ]
        },
        {
          "data": {
            "application/vnd.jupyter.widget-view+json": {
              "model_id": "68d46b4989474fa3a64d85634764526f",
              "version_major": 2,
              "version_minor": 0
            },
            "text/plain": [
              "  0%|          | 0/30 [00:00<?, ?it/s]"
            ]
          },
          "metadata": {},
          "output_type": "display_data"
        },
        {
          "name": "stdout",
          "output_type": "stream",
          "text": [
            "Training until validation scores don't improve for 100 rounds\n",
            "Early stopping, best iteration is:\n",
            "[652]\tvalid_0's rmse: 0.315499\n",
            "[I 2024-01-05 22:01:38,434] Trial 0 finished with value: 0.12754219826479057 and parameters: {'num_leaves': 140, 'colsample_bytree': 0.7835108155281388, 'reg_alpha': 0.4245175907491331, 'reg_lambda': 8.447761323199037, 'max_depth': 6, 'learning_rate': 0.01323028259781289, 'n_estimators': 1506, 'min_child_samples': 67, 'subsample': 0.8273413179369906}. Best is trial 0 with value: 0.12754219826479057.\n",
            "Training until validation scores don't improve for 100 rounds\n",
            "Early stopping, best iteration is:\n",
            "[515]\tvalid_0's rmse: 0.315502\n",
            "[I 2024-01-05 22:01:39,944] Trial 1 finished with value: 0.12753675648911078 and parameters: {'num_leaves': 148, 'colsample_bytree': 0.9673965862936792, 'reg_alpha': 0.20920212211718958, 'reg_lambda': 1.8532821955007506, 'max_depth': 6, 'learning_rate': 0.016584313263890035, 'n_estimators': 1968, 'min_child_samples': 66, 'subsample': 0.8343882025465189}. Best is trial 1 with value: 0.12753675648911078.\n",
            "Training until validation scores don't improve for 100 rounds\n",
            "Early stopping, best iteration is:\n",
            "[195]\tvalid_0's rmse: 0.315802\n",
            "[I 2024-01-05 22:01:41,680] Trial 2 finished with value: 0.12763280312890446 and parameters: {'num_leaves': 210, 'colsample_bytree': 0.7822221241125097, 'reg_alpha': 0.4317041836631217, 'reg_lambda': 9.400298196223746, 'max_depth': 11, 'learning_rate': 0.021682629560764107, 'n_estimators': 763, 'min_child_samples': 44, 'subsample': 0.8011377014705148}. Best is trial 1 with value: 0.12753675648911078.\n",
            "Training until validation scores don't improve for 100 rounds\n",
            "Early stopping, best iteration is:\n",
            "[359]\tvalid_0's rmse: 0.315484\n",
            "[I 2024-01-05 22:01:43,210] Trial 3 finished with value: 0.12754561006000395 and parameters: {'num_leaves': 66, 'colsample_bytree': 0.9386987525419862, 'reg_alpha': 0.01525497124633901, 'reg_lambda': 5.988433769284929, 'max_depth': 10, 'learning_rate': 0.012739362198601082, 'n_estimators': 1073, 'min_child_samples': 26, 'subsample': 0.9780823126884152}. Best is trial 1 with value: 0.12753675648911078.\n",
            "Training until validation scores don't improve for 100 rounds\n",
            "Early stopping, best iteration is:\n",
            "[82]\tvalid_0's rmse: 0.315989\n",
            "[I 2024-01-05 22:01:44,527] Trial 4 finished with value: 0.12770221936707402 and parameters: {'num_leaves': 252, 'colsample_bytree': 0.7179825966454111, 'reg_alpha': 0.8905459447285041, 'reg_lambda': 5.769014994000329, 'max_depth': 11, 'learning_rate': 0.042676022602809054, 'n_estimators': 1373, 'min_child_samples': 26, 'subsample': 0.8420053155345721}. Best is trial 1 with value: 0.12753675648911078.\n",
            "Training until validation scores don't improve for 100 rounds\n",
            "Early stopping, best iteration is:\n",
            "[38]\tvalid_0's rmse: 0.315796\n",
            "[I 2024-01-05 22:01:45,194] Trial 5 finished with value: 0.12764507844105522 and parameters: {'num_leaves': 140, 'colsample_bytree': 0.9307345513316955, 'reg_alpha': 0.2506952291383959, 'reg_lambda': 2.8589569040686467, 'max_depth': 11, 'learning_rate': 0.0944074992066832, 'n_estimators': 1828, 'min_child_samples': 43, 'subsample': 0.9197717891751495}. Best is trial 1 with value: 0.12753675648911078.\n",
            "Training until validation scores don't improve for 100 rounds\n",
            "Early stopping, best iteration is:\n",
            "[245]\tvalid_0's rmse: 0.31549\n",
            "[I 2024-01-05 22:01:46,027] Trial 6 finished with value: 0.12753466495988983 and parameters: {'num_leaves': 92, 'colsample_bytree': 0.8020570646111937, 'reg_alpha': 0.17808098950580487, 'reg_lambda': 2.376942086240504, 'max_depth': 6, 'learning_rate': 0.03202074482061571, 'n_estimators': 1064, 'min_child_samples': 55, 'subsample': 0.9259883751174995}. Best is trial 6 with value: 0.12753466495988983.\n",
            "Training until validation scores don't improve for 100 rounds\n",
            "Early stopping, best iteration is:\n",
            "[398]\tvalid_0's rmse: 0.315382\n",
            "[I 2024-01-05 22:01:47,160] Trial 7 finished with value: 0.12749949309623168 and parameters: {'num_leaves': 38, 'colsample_bytree': 0.9801523898399257, 'reg_alpha': 0.9463798808091013, 'reg_lambda': 6.022966577308656, 'max_depth': 8, 'learning_rate': 0.023077459852761856, 'n_estimators': 806, 'min_child_samples': 39, 'subsample': 0.84930717624071}. Best is trial 7 with value: 0.12749949309623168.\n",
            "Training until validation scores don't improve for 100 rounds\n",
            "Early stopping, best iteration is:\n",
            "[411]\tvalid_0's rmse: 0.31535\n",
            "[I 2024-01-05 22:01:48,528] Trial 8 finished with value: 0.12748468618184333 and parameters: {'num_leaves': 46, 'colsample_bytree': 0.9899829083461971, 'reg_alpha': 0.9570126003527981, 'reg_lambda': 5.979736843289207, 'max_depth': 11, 'learning_rate': 0.02189703047708427, 'n_estimators': 638, 'min_child_samples': 48, 'subsample': 0.9017397786476388}. Best is trial 8 with value: 0.12748468618184333.\n",
            "Training until validation scores don't improve for 100 rounds\n",
            "Early stopping, best iteration is:\n",
            "[218]\tvalid_0's rmse: 0.315449\n",
            "[I 2024-01-05 22:01:49,081] Trial 9 finished with value: 0.12752430795960404 and parameters: {'num_leaves': 24, 'colsample_bytree': 0.8584105669954142, 'reg_alpha': 0.9921580365105283, 'reg_lambda': 3.950359317582296, 'max_depth': 8, 'learning_rate': 0.06389259646429983, 'n_estimators': 1632, 'min_child_samples': 40, 'subsample': 0.9268073365924551}. Best is trial 8 with value: 0.12748468618184333.\n",
            "Training until validation scores don't improve for 100 rounds\n",
            "Did not meet early stopping. Best iteration is:\n",
            "[554]\tvalid_0's rmse: 0.318495\n",
            "[I 2024-01-05 22:01:49,544] Trial 10 finished with value: 0.12865372228615982 and parameters: {'num_leaves': 2, 'colsample_bytree': 0.9974466093321308, 'reg_alpha': 0.7089054297607518, 'reg_lambda': 1.2011099837715111, 'max_depth': 12, 'learning_rate': 0.011220942636621151, 'n_estimators': 554, 'min_child_samples': 57, 'subsample': 0.8835956133204941}. Best is trial 8 with value: 0.12748468618184333.\n",
            "Training until validation scores don't improve for 100 rounds\n",
            "Early stopping, best iteration is:\n",
            "[279]\tvalid_0's rmse: 0.315365\n",
            "[I 2024-01-05 22:01:50,661] Trial 11 finished with value: 0.12749905469780767 and parameters: {'num_leaves': 57, 'colsample_bytree': 0.9941694194070513, 'reg_alpha': 0.7982159933671429, 'reg_lambda': 6.901876653313488, 'max_depth': 8, 'learning_rate': 0.022616139328380493, 'n_estimators': 772, 'min_child_samples': 35, 'subsample': 0.8773882865846353}. Best is trial 8 with value: 0.12748468618184333.\n",
            "Training until validation scores don't improve for 100 rounds\n",
            "Early stopping, best iteration is:\n",
            "[188]\tvalid_0's rmse: 0.315466\n",
            "[I 2024-01-05 22:01:51,827] Trial 12 finished with value: 0.1275280573891572 and parameters: {'num_leaves': 89, 'colsample_bytree': 0.9084839672175956, 'reg_alpha': 0.7392834164222114, 'reg_lambda': 7.510867037005973, 'max_depth': 9, 'learning_rate': 0.02484145229835459, 'n_estimators': 545, 'min_child_samples': 33, 'subsample': 0.8819649353478052}. Best is trial 8 with value: 0.12748468618184333.\n",
            "Training until validation scores don't improve for 100 rounds\n",
            "Early stopping, best iteration is:\n",
            "[203]\tvalid_0's rmse: 0.315483\n",
            "[I 2024-01-05 22:01:52,777] Trial 13 finished with value: 0.12753995017203973 and parameters: {'num_leaves': 58, 'colsample_bytree': 0.9923414979990016, 'reg_alpha': 0.7491314103076837, 'reg_lambda': 7.2349294439191265, 'max_depth': 8, 'learning_rate': 0.034555139985611945, 'n_estimators': 842, 'min_child_samples': 50, 'subsample': 0.8878538310887107}. Best is trial 8 with value: 0.12748468618184333.\n",
            "Training until validation scores don't improve for 100 rounds\n",
            "Early stopping, best iteration is:\n",
            "[313]\tvalid_0's rmse: 0.315578\n",
            "[I 2024-01-05 22:01:54,514] Trial 14 finished with value: 0.12756696487936264 and parameters: {'num_leaves': 95, 'colsample_bytree': 0.8962055541875508, 'reg_alpha': 0.8174046193129709, 'reg_lambda': 4.46721138577761, 'max_depth': 9, 'learning_rate': 0.017167932612918668, 'n_estimators': 1081, 'min_child_samples': 75, 'subsample': 0.8663173344770935}. Best is trial 8 with value: 0.12748468618184333.\n",
            "Training until validation scores don't improve for 100 rounds\n",
            "Did not meet early stopping. Best iteration is:\n",
            "[657]\tvalid_0's rmse: 0.317656\n",
            "[I 2024-01-05 22:01:55,020] Trial 15 finished with value: 0.12835067105569367 and parameters: {'num_leaves': 2, 'colsample_bytree': 0.9578100220670572, 'reg_alpha': 0.8707460681394222, 'reg_lambda': 7.061437576397278, 'max_depth': 7, 'learning_rate': 0.018280555062939574, 'n_estimators': 657, 'min_child_samples': 35, 'subsample': 0.9032217685084242}. Best is trial 8 with value: 0.12748468618184333.\n",
            "Training until validation scores don't improve for 100 rounds\n",
            "Early stopping, best iteration is:\n",
            "[255]\tvalid_0's rmse: 0.315429\n",
            "[I 2024-01-05 22:01:56,127] Trial 16 finished with value: 0.12751994882890022 and parameters: {'num_leaves': 58, 'colsample_bytree': 0.9469599897956281, 'reg_alpha': 0.6548644944531826, 'reg_lambda': 4.990037416007329, 'max_depth': 10, 'learning_rate': 0.027082203801210753, 'n_estimators': 957, 'min_child_samples': 51, 'subsample': 0.9483910155575241}. Best is trial 8 with value: 0.12748468618184333.\n",
            "Training until validation scores don't improve for 100 rounds\n",
            "Early stopping, best iteration is:\n",
            "[111]\tvalid_0's rmse: 0.315894\n",
            "[I 2024-01-05 22:01:57,527] Trial 17 finished with value: 0.12767274018877134 and parameters: {'num_leaves': 190, 'colsample_bytree': 0.9995421512747464, 'reg_alpha': 0.5996123317526767, 'reg_lambda': 9.968815047140424, 'max_depth': 12, 'learning_rate': 0.03301711689422031, 'n_estimators': 1199, 'min_child_samples': 31, 'subsample': 0.863941551859057}. Best is trial 8 with value: 0.12748468618184333.\n",
            "Training until validation scores don't improve for 100 rounds\n",
            "Did not meet early stopping. Best iteration is:\n",
            "[505]\tvalid_0's rmse: 0.315623\n",
            "[I 2024-01-05 22:02:00,044] Trial 18 finished with value: 0.1275805264724587 and parameters: {'num_leaves': 112, 'colsample_bytree': 0.9064340004251861, 'reg_alpha': 0.9932318737928966, 'reg_lambda': 3.607796179726538, 'max_depth': 10, 'learning_rate': 0.010763525563000389, 'n_estimators': 505, 'min_child_samples': 48, 'subsample': 0.9039811463918331}. Best is trial 8 with value: 0.12748468618184333.\n",
            "Training until validation scores don't improve for 100 rounds\n",
            "Early stopping, best iteration is:\n",
            "[524]\tvalid_0's rmse: 0.315351\n",
            "[I 2024-01-05 22:02:01,495] Trial 19 finished with value: 0.12748690637799573 and parameters: {'num_leaves': 36, 'colsample_bytree': 0.9646888806138907, 'reg_alpha': 0.8394042827232332, 'reg_lambda': 5.212413859314229, 'max_depth': 7, 'learning_rate': 0.0198363621884378, 'n_estimators': 708, 'min_child_samples': 59, 'subsample': 0.995768192272815}. Best is trial 8 with value: 0.12748468618184333.\n",
            "Training until validation scores don't improve for 100 rounds\n",
            "Early stopping, best iteration is:\n",
            "[587]\tvalid_0's rmse: 0.315392\n",
            "[I 2024-01-05 22:02:02,961] Trial 20 finished with value: 0.12750479139394125 and parameters: {'num_leaves': 30, 'colsample_bytree': 0.9628095490710931, 'reg_alpha': 0.8854368910946597, 'reg_lambda': 5.007105670502365, 'max_depth': 7, 'learning_rate': 0.015410863724864074, 'n_estimators': 918, 'min_child_samples': 62, 'subsample': 0.99924992083963}. Best is trial 8 with value: 0.12748468618184333.\n",
            "Training until validation scores don't improve for 100 rounds\n",
            "Early stopping, best iteration is:\n",
            "[366]\tvalid_0's rmse: 0.315552\n",
            "[I 2024-01-05 22:02:04,444] Trial 21 finished with value: 0.12755937464305536 and parameters: {'num_leaves': 69, 'colsample_bytree': 0.9729529164332062, 'reg_alpha': 0.8017176893553872, 'reg_lambda': 6.356031607522349, 'max_depth': 7, 'learning_rate': 0.020465880981501317, 'n_estimators': 700, 'min_child_samples': 58, 'subsample': 0.9565070795482064}. Best is trial 8 with value: 0.12748468618184333.\n",
            "Training until validation scores don't improve for 100 rounds\n",
            "Early stopping, best iteration is:\n",
            "[393]\tvalid_0's rmse: 0.31537\n",
            "[I 2024-01-05 22:02:05,744] Trial 22 finished with value: 0.12749600679071346 and parameters: {'num_leaves': 43, 'colsample_bytree': 0.941985666693146, 'reg_alpha': 0.8289548093931605, 'reg_lambda': 5.16617519588462, 'max_depth': 9, 'learning_rate': 0.01999172976982746, 'n_estimators': 665, 'min_child_samples': 62, 'subsample': 0.9968934621830919}. Best is trial 8 with value: 0.12748468618184333.\n",
            "Training until validation scores don't improve for 100 rounds\n",
            "Early stopping, best iteration is:\n",
            "[528]\tvalid_0's rmse: 0.315293\n",
            "[I 2024-01-05 22:02:07,161] Trial 23 finished with value: 0.127470690962635 and parameters: {'num_leaves': 31, 'colsample_bytree': 0.9310649267671021, 'reg_alpha': 0.9142357476958998, 'reg_lambda': 5.153497280577318, 'max_depth': 9, 'learning_rate': 0.018630711977680268, 'n_estimators': 651, 'min_child_samples': 72, 'subsample': 0.9963059544774142}. Best is trial 23 with value: 0.127470690962635.\n",
            "Training until validation scores don't improve for 100 rounds\n",
            "Did not meet early stopping. Best iteration is:\n",
            "[934]\tvalid_0's rmse: 0.315435\n",
            "[I 2024-01-05 22:02:08,731] Trial 24 finished with value: 0.12752156530894418 and parameters: {'num_leaves': 18, 'colsample_bytree': 0.9185846317460451, 'reg_alpha': 0.9180884722040088, 'reg_lambda': 3.687103340735398, 'max_depth': 10, 'learning_rate': 0.014648179184746252, 'n_estimators': 936, 'min_child_samples': 75, 'subsample': 0.9799980425743255}. Best is trial 23 with value: 0.127470690962635.\n",
            "Training until validation scores don't improve for 100 rounds\n",
            "Early stopping, best iteration is:\n",
            "[321]\tvalid_0's rmse: 0.31556\n",
            "[I 2024-01-05 22:02:10,419] Trial 25 finished with value: 0.12756599386581705 and parameters: {'num_leaves': 79, 'colsample_bytree': 0.9614606544508018, 'reg_alpha': 0.9877116430100658, 'reg_lambda': 5.560315790602355, 'max_depth': 11, 'learning_rate': 0.018007052505832382, 'n_estimators': 607, 'min_child_samples': 70, 'subsample': 0.952810468113076}. Best is trial 23 with value: 0.127470690962635.\n",
            "Training until validation scores don't improve for 100 rounds\n",
            "Early stopping, best iteration is:\n",
            "[251]\tvalid_0's rmse: 0.315622\n",
            "[I 2024-01-05 22:02:11,578] Trial 26 finished with value: 0.12758727704880388 and parameters: {'num_leaves': 112, 'colsample_bytree': 0.9250484951510958, 'reg_alpha': 0.9178442466704674, 'reg_lambda': 4.6495540151433, 'max_depth': 7, 'learning_rate': 0.02695479301848142, 'n_estimators': 1190, 'min_child_samples': 71, 'subsample': 0.9669736945039835}. Best is trial 23 with value: 0.127470690962635.\n",
            "Training until validation scores don't improve for 100 rounds\n",
            "Early stopping, best iteration is:\n",
            "[560]\tvalid_0's rmse: 0.315374\n",
            "[I 2024-01-05 22:02:13,327] Trial 27 finished with value: 0.12749862361765266 and parameters: {'num_leaves': 43, 'colsample_bytree': 0.8937149322414004, 'reg_alpha': 0.6025078409202698, 'reg_lambda': 3.992646907030537, 'max_depth': 12, 'learning_rate': 0.01435245598590801, 'n_estimators': 1351, 'min_child_samples': 63, 'subsample': 0.9397723474794365}. Best is trial 23 with value: 0.127470690962635.\n",
            "Training until validation scores don't improve for 100 rounds\n",
            "Early stopping, best iteration is:\n",
            "[229]\tvalid_0's rmse: 0.315746\n",
            "[I 2024-01-05 22:02:15,110] Trial 28 finished with value: 0.12761640035926894 and parameters: {'num_leaves': 170, 'colsample_bytree': 0.9744008461480095, 'reg_alpha': 0.8534275350801538, 'reg_lambda': 6.382891749174926, 'max_depth': 9, 'learning_rate': 0.018952762781520426, 'n_estimators': 889, 'min_child_samples': 55, 'subsample': 0.9774620336889986}. Best is trial 23 with value: 0.127470690962635.\n",
            "Training until validation scores don't improve for 100 rounds\n",
            "Did not meet early stopping. Best iteration is:\n",
            "[730]\tvalid_0's rmse: 0.315582\n",
            "[I 2024-01-05 22:02:16,328] Trial 29 finished with value: 0.12758591283630186 and parameters: {'num_leaves': 16, 'colsample_bytree': 0.935598682637839, 'reg_alpha': 0.9430285070697437, 'reg_lambda': 7.913067332397489, 'max_depth': 6, 'learning_rate': 0.012553292365752861, 'n_estimators': 730, 'min_child_samples': 68, 'subsample': 0.9914656322638127}. Best is trial 23 with value: 0.127470690962635.\n",
            "[LightGBM] [Warning] Accuracy may be bad since you didn't explicitly set num_leaves OR 2^max_depth > num_leaves. (num_leaves=31).\n",
            "[LightGBM] [Warning] Found whitespace in feature_names, replace with underlines\n",
            "[LightGBM] [Warning] Accuracy may be bad since you didn't explicitly set num_leaves OR 2^max_depth > num_leaves. (num_leaves=31).\n",
            "[LightGBM] [Info] Auto-choosing row-wise multi-threading, the overhead of testing was 0.001871 seconds.\n",
            "You can set `force_row_wise=true` to remove the overhead.\n",
            "And if memory is not enough, you can set `force_col_wise=true`.\n",
            "[LightGBM] [Info] Total Bins 2034\n",
            "[LightGBM] [Info] Number of data points in the train set: 90380, number of used features: 24\n",
            "[LightGBM] [Warning] Accuracy may be bad since you didn't explicitly set num_leaves OR 2^max_depth > num_leaves. (num_leaves=31).\n",
            "[LightGBM] [Warning] Found whitespace in feature_names, replace with underlines\n",
            "[LightGBM] [Info] Start training from score 1.568532\n",
            "Training until validation scores don't improve for 100 rounds\n",
            "Early stopping, best iteration is:\n",
            "[528]\tvalid_0's rmse: 0.315293\tvalid_0's l2: 0.0994094\n",
            "{'num_leaves': 31, 'colsample_bytree': 0.9310649267671021, 'reg_alpha': 0.9142357476958998, 'reg_lambda': 5.153497280577318, 'max_depth': 9, 'learning_rate': 0.018630711977680268, 'n_estimators': 651, 'min_child_samples': 72, 'subsample': 0.9963059544774142}\n",
            "0.127470690962635\n"
          ]
        }
      ],
      "source": [
        "lgbm3,study_lgbm3 = lgbm_modeling3(X_train3, y_train_log3, X_valid3, y_valid_log3)\n",
        "\n",
        "print(study_lgbm3.best_params)\n",
        "print(study_lgbm3.best_value)\n",
        "#Best value: 0.127486"
      ]
    },
    {
      "cell_type": "code",
      "execution_count": 156,
      "metadata": {
        "colab": {
          "base_uri": "https://localhost:8080/",
          "height": 675,
          "referenced_widgets": [
            "ccbd9388bc54420ea0cf5595c4b1d61c",
            "69bacdb664b94d81bb5ebfb5aaf6acfb",
            "ae199163504440d59ea15a7a1be134fd",
            "18ad334693dd4f66a9fdb3cacd7c0eb1",
            "60e005cbabe3417a982da606169fe6ba",
            "23509e42a689464ea1e2d0cbe2686249",
            "2b3e7a6475874630ada2e8f16ec8b3b0",
            "00fd6be269be4b2ca2938aaf000278cc",
            "0f873625281b49f8acb0a588c021bebf",
            "2e2b8b62ac4e49e1b2d7dc14bbd59707",
            "48df3194a85640ffac1deba5309890d2"
          ]
        },
        "id": "HGji9LMBWNpa",
        "outputId": "af4bad2d-437f-4897-8347-c79e21457d51"
      },
      "outputs": [
        {
          "name": "stderr",
          "output_type": "stream",
          "text": [
            "[I 2024-01-05 22:02:17,636] A new study created in memory with name: no-name-a567c888-a581-4549-bc28-12a6753210f8\n"
          ]
        },
        {
          "data": {
            "application/vnd.jupyter.widget-view+json": {
              "model_id": "931692aca77e44a1ba708a18cc502979",
              "version_major": 2,
              "version_minor": 0
            },
            "text/plain": [
              "  0%|          | 0/30 [00:00<?, ?it/s]"
            ]
          },
          "metadata": {},
          "output_type": "display_data"
        },
        {
          "name": "stdout",
          "output_type": "stream",
          "text": [
            "[I 2024-01-05 22:02:29,369] Trial 0 finished with value: 0.12768310211327003 and parameters: {'iterations': 5891, 'od_wait': 917, 'learning_rate': 0.04820658316742198, 'reg_lambda': 16.89552419863675, 'subsample': 0.7014156568572917, 'random_strength': 12.431382415662284, 'depth': 10, 'min_data_in_leaf': 18, 'leaf_estimation_iterations': 2, 'bagging_temperature': 1.996978171423994, 'colsample_bylevel': 0.945660977156132}. Best is trial 0 with value: 0.12768310211327003.\n",
            "[I 2024-01-05 22:02:45,845] Trial 1 finished with value: 0.12747627021881913 and parameters: {'iterations': 2883, 'od_wait': 778, 'learning_rate': 0.01975392014178296, 'reg_lambda': 4.3939576555249165, 'subsample': 0.9935871354122109, 'random_strength': 26.233662981786466, 'depth': 6, 'min_data_in_leaf': 18, 'leaf_estimation_iterations': 3, 'bagging_temperature': 0.5331098841434914, 'colsample_bylevel': 0.9700149098111873}. Best is trial 1 with value: 0.12747627021881913.\n",
            "[I 2024-01-05 22:03:12,596] Trial 2 finished with value: 0.12773051784914932 and parameters: {'iterations': 8359, 'od_wait': 1004, 'learning_rate': 0.025786940836810303, 'reg_lambda': 7.456647197478, 'subsample': 0.7017065522057719, 'random_strength': 15.048527068896808, 'depth': 11, 'min_data_in_leaf': 5, 'leaf_estimation_iterations': 6, 'bagging_temperature': 2.601466011605155, 'colsample_bylevel': 0.5525738427060282}. Best is trial 1 with value: 0.12747627021881913.\n",
            "[I 2024-01-05 22:03:18,845] Trial 3 finished with value: 0.12776393388453908 and parameters: {'iterations': 4437, 'od_wait': 554, 'learning_rate': 0.09013704070978681, 'reg_lambda': 19.61841733103766, 'subsample': 0.7179825966454111, 'random_strength': 27.810918894570083, 'depth': 9, 'min_data_in_leaf': 16, 'leaf_estimation_iterations': 7, 'bagging_temperature': 2.1250481241558123, 'colsample_bylevel': 0.5102195660134616}. Best is trial 1 with value: 0.12747627021881913.\n",
            "[I 2024-01-05 22:03:32,691] Trial 4 finished with value: 0.12799960958064083 and parameters: {'iterations': 2890, 'od_wait': 1317, 'learning_rate': 0.07922036539950865, 'reg_lambda': 5.013912075815627, 'subsample': 0.7857687071220594, 'random_strength': 27.04790175682613, 'depth': 12, 'min_data_in_leaf': 19, 'leaf_estimation_iterations': 4, 'bagging_temperature': 2.4856260025785004, 'colsample_bylevel': 0.6773978058286498}. Best is trial 1 with value: 0.12747627021881913.\n",
            "[I 2024-01-05 22:03:45,128] Trial 5 finished with value: 0.12761156556856237 and parameters: {'iterations': 4062, 'od_wait': 767, 'learning_rate': 0.031392478776164544, 'reg_lambda': 0.897255200592681, 'subsample': 0.8516294288907368, 'random_strength': 17.52504908594726, 'depth': 9, 'min_data_in_leaf': 15, 'leaf_estimation_iterations': 2, 'bagging_temperature': 54.3707342363769, 'colsample_bylevel': 0.9731899404045506}. Best is trial 1 with value: 0.12747627021881913.\n",
            "[I 2024-01-05 22:03:59,093] Trial 6 finished with value: 0.1274833884892396 and parameters: {'iterations': 6421, 'od_wait': 1082, 'learning_rate': 0.04268692036984149, 'reg_lambda': 4.0869134939201155, 'subsample': 0.7830295184189006, 'random_strength': 14.930717624070994, 'depth': 6, 'min_data_in_leaf': 20, 'leaf_estimation_iterations': 10, 'bagging_temperature': 2.4654417002037676, 'colsample_bylevel': 0.8656503765299612}. Best is trial 1 with value: 0.12747627021881913.\n",
            "[I 2024-01-05 22:04:20,678] Trial 7 finished with value: 0.12789729129270697 and parameters: {'iterations': 4063, 'od_wait': 638, 'learning_rate': 0.0517148217043433, 'reg_lambda': 10.173982777774947, 'subsample': 0.7265380519008672, 'random_strength': 20.56070446636095, 'depth': 12, 'min_data_in_leaf': 11, 'leaf_estimation_iterations': 4, 'bagging_temperature': 16.66487841003685, 'colsample_bylevel': 0.8771744972911768}. Best is trial 1 with value: 0.12747627021881913.\n",
            "[I 2024-01-05 22:04:27,282] Trial 8 finished with value: 0.12760500861193463 and parameters: {'iterations': 3817, 'od_wait': 1451, 'learning_rate': 0.05863641177706448, 'reg_lambda': 5.935882049662784, 'subsample': 0.7332363703547337, 'random_strength': 16.252805957514862, 'depth': 8, 'min_data_in_leaf': 15, 'leaf_estimation_iterations': 3, 'bagging_temperature': 3.6677948367210185, 'colsample_bylevel': 0.6000618036092016}. Best is trial 1 with value: 0.12747627021881913.\n",
            "[I 2024-01-05 22:04:42,475] Trial 9 finished with value: 0.12793500379548228 and parameters: {'iterations': 6919, 'od_wait': 1668, 'learning_rate': 0.08016385587496747, 'reg_lambda': 12.206566960906343, 'subsample': 0.7927001045573207, 'random_strength': 23.95469815025912, 'depth': 11, 'min_data_in_leaf': 15, 'leaf_estimation_iterations': 10, 'bagging_temperature': 80.5379383379046, 'colsample_bylevel': 0.5833470655994291}. Best is trial 1 with value: 0.12747627021881913.\n",
            "[I 2024-01-05 22:04:48,744] Trial 10 finished with value: 0.1282266654078947 and parameters: {'iterations': 1037, 'od_wait': 1988, 'learning_rate': 0.01013689663937066, 'reg_lambda': 1.1531686116348472, 'subsample': 0.9981486471173635, 'random_strength': 29.830481273660187, 'depth': 5, 'min_data_in_leaf': 10, 'leaf_estimation_iterations': 1, 'bagging_temperature': 0.07532028796968017, 'colsample_bylevel': 0.7757637997304657}. Best is trial 1 with value: 0.12747627021881913.\n",
            "[I 2024-01-05 22:05:03,081] Trial 11 finished with value: 0.12748740362118655 and parameters: {'iterations': 9213, 'od_wait': 1080, 'learning_rate': 0.033009361854012334, 'reg_lambda': 3.9358289431968725, 'subsample': 0.9430574505954386, 'random_strength': 11.57441576522779, 'depth': 6, 'min_data_in_leaf': 20, 'leaf_estimation_iterations': 10, 'bagging_temperature': 0.23587978024393988, 'colsample_bylevel': 0.8560000932362907}. Best is trial 1 with value: 0.12747627021881913.\n",
            "[I 2024-01-05 22:05:27,211] Trial 12 finished with value: 0.12751692833520248 and parameters: {'iterations': 6911, 'od_wait': 1207, 'learning_rate': 0.01570261621187046, 'reg_lambda': 0.042184735590492295, 'subsample': 0.8977722453655599, 'random_strength': 20.352271049003193, 'depth': 7, 'min_data_in_leaf': 20, 'leaf_estimation_iterations': 8, 'bagging_temperature': 0.010176826731829122, 'colsample_bylevel': 0.9920674074870055}. Best is trial 1 with value: 0.12747627021881913.\n",
            "[I 2024-01-05 22:05:40,066] Trial 13 finished with value: 0.12749331640755962 and parameters: {'iterations': 1770, 'od_wait': 884, 'learning_rate': 0.03768393366112645, 'reg_lambda': 4.0149776415737835, 'subsample': 0.999243707891152, 'random_strength': 23.38907429183662, 'depth': 5, 'min_data_in_leaf': 17, 'leaf_estimation_iterations': 5, 'bagging_temperature': 0.5390951329931898, 'colsample_bylevel': 0.8960302885602097}. Best is trial 1 with value: 0.12747627021881913.\n",
            "[I 2024-01-05 22:05:58,778] Trial 14 finished with value: 0.12750680096516 and parameters: {'iterations': 5714, 'od_wait': 747, 'learning_rate': 0.023769494784274203, 'reg_lambda': 8.10765914017217, 'subsample': 0.8658042464870604, 'random_strength': 10.342691042372234, 'depth': 7, 'min_data_in_leaf': 13, 'leaf_estimation_iterations': 8, 'bagging_temperature': 10.240099855102951, 'colsample_bylevel': 0.8117769271882779}. Best is trial 1 with value: 0.12747627021881913.\n",
            "[I 2024-01-05 22:06:11,611] Trial 15 finished with value: 0.12748839415624094 and parameters: {'iterations': 2628, 'od_wait': 1523, 'learning_rate': 0.043536219874932246, 'reg_lambda': 3.0290651022546546, 'subsample': 0.8097471365397082, 'random_strength': 13.642946861358682, 'depth': 6, 'min_data_in_leaf': 7, 'leaf_estimation_iterations': 9, 'bagging_temperature': 0.7804156239065371, 'colsample_bylevel': 0.9208499868662625}. Best is trial 1 with value: 0.12747627021881913.\n",
            "[I 2024-01-05 22:06:28,510] Trial 16 finished with value: 0.12751269055357162 and parameters: {'iterations': 7182, 'od_wait': 1139, 'learning_rate': 0.020383992623802607, 'reg_lambda': 6.774341199413003, 'subsample': 0.9129137484283565, 'random_strength': 18.09890011491285, 'depth': 7, 'min_data_in_leaf': 18, 'leaf_estimation_iterations': 5, 'bagging_temperature': 0.1361888277261823, 'colsample_bylevel': 0.9972305433887818}. Best is trial 1 with value: 0.12747627021881913.\n",
            "[I 2024-01-05 22:07:01,215] Trial 17 finished with value: 0.12744074920584245 and parameters: {'iterations': 5072, 'od_wait': 507, 'learning_rate': 0.011771195153504896, 'reg_lambda': 2.6494705364815703, 'subsample': 0.8225865693544083, 'random_strength': 14.930266274757845, 'depth': 6, 'min_data_in_leaf': 13, 'leaf_estimation_iterations': 6, 'bagging_temperature': 0.49371142383514155, 'colsample_bylevel': 0.8398343008198651}. Best is trial 17 with value: 0.12744074920584245.\n",
            "[I 2024-01-05 22:07:32,314] Trial 18 finished with value: 0.12751677583720247 and parameters: {'iterations': 2734, 'od_wait': 508, 'learning_rate': 0.011122122780857294, 'reg_lambda': 1.3038463974766596, 'subsample': 0.8289267000604581, 'random_strength': 22.14597996279236, 'depth': 8, 'min_data_in_leaf': 12, 'leaf_estimation_iterations': 6, 'bagging_temperature': 0.38179710926263194, 'colsample_bylevel': 0.7300695671284935}. Best is trial 17 with value: 0.12744074920584245.\n",
            "[I 2024-01-05 22:07:52,938] Trial 19 finished with value: 0.12745050389758644 and parameters: {'iterations': 5040, 'od_wait': 715, 'learning_rate': 0.02079795473946021, 'reg_lambda': 2.3928426881666542, 'subsample': 0.9702125019073959, 'random_strength': 17.53150294716, 'depth': 5, 'min_data_in_leaf': 8, 'leaf_estimation_iterations': 4, 'bagging_temperature': 0.09382457733353844, 'colsample_bylevel': 0.9296833940384936}. Best is trial 17 with value: 0.12744074920584245.\n",
            "[I 2024-01-05 22:08:10,399] Trial 20 finished with value: 0.12746425281122722 and parameters: {'iterations': 5188, 'od_wait': 659, 'learning_rate': 0.029291063117229517, 'reg_lambda': 1.5355497557641336, 'subsample': 0.8744010686283893, 'random_strength': 18.241195618175336, 'depth': 5, 'min_data_in_leaf': 9, 'leaf_estimation_iterations': 7, 'bagging_temperature': 0.05835335044205123, 'colsample_bylevel': 0.8218032958258852}. Best is trial 17 with value: 0.12744074920584245.\n",
            "[I 2024-01-05 22:08:31,099] Trial 21 finished with value: 0.12744795754945268 and parameters: {'iterations': 4840, 'od_wait': 648, 'learning_rate': 0.02793512719563571, 'reg_lambda': 2.342359231801073, 'subsample': 0.954171703555353, 'random_strength': 17.387266066239718, 'depth': 5, 'min_data_in_leaf': 9, 'leaf_estimation_iterations': 7, 'bagging_temperature': 0.05426469901557841, 'colsample_bylevel': 0.8269575528990454}. Best is trial 17 with value: 0.12744074920584245.\n",
            "[I 2024-01-05 22:08:58,916] Trial 22 finished with value: 0.12746984421583316 and parameters: {'iterations': 5054, 'od_wait': 502, 'learning_rate': 0.01758025632331195, 'reg_lambda': 2.3823053937812273, 'subsample': 0.9549511158284322, 'random_strength': 16.199363371626102, 'depth': 5, 'min_data_in_leaf': 8, 'leaf_estimation_iterations': 7, 'bagging_temperature': 0.02526050002099518, 'colsample_bylevel': 0.9127939367361978}. Best is trial 17 with value: 0.12744074920584245.\n",
            "[I 2024-01-05 22:09:20,086] Trial 23 finished with value: 0.12747776435291283 and parameters: {'iterations': 4845, 'od_wait': 665, 'learning_rate': 0.022154454673866585, 'reg_lambda': 2.5492873661121225, 'subsample': 0.9575306986136138, 'random_strength': 19.29452646307955, 'depth': 5, 'min_data_in_leaf': 6, 'leaf_estimation_iterations': 4, 'bagging_temperature': 0.18583531378925763, 'colsample_bylevel': 0.8265749578164376}. Best is trial 17 with value: 0.12744074920584245.\n",
            "[I 2024-01-05 22:09:57,567] Trial 24 finished with value: 0.1274431431933344 and parameters: {'iterations': 6006, 'od_wait': 892, 'learning_rate': 0.011084480881903619, 'reg_lambda': 0.2361445288488646, 'subsample': 0.9244301070387092, 'random_strength': 13.5511994062953, 'depth': 6, 'min_data_in_leaf': 13, 'leaf_estimation_iterations': 6, 'bagging_temperature': 0.08144852037484275, 'colsample_bylevel': 0.9267830865508723}. Best is trial 17 with value: 0.12744074920584245.\n",
            "[I 2024-01-05 22:10:28,584] Trial 25 finished with value: 0.1274863947598847 and parameters: {'iterations': 7512, 'od_wait': 850, 'learning_rate': 0.012439503481010642, 'reg_lambda': 5.740870774370968, 'subsample': 0.9218141969654884, 'random_strength': 13.348181342054392, 'depth': 7, 'min_data_in_leaf': 12, 'leaf_estimation_iterations': 6, 'bagging_temperature': 0.046808175116969344, 'colsample_bylevel': 0.7806778197058984}. Best is trial 17 with value: 0.12744074920584245.\n",
            "[I 2024-01-05 22:10:58,851] Trial 26 finished with value: 0.12743917886809752 and parameters: {'iterations': 6016, 'od_wait': 612, 'learning_rate': 0.014787664147261952, 'reg_lambda': 0.13269999411830513, 'subsample': 0.8992281540570837, 'random_strength': 14.217359185860326, 'depth': 6, 'min_data_in_leaf': 13, 'leaf_estimation_iterations': 8, 'bagging_temperature': 0.22322028407037464, 'colsample_bylevel': 0.8602407429040497}. Best is trial 26 with value: 0.12743917886809752.\n",
            "[I 2024-01-05 22:11:36,834] Trial 27 finished with value: 0.12750010716188717 and parameters: {'iterations': 7791, 'od_wait': 937, 'learning_rate': 0.010364216434005293, 'reg_lambda': 0.0511809849852935, 'subsample': 0.8705050620671454, 'random_strength': 10.300809573131948, 'depth': 8, 'min_data_in_leaf': 13, 'leaf_estimation_iterations': 8, 'bagging_temperature': 0.2917021354851513, 'colsample_bylevel': 0.9032000835939966}. Best is trial 26 with value: 0.12743917886809752.\n",
            "[I 2024-01-05 22:12:08,635] Trial 28 finished with value: 0.12746123898000708 and parameters: {'iterations': 6166, 'od_wait': 573, 'learning_rate': 0.016328195096366155, 'reg_lambda': 0.1390205448200188, 'subsample': 0.9014518763176053, 'random_strength': 14.33791106741645, 'depth': 6, 'min_data_in_leaf': 14, 'leaf_estimation_iterations': 9, 'bagging_temperature': 0.1662226492025895, 'colsample_bylevel': 0.9508139214063348}. Best is trial 26 with value: 0.12743917886809752.\n",
            "[I 2024-01-05 22:12:22,802] Trial 29 finished with value: 0.12749750591944606 and parameters: {'iterations': 5913, 'od_wait': 964, 'learning_rate': 0.026854300955529566, 'reg_lambda': 3.1873279355651523, 'subsample': 0.8897214481361085, 'random_strength': 12.291064928922466, 'depth': 7, 'min_data_in_leaf': 11, 'leaf_estimation_iterations': 5, 'bagging_temperature': 0.692204667869767, 'colsample_bylevel': 0.9419503527928765}. Best is trial 26 with value: 0.12743917886809752.\n",
            "{'iterations': 6016, 'od_wait': 612, 'learning_rate': 0.014787664147261952, 'reg_lambda': 0.13269999411830513, 'subsample': 0.8992281540570837, 'random_strength': 14.217359185860326, 'depth': 6, 'min_data_in_leaf': 13, 'leaf_estimation_iterations': 8, 'bagging_temperature': 0.22322028407037464, 'colsample_bylevel': 0.8602407429040497}\n",
            "0.12743917886809752\n"
          ]
        }
      ],
      "source": [
        "catboost3,study_catboost3 = catboost_modeling3(X_train3, y_train_log3, X_valid3, y_valid_log3)\n",
        "\n",
        "print(study_catboost3.best_params)\n",
        "print(study_catboost3.best_value)\n",
        "#0.12746"
      ]
    },
    {
      "cell_type": "code",
      "execution_count": null,
      "metadata": {
        "id": "4DkLRXnDJHYs"
      },
      "outputs": [],
      "source": [
        "# lgbm1=LGBMRegressor(random_state=42, n_jobs=-1, **{'num_leaves': 6, 'colsample_bytree': 0.9051637121262273, 'reg_alpha': 0.12566194860571056, 'reg_lambda': 3.2258720581218876, 'max_depth': 3, 'learning_rate': 0.032887812509240916, 'n_estimators': 748, 'min_child_samples': 37, 'subsample': 0.7136285372023218})\n",
        "# catboost1=CatBoostRegressor(random_seed=42, thread_count=-1, **{'iterations': 6111, 'od_wait': 609, 'learning_rate': 0.04119744178592561, 'reg_lambda': 5.488592836608496, 'subsample': 0.9203846250162546, 'random_strength': 14.883401811234684, 'depth': 5, 'min_data_in_leaf': 3, 'leaf_estimation_iterations': 10, 'bagging_temperature': 0.01789129283627206, 'colsample_bylevel': 0.5972283837388589})\n",
        "# lgbm2=LGBMRegressor(random_state=42, n_jobs=-1, **{'num_leaves': 198, 'colsample_bytree': 0.7423420418793059, 'reg_alpha': 0.1447940808984538, 'reg_lambda': 8.5047864670778, 'max_depth': 8, 'learning_rate': 0.013177148224374527, 'n_estimators': 1061, 'min_child_samples': 81, 'subsample': 0.9892347795263194})\n",
        "# catboost2=CatBoostRegressor(random_seed=42, thread_count=-1, **{'iterations': 13411, 'od_wait': 1144, 'learning_rate': 0.021727882868213363, 'reg_lambda': 21.015616790374914, 'subsample': 0.878372685297051, 'random_strength': 36.58060974949341, 'depth': 7, 'min_data_in_leaf': 7, 'leaf_estimation_iterations': 9, 'bagging_temperature': 0.05180927511974106, 'colsample_bylevel': 0.579406682782964})\n",
        "# lgbm3=LGBMRegressor(random_state=42, n_jobs=-1, **{'num_leaves': 5, 'colsample_bytree': 0.8672050513192953, 'reg_alpha': 0.7660892889583089, 'reg_lambda': 3.927766971166829, 'max_depth': 8, 'learning_rate': 0.07010556573758032, 'n_estimators': 1671, 'min_child_samples': 49, 'subsample': 0.9631025349553624})\n",
        "# catboost3=CatBoostRegressor(random_seed=42, thread_count=-1, **{'iterations': 6500, 'od_wait': 1641, 'learning_rate': 0.039883471636645535, 'reg_lambda': 8.723928583044282, 'subsample': 0.8317293182421713, 'random_strength': 22.481544108255296, 'depth': 5, 'min_data_in_leaf': 9, 'leaf_estimation_iterations': 9, 'bagging_temperature': 0.022614197973049137, 'colsample_bylevel': 0.7882803255907027})\n",
        "\n",
        "# lgbm1.fit(X_train1,y_train_log1,eval_set = [(X_valid1,y_valid_log1)], eval_metric='rmse', callbacks=[early_stopping(stopping_rounds=100)])\n",
        "# catboost1.fit(X_train1, y_train_log1, eval_set=(X_valid1, y_valid_log1), early_stopping_rounds=100, verbose_eval=False)\n",
        "# lgbm2.fit(X_train2,y_train_log2,eval_set = [(X_valid2,y_valid_log2)], eval_metric='rmse', callbacks=[early_stopping(stopping_rounds=100)])\n",
        "# catboost2.fit(X_train2, y_train_log2, eval_set=(X_valid2, y_valid_log2), early_stopping_rounds=100, verbose_eval=False)\n",
        "# lgbm3.fit(X_train3,y_train_log3,eval_set = [(X_valid3,y_valid_log3)], eval_metric='rmse', callbacks=[early_stopping(stopping_rounds=100)])\n",
        "# catboost3.fit(X_train3, y_train_log3, eval_set=(X_valid3, y_valid_log3), early_stopping_rounds=100, verbose_eval=False)"
      ]
    },
    {
      "cell_type": "markdown",
      "metadata": {
        "id": "DUWVcal4eTt-"
      },
      "source": [
        "# 피처 중요도"
      ]
    },
    {
      "cell_type": "code",
      "execution_count": 157,
      "metadata": {
        "colab": {
          "base_uri": "https://localhost:8080/",
          "height": 717
        },
        "id": "9oNyiOI_XYbV",
        "outputId": "225d7e3f-07fa-4cde-c38e-df4c2aff3232"
      },
      "outputs": [
        {
          "data": {
            "image/png": "[encoded data removed]",
            "text/plain": [
              "<Figure size 1000x800 with 1 Axes>"
            ]
          },
          "metadata": {},
          "output_type": "display_data"
        }
      ],
      "source": [
        "import lightgbm as lgb\n",
        "\n",
        "lgb.plot_importance(lgbm1, height=0.8, figsize=(10, 8), title=\"Feature Importance\")\n",
        "plt.show()"
      ]
    },
    {
      "cell_type": "code",
      "execution_count": 158,
      "metadata": {
        "colab": {
          "base_uri": "https://localhost:8080/",
          "height": 717
        },
        "id": "-DFP_LRpaaMT",
        "outputId": "f4899166-7235-48fd-fe26-542b86e46ca8"
      },
      "outputs": [
        {
          "data": {
            "image/png": "[encoded data removed]",
            "text/plain": [
              "<Figure size 1000x800 with 1 Axes>"
            ]
          },
          "metadata": {},
          "output_type": "display_data"
        }
      ],
      "source": [
        "from catboost import CatBoostRegressor, Pool\n",
        "import matplotlib.pyplot as plt\n",
        "import pandas as pd\n",
        "\n",
        "# Assuming catboost1 is your trained CatBoost model\n",
        "# feature_names is a list containing the names of your features\n",
        "feature_names_list = list(X_train1.columns)\n",
        "catboost_pool = Pool(data=X_train1, label=y_train_log1, feature_names=feature_names_list)\n",
        "\n",
        "feature_importance = catboost1.get_feature_importance(\n",
        "    data=catboost_pool,\n",
        "    type='PredictionValuesChange'\n",
        ")\n",
        "\n",
        "# Create a DataFrame for better visualization\n",
        "feature_importance_df = pd.DataFrame({'Feature': feature_names_list, 'Importance': feature_importance})\n",
        "\n",
        "# Sort the DataFrame by importance values in ascending order\n",
        "feature_importance_df = feature_importance_df.sort_values(by='Importance')\n",
        "\n",
        "# Plot the feature importance\n",
        "plt.figure(figsize=(10, 8))\n",
        "plt.barh(feature_importance_df['Feature'], feature_importance_df['Importance'])\n",
        "plt.xlabel('Feature Importance (PredictionValuesChange)')\n",
        "plt.ylabel('Features')\n",
        "plt.title('CatBoost Feature Importance (Ascending Order)')\n",
        "plt.show()"
      ]
    },
    {
      "cell_type": "code",
      "execution_count": 159,
      "metadata": {
        "colab": {
          "base_uri": "https://localhost:8080/",
          "height": 717
        },
        "id": "PQfBnR2pXYj3",
        "outputId": "bae3079e-b772-4c98-fe06-330f16d6d5d0"
      },
      "outputs": [
        {
          "data": {
            "image/png": "[encoded data removed]",
            "text/plain": [
              "<Figure size 1000x800 with 1 Axes>"
            ]
          },
          "metadata": {},
          "output_type": "display_data"
        }
      ],
      "source": [
        "import lightgbm as lgb\n",
        "\n",
        "lgb.plot_importance(lgbm2, height=0.8, figsize=(10, 8), title=\"Feature Importance\")\n",
        "plt.show()"
      ]
    },
    {
      "cell_type": "code",
      "execution_count": 169,
      "metadata": {
        "colab": {
          "base_uri": "https://localhost:8080/",
          "height": 717
        },
        "id": "6uwiPG8sbJyW",
        "outputId": "77e545fb-405b-4669-92cf-b789bb423d70"
      },
      "outputs": [
        {
          "data": {
            "image/png": "[encoded data removed]",
            "text/plain": [
              "<Figure size 1000x800 with 1 Axes>"
            ]
          },
          "metadata": {},
          "output_type": "display_data"
        }
      ],
      "source": [
        "from catboost import CatBoostRegressor, Pool\n",
        "import matplotlib.pyplot as plt\n",
        "import pandas as pd\n",
        "\n",
        "# Assuming catboost2 is your trained CatBoost model\n",
        "# feature_names is a list containing the names of your features\n",
        "feature_names_list = list(X_train2.columns)\n",
        "catboost_pool = Pool(data=X_train2, label=y_train_log2, feature_names=feature_names_list)\n",
        "\n",
        "feature_importance = catboost2.get_feature_importance(\n",
        "    data=catboost_pool,\n",
        "    type='PredictionValuesChange'\n",
        ")\n",
        "\n",
        "# Create a DataFrame for better visualization\n",
        "feature_importance_df = pd.DataFrame({'Feature': feature_names_list, 'Importance': feature_importance})\n",
        "\n",
        "# Sort the DataFrame by importance values in ascending order\n",
        "feature_importance_df = feature_importance_df.sort_values(by='Importance')\n",
        "\n",
        "# Plot the feature importance\n",
        "plt.figure(figsize=(10, 8))\n",
        "plt.barh(feature_importance_df['Feature'], feature_importance_df['Importance'])\n",
        "plt.xlabel('Feature Importance (PredictionValuesChange)')\n",
        "plt.ylabel('Features')\n",
        "plt.title('CatBoost Feature Importance (Ascending Order)')\n",
        "plt.show()"
      ]
    },
    {
      "cell_type": "code",
      "execution_count": 173,
      "metadata": {
        "colab": {
          "base_uri": "https://localhost:8080/",
          "height": 717
        },
        "id": "9qL_a_c9VaS7",
        "outputId": "e48cdaba-8723-41ec-cf47-2712284fee93"
      },
      "outputs": [
        {
          "data": {
            "image/png": "[encoded data removed]",
            "text/plain": [
              "<Figure size 1000x800 with 1 Axes>"
            ]
          },
          "metadata": {},
          "output_type": "display_data"
        }
      ],
      "source": [
        "import lightgbm as lgb\n",
        "\n",
        "lgb.plot_importance(lgbm3, height=0.8, figsize=(10, 8), title=\"Feature Importance\")\n",
        "plt.show()"
      ]
    },
    {
      "cell_type": "code",
      "execution_count": 172,
      "metadata": {
        "colab": {
          "base_uri": "https://localhost:8080/",
          "height": 717
        },
        "id": "V48F42K5bJ7U",
        "outputId": "55b50bb3-0deb-41fb-e22a-26ddbede5323"
      },
      "outputs": [
        {
          "data": {
            "image/png": "[encoded data removed]",
            "text/plain": [
              "<Figure size 1000x800 with 1 Axes>"
            ]
          },
          "metadata": {},
          "output_type": "display_data"
        }
      ],
      "source": [
        "from catboost import CatBoostRegressor, Pool\n",
        "import matplotlib.pyplot as plt\n",
        "import pandas as pd\n",
        "\n",
        "# Assuming catboost3 is your trained CatBoost model\n",
        "# feature_names is a list containing the names of your features\n",
        "feature_names_list = list(X_train3.columns)\n",
        "catboost_pool = Pool(data=X_train3, label=y_train_log3, feature_names=feature_names_list)\n",
        "\n",
        "feature_importance = catboost3.get_feature_importance(\n",
        "    data=catboost_pool,\n",
        "    type='PredictionValuesChange'\n",
        ")\n",
        "\n",
        "# Create a DataFrame for better visualization\n",
        "feature_importance_df = pd.DataFrame({'Feature': feature_names_list, 'Importance': feature_importance})\n",
        "\n",
        "# Sort the DataFrame by importance values in ascending order\n",
        "feature_importance_df = feature_importance_df.sort_values(by='Importance')\n",
        "\n",
        "# Plot the feature importance\n",
        "plt.figure(figsize=(10, 8))\n",
        "plt.barh(feature_importance_df['Feature'], feature_importance_df['Importance'])\n",
        "plt.xlabel('Feature Importance (PredictionValuesChange)')\n",
        "plt.ylabel('Features')\n",
        "plt.title('CatBoost Feature Importance (Ascending Order)')\n",
        "plt.show()"
      ]
    },
    {
      "cell_type": "markdown",
      "metadata": {
        "id": "kbR6jJ0DeID6"
      },
      "source": [
        "# 제출"
      ]
    },
    {
      "cell_type": "code",
      "execution_count": 174,
      "metadata": {},
      "outputs": [
        {
          "ename": "KeyError",
          "evalue": "\"['일'] not found in axis\"",
          "output_type": "error",
          "traceback": [
            "\u001b[1;31m---------------------------------------------------------------------------\u001b[0m",
            "\u001b[1;31mKeyError\u001b[0m                                  Traceback (most recent call last)",
            "Cell \u001b[1;32mIn[174], line 1\u001b[0m\n\u001b[1;32m----> 1\u001b[0m X_test_eng1\u001b[38;5;241m=\u001b[39mX_test_eng1\u001b[38;5;241m.\u001b[39mdrop(columns\u001b[38;5;241m=\u001b[39m[\u001b[38;5;124m\"\u001b[39m\u001b[38;5;124m일\u001b[39m\u001b[38;5;124m\"\u001b[39m])\n\u001b[0;32m      2\u001b[0m X_test_eng2\u001b[38;5;241m=\u001b[39mX_test_eng2\u001b[38;5;241m.\u001b[39mdrop(columns\u001b[38;5;241m=\u001b[39m[\u001b[38;5;124m\"\u001b[39m\u001b[38;5;124m일\u001b[39m\u001b[38;5;124m\"\u001b[39m])\n\u001b[0;32m      3\u001b[0m X_test_eng3\u001b[38;5;241m=\u001b[39mX_test_eng3\u001b[38;5;241m.\u001b[39mdrop(columns\u001b[38;5;241m=\u001b[39m[\u001b[38;5;124m\"\u001b[39m\u001b[38;5;124m일\u001b[39m\u001b[38;5;124m\"\u001b[39m])\n",
            "File \u001b[1;32mc:\\Users\\james\\anaconda3\\Lib\\site-packages\\pandas\\core\\frame.py:5344\u001b[0m, in \u001b[0;36mDataFrame.drop\u001b[1;34m(self, labels, axis, index, columns, level, inplace, errors)\u001b[0m\n\u001b[0;32m   5196\u001b[0m \u001b[38;5;28;01mdef\u001b[39;00m \u001b[38;5;21mdrop\u001b[39m(\n\u001b[0;32m   5197\u001b[0m     \u001b[38;5;28mself\u001b[39m,\n\u001b[0;32m   5198\u001b[0m     labels: IndexLabel \u001b[38;5;241m|\u001b[39m \u001b[38;5;28;01mNone\u001b[39;00m \u001b[38;5;241m=\u001b[39m \u001b[38;5;28;01mNone\u001b[39;00m,\n\u001b[1;32m   (...)\u001b[0m\n\u001b[0;32m   5205\u001b[0m     errors: IgnoreRaise \u001b[38;5;241m=\u001b[39m \u001b[38;5;124m\"\u001b[39m\u001b[38;5;124mraise\u001b[39m\u001b[38;5;124m\"\u001b[39m,\n\u001b[0;32m   5206\u001b[0m ) \u001b[38;5;241m-\u001b[39m\u001b[38;5;241m>\u001b[39m DataFrame \u001b[38;5;241m|\u001b[39m \u001b[38;5;28;01mNone\u001b[39;00m:\n\u001b[0;32m   5207\u001b[0m \u001b[38;5;250m    \u001b[39m\u001b[38;5;124;03m\"\"\"\u001b[39;00m\n\u001b[0;32m   5208\u001b[0m \u001b[38;5;124;03m    Drop specified labels from rows or columns.\u001b[39;00m\n\u001b[0;32m   5209\u001b[0m \n\u001b[1;32m   (...)\u001b[0m\n\u001b[0;32m   5342\u001b[0m \u001b[38;5;124;03m            weight  1.0     0.8\u001b[39;00m\n\u001b[0;32m   5343\u001b[0m \u001b[38;5;124;03m    \"\"\"\u001b[39;00m\n\u001b[1;32m-> 5344\u001b[0m     \u001b[38;5;28;01mreturn\u001b[39;00m \u001b[38;5;28msuper\u001b[39m()\u001b[38;5;241m.\u001b[39mdrop(\n\u001b[0;32m   5345\u001b[0m         labels\u001b[38;5;241m=\u001b[39mlabels,\n\u001b[0;32m   5346\u001b[0m         axis\u001b[38;5;241m=\u001b[39maxis,\n\u001b[0;32m   5347\u001b[0m         index\u001b[38;5;241m=\u001b[39mindex,\n\u001b[0;32m   5348\u001b[0m         columns\u001b[38;5;241m=\u001b[39mcolumns,\n\u001b[0;32m   5349\u001b[0m         level\u001b[38;5;241m=\u001b[39mlevel,\n\u001b[0;32m   5350\u001b[0m         inplace\u001b[38;5;241m=\u001b[39minplace,\n\u001b[0;32m   5351\u001b[0m         errors\u001b[38;5;241m=\u001b[39merrors,\n\u001b[0;32m   5352\u001b[0m     )\n",
            "File \u001b[1;32mc:\\Users\\james\\anaconda3\\Lib\\site-packages\\pandas\\core\\generic.py:4711\u001b[0m, in \u001b[0;36mNDFrame.drop\u001b[1;34m(self, labels, axis, index, columns, level, inplace, errors)\u001b[0m\n\u001b[0;32m   4709\u001b[0m \u001b[38;5;28;01mfor\u001b[39;00m axis, labels \u001b[38;5;129;01min\u001b[39;00m axes\u001b[38;5;241m.\u001b[39mitems():\n\u001b[0;32m   4710\u001b[0m     \u001b[38;5;28;01mif\u001b[39;00m labels \u001b[38;5;129;01mis\u001b[39;00m \u001b[38;5;129;01mnot\u001b[39;00m \u001b[38;5;28;01mNone\u001b[39;00m:\n\u001b[1;32m-> 4711\u001b[0m         obj \u001b[38;5;241m=\u001b[39m obj\u001b[38;5;241m.\u001b[39m_drop_axis(labels, axis, level\u001b[38;5;241m=\u001b[39mlevel, errors\u001b[38;5;241m=\u001b[39merrors)\n\u001b[0;32m   4713\u001b[0m \u001b[38;5;28;01mif\u001b[39;00m inplace:\n\u001b[0;32m   4714\u001b[0m     \u001b[38;5;28mself\u001b[39m\u001b[38;5;241m.\u001b[39m_update_inplace(obj)\n",
            "File \u001b[1;32mc:\\Users\\james\\anaconda3\\Lib\\site-packages\\pandas\\core\\generic.py:4753\u001b[0m, in \u001b[0;36mNDFrame._drop_axis\u001b[1;34m(self, labels, axis, level, errors, only_slice)\u001b[0m\n\u001b[0;32m   4751\u001b[0m         new_axis \u001b[38;5;241m=\u001b[39m axis\u001b[38;5;241m.\u001b[39mdrop(labels, level\u001b[38;5;241m=\u001b[39mlevel, errors\u001b[38;5;241m=\u001b[39merrors)\n\u001b[0;32m   4752\u001b[0m     \u001b[38;5;28;01melse\u001b[39;00m:\n\u001b[1;32m-> 4753\u001b[0m         new_axis \u001b[38;5;241m=\u001b[39m axis\u001b[38;5;241m.\u001b[39mdrop(labels, errors\u001b[38;5;241m=\u001b[39merrors)\n\u001b[0;32m   4754\u001b[0m     indexer \u001b[38;5;241m=\u001b[39m axis\u001b[38;5;241m.\u001b[39mget_indexer(new_axis)\n\u001b[0;32m   4756\u001b[0m \u001b[38;5;66;03m# Case for non-unique axis\u001b[39;00m\n\u001b[0;32m   4757\u001b[0m \u001b[38;5;28;01melse\u001b[39;00m:\n",
            "File \u001b[1;32mc:\\Users\\james\\anaconda3\\Lib\\site-packages\\pandas\\core\\indexes\\base.py:6992\u001b[0m, in \u001b[0;36mIndex.drop\u001b[1;34m(self, labels, errors)\u001b[0m\n\u001b[0;32m   6990\u001b[0m \u001b[38;5;28;01mif\u001b[39;00m mask\u001b[38;5;241m.\u001b[39many():\n\u001b[0;32m   6991\u001b[0m     \u001b[38;5;28;01mif\u001b[39;00m errors \u001b[38;5;241m!=\u001b[39m \u001b[38;5;124m\"\u001b[39m\u001b[38;5;124mignore\u001b[39m\u001b[38;5;124m\"\u001b[39m:\n\u001b[1;32m-> 6992\u001b[0m         \u001b[38;5;28;01mraise\u001b[39;00m \u001b[38;5;167;01mKeyError\u001b[39;00m(\u001b[38;5;124mf\u001b[39m\u001b[38;5;124m\"\u001b[39m\u001b[38;5;132;01m{\u001b[39;00mlabels[mask]\u001b[38;5;241m.\u001b[39mtolist()\u001b[38;5;132;01m}\u001b[39;00m\u001b[38;5;124m not found in axis\u001b[39m\u001b[38;5;124m\"\u001b[39m)\n\u001b[0;32m   6993\u001b[0m     indexer \u001b[38;5;241m=\u001b[39m indexer[\u001b[38;5;241m~\u001b[39mmask]\n\u001b[0;32m   6994\u001b[0m \u001b[38;5;28;01mreturn\u001b[39;00m \u001b[38;5;28mself\u001b[39m\u001b[38;5;241m.\u001b[39mdelete(indexer)\n",
            "\u001b[1;31mKeyError\u001b[0m: \"['일'] not found in axis\""
          ]
        }
      ],
      "source": [
        "X_test_eng1=X_test_eng1.drop(columns=[\"일\"])\n",
        "X_test_eng2=X_test_eng2.drop(columns=[\"일\"])\n",
        "X_test_eng3=X_test_eng3.drop(columns=[\"일\"])"
      ]
    },
    {
      "cell_type": "code",
      "execution_count": 209,
      "metadata": {
        "id": "1jgds4Hpz-qi"
      },
      "outputs": [
        {
          "name": "stdout",
          "output_type": "stream",
          "text": [
            "[LightGBM] [Warning] Accuracy may be bad since you didn't explicitly set num_leaves OR 2^max_depth > num_leaves. (num_leaves=31).\n"
          ]
        }
      ],
      "source": [
        "lgbm_prediction1 = np.expm1(lgbm1.predict(X_test_eng1))\n",
        "lgbm_prediction2 = np.expm1(lgbm2.predict(X_test_eng2))\n",
        "lgbm_prediction3 = np.expm1(lgbm3.predict(X_test_eng3))\n",
        "\n",
        "catboost_prediction1 = np.expm1(catboost1.predict(X_test_eng1))\n",
        "catboost_prediction2 = np.expm1(catboost2.predict(X_test_eng2))\n",
        "catboost_prediction3 = np.expm1(catboost3.predict(X_test_eng3))"
      ]
    },
    {
      "cell_type": "code",
      "execution_count": 210,
      "metadata": {
        "id": "20O3FFE-1AtK"
      },
      "outputs": [],
      "source": [
        "test1[\"predict\"]=lgbm_prediction1*0.2+catboost_prediction1*0.8\n",
        "test2[\"predict\"]=lgbm_prediction2*0.2+catboost_prediction2*0.8\n",
        "test3[\"predict\"]=lgbm_prediction3*0.2+catboost_prediction3*0.8"
      ]
    },
    {
      "cell_type": "code",
      "execution_count": 211,
      "metadata": {
        "id": "igH8rR6t0FyU"
      },
      "outputs": [],
      "source": [
        "test_f1=pd.merge(test_df, test1[[\"ID\",\"predict\"]], how=\"left\", on=\"ID\" )\n",
        "test_f1[\"predict\"]=test_f1[\"predict\"].fillna(0)\n",
        "test_f2=pd.merge(test_f1, test2[[\"ID\",\"predict\"]], how=\"left\", on=\"ID\" )\n",
        "test_f2[\"predict_y\"]=test_f2[\"predict_y\"].fillna(0)\n",
        "test_f3=pd.merge(test_f2, test3[[\"ID\",\"predict\"]], how=\"left\", on=\"ID\" )\n",
        "test_f3[\"predict\"]=test_f3[\"predict\"].fillna(0)\n",
        "test_f3[\"predict\"]= test_f3[\"predict_x\"]+test_f3[\"predict_y\"]+test_f3[\"predict\"]"
      ]
    },
    {
      "cell_type": "code",
      "execution_count": 212,
      "metadata": {
        "colab": {
          "base_uri": "https://localhost:8080/",
          "height": 206
        },
        "id": "V8k1Ri9z0F67",
        "outputId": "cb17805a-5fce-434c-88df-75cf5fc189f5"
      },
      "outputs": [
        {
          "data": {
            "text/html": [
              "<div>\n",
              "<style scoped>\n",
              "    .dataframe tbody tr th:only-of-type {\n",
              "        vertical-align: middle;\n",
              "    }\n",
              "\n",
              "    .dataframe tbody tr th {\n",
              "        vertical-align: top;\n",
              "    }\n",
              "\n",
              "    .dataframe thead th {\n",
              "        text-align: right;\n",
              "    }\n",
              "</style>\n",
              "<table border=\"1\" class=\"dataframe\">\n",
              "  <thead>\n",
              "    <tr style=\"text-align: right;\">\n",
              "      <th></th>\n",
              "      <th>ID</th>\n",
              "      <th>ECLO</th>\n",
              "    </tr>\n",
              "  </thead>\n",
              "  <tbody>\n",
              "    <tr>\n",
              "      <th>0</th>\n",
              "      <td>ACCIDENT_39609</td>\n",
              "      <td>3.703970</td>\n",
              "    </tr>\n",
              "    <tr>\n",
              "      <th>1</th>\n",
              "      <td>ACCIDENT_39610</td>\n",
              "      <td>3.754431</td>\n",
              "    </tr>\n",
              "    <tr>\n",
              "      <th>2</th>\n",
              "      <td>ACCIDENT_39611</td>\n",
              "      <td>5.014371</td>\n",
              "    </tr>\n",
              "    <tr>\n",
              "      <th>3</th>\n",
              "      <td>ACCIDENT_39612</td>\n",
              "      <td>4.393168</td>\n",
              "    </tr>\n",
              "    <tr>\n",
              "      <th>4</th>\n",
              "      <td>ACCIDENT_39613</td>\n",
              "      <td>4.664876</td>\n",
              "    </tr>\n",
              "  </tbody>\n",
              "</table>\n",
              "</div>"
            ],
            "text/plain": [
              "               ID      ECLO\n",
              "0  ACCIDENT_39609  3.703970\n",
              "1  ACCIDENT_39610  3.754431\n",
              "2  ACCIDENT_39611  5.014371\n",
              "3  ACCIDENT_39612  4.393168\n",
              "4  ACCIDENT_39613  4.664876"
            ]
          },
          "execution_count": 212,
          "metadata": {},
          "output_type": "execute_result"
        }
      ],
      "source": [
        "ss['ECLO'] = test_f3[\"predict\"]\n",
        "ss.head()"
      ]
    },
    {
      "cell_type": "code",
      "execution_count": 213,
      "metadata": {
        "id": "7y8JjZuG0srz"
      },
      "outputs": [],
      "source": [
        "ss.to_csv(f'제출용-01-05.csv', index=False)"
      ]
    },
    {
      "cell_type": "code",
      "execution_count": null,
      "metadata": {},
      "outputs": [],
      "source": []
    }
  ],
  "metadata": {
    "colab": {
      "collapsed_sections": [
        "bdYHK7tSej3p",
        "DUWVcal4eTt-",
        "kbR6jJ0DeID6"
      ],
      "provenance": []
    },
    "kernelspec": {
      "display_name": "Python 3",
      "name": "python3"
    },
    "language_info": {
      "codemirror_mode": {
        "name": "ipython",
        "version": 3
      },
      "file_extension": ".py",
      "mimetype": "text/x-python",
      "name": "python",
      "nbconvert_exporter": "python",
      "pygments_lexer": "ipython3",
      "version": "3.11.5"
    },
    "widgets": {
      "application/vnd.jupyter.widget-state+json": {
        "00fd6be269be4b2ca2938aaf000278cc": {
          "model_module": "@jupyter-widgets/base",
          "model_module_version": "1.2.0",
          "model_name": "LayoutModel",
          "state": {
            "_model_module": "@jupyter-widgets/base",
            "_model_module_version": "1.2.0",
            "_model_name": "LayoutModel",
            "_view_count": null,
            "_view_module": "@jupyter-widgets/base",
            "_view_module_version": "1.2.0",
            "_view_name": "LayoutView",
            "align_content": null,
            "align_items": null,
            "align_self": null,
            "border": null,
            "bottom": null,
            "display": null,
            "flex": null,
            "flex_flow": null,
            "grid_area": null,
            "grid_auto_columns": null,
            "grid_auto_flow": null,
            "grid_auto_rows": null,
            "grid_column": null,
            "grid_gap": null,
            "grid_row": null,
            "grid_template_areas": null,
            "grid_template_columns": null,
            "grid_template_rows": null,
            "height": null,
            "justify_content": null,
            "justify_items": null,
            "left": null,
            "margin": null,
            "max_height": null,
            "max_width": null,
            "min_height": null,
            "min_width": null,
            "object_fit": null,
            "object_position": null,
            "order": null,
            "overflow": null,
            "overflow_x": null,
            "overflow_y": null,
            "padding": null,
            "right": null,
            "top": null,
            "visibility": null,
            "width": null
          }
        },
        "01503d35c8c248bdb886dfa18d6fec5a": {
          "model_module": "@jupyter-widgets/base",
          "model_module_version": "1.2.0",
          "model_name": "LayoutModel",
          "state": {
            "_model_module": "@jupyter-widgets/base",
            "_model_module_version": "1.2.0",
            "_model_name": "LayoutModel",
            "_view_count": null,
            "_view_module": "@jupyter-widgets/base",
            "_view_module_version": "1.2.0",
            "_view_name": "LayoutView",
            "align_content": null,
            "align_items": null,
            "align_self": null,
            "border": null,
            "bottom": null,
            "display": null,
            "flex": null,
            "flex_flow": null,
            "grid_area": null,
            "grid_auto_columns": null,
            "grid_auto_flow": null,
            "grid_auto_rows": null,
            "grid_column": null,
            "grid_gap": null,
            "grid_row": null,
            "grid_template_areas": null,
            "grid_template_columns": null,
            "grid_template_rows": null,
            "height": null,
            "justify_content": null,
            "justify_items": null,
            "left": null,
            "margin": null,
            "max_height": null,
            "max_width": null,
            "min_height": null,
            "min_width": null,
            "object_fit": null,
            "object_position": null,
            "order": null,
            "overflow": null,
            "overflow_x": null,
            "overflow_y": null,
            "padding": null,
            "right": null,
            "top": null,
            "visibility": null,
            "width": null
          }
        },
        "0e876d0be22b42e7922ddb9048636760": {
          "model_module": "@jupyter-widgets/controls",
          "model_module_version": "1.5.0",
          "model_name": "DescriptionStyleModel",
          "state": {
            "_model_module": "@jupyter-widgets/controls",
            "_model_module_version": "1.5.0",
            "_model_name": "DescriptionStyleModel",
            "_view_count": null,
            "_view_module": "@jupyter-widgets/base",
            "_view_module_version": "1.2.0",
            "_view_name": "StyleView",
            "description_width": ""
          }
        },
        "0f873625281b49f8acb0a588c021bebf": {
          "model_module": "@jupyter-widgets/controls",
          "model_module_version": "1.5.0",
          "model_name": "ProgressStyleModel",
          "state": {
            "_model_module": "@jupyter-widgets/controls",
            "_model_module_version": "1.5.0",
            "_model_name": "ProgressStyleModel",
            "_view_count": null,
            "_view_module": "@jupyter-widgets/base",
            "_view_module_version": "1.2.0",
            "_view_name": "StyleView",
            "bar_color": null,
            "description_width": ""
          }
        },
        "13169dff4a7e4f9c9b2e753947934a59": {
          "model_module": "@jupyter-widgets/controls",
          "model_module_version": "1.5.0",
          "model_name": "FloatProgressModel",
          "state": {
            "_dom_classes": [],
            "_model_module": "@jupyter-widgets/controls",
            "_model_module_version": "1.5.0",
            "_model_name": "FloatProgressModel",
            "_view_count": null,
            "_view_module": "@jupyter-widgets/controls",
            "_view_module_version": "1.5.0",
            "_view_name": "ProgressView",
            "bar_style": "success",
            "description": "",
            "description_tooltip": null,
            "layout": "IPY_MODEL_3d9600ebfc724cf9835b2fd51b1abfc6",
            "max": 30,
            "min": 0,
            "orientation": "horizontal",
            "style": "IPY_MODEL_ce6b7192cf1d4fb581826e97bc3e29dc",
            "value": 30
          }
        },
        "16b34acb5e8c473ba3ddbdc0dc0e6cf5": {
          "model_module": "@jupyter-widgets/controls",
          "model_module_version": "1.5.0",
          "model_name": "HBoxModel",
          "state": {
            "_dom_classes": [],
            "_model_module": "@jupyter-widgets/controls",
            "_model_module_version": "1.5.0",
            "_model_name": "HBoxModel",
            "_view_count": null,
            "_view_module": "@jupyter-widgets/controls",
            "_view_module_version": "1.5.0",
            "_view_name": "HBoxView",
            "box_style": "",
            "children": [
              "IPY_MODEL_5a851a8450fa4c7d8ab87a875c8b073a",
              "IPY_MODEL_671fe5a43af4495982e5133912c2c451",
              "IPY_MODEL_35926b7dda1445709aa496e4c2a09bee"
            ],
            "layout": "IPY_MODEL_5ba2eb57d959481bb372c92dcf218146"
          }
        },
        "18ad334693dd4f66a9fdb3cacd7c0eb1": {
          "model_module": "@jupyter-widgets/controls",
          "model_module_version": "1.5.0",
          "model_name": "HTMLModel",
          "state": {
            "_dom_classes": [],
            "_model_module": "@jupyter-widgets/controls",
            "_model_module_version": "1.5.0",
            "_model_name": "HTMLModel",
            "_view_count": null,
            "_view_module": "@jupyter-widgets/controls",
            "_view_module_version": "1.5.0",
            "_view_name": "HTMLView",
            "description": "",
            "description_tooltip": null,
            "layout": "IPY_MODEL_2e2b8b62ac4e49e1b2d7dc14bbd59707",
            "placeholder": "​",
            "style": "IPY_MODEL_48df3194a85640ffac1deba5309890d2",
            "value": " 30/30 [24:36&lt;00:00, 56.75s/it]"
          }
        },
        "23509e42a689464ea1e2d0cbe2686249": {
          "model_module": "@jupyter-widgets/base",
          "model_module_version": "1.2.0",
          "model_name": "LayoutModel",
          "state": {
            "_model_module": "@jupyter-widgets/base",
            "_model_module_version": "1.2.0",
            "_model_name": "LayoutModel",
            "_view_count": null,
            "_view_module": "@jupyter-widgets/base",
            "_view_module_version": "1.2.0",
            "_view_name": "LayoutView",
            "align_content": null,
            "align_items": null,
            "align_self": null,
            "border": null,
            "bottom": null,
            "display": null,
            "flex": null,
            "flex_flow": null,
            "grid_area": null,
            "grid_auto_columns": null,
            "grid_auto_flow": null,
            "grid_auto_rows": null,
            "grid_column": null,
            "grid_gap": null,
            "grid_row": null,
            "grid_template_areas": null,
            "grid_template_columns": null,
            "grid_template_rows": null,
            "height": null,
            "justify_content": null,
            "justify_items": null,
            "left": null,
            "margin": null,
            "max_height": null,
            "max_width": null,
            "min_height": null,
            "min_width": null,
            "object_fit": null,
            "object_position": null,
            "order": null,
            "overflow": null,
            "overflow_x": null,
            "overflow_y": null,
            "padding": null,
            "right": null,
            "top": null,
            "visibility": null,
            "width": null
          }
        },
        "2414b58cb19f4e659ae2bfbe3f2050da": {
          "model_module": "@jupyter-widgets/controls",
          "model_module_version": "1.5.0",
          "model_name": "ProgressStyleModel",
          "state": {
            "_model_module": "@jupyter-widgets/controls",
            "_model_module_version": "1.5.0",
            "_model_name": "ProgressStyleModel",
            "_view_count": null,
            "_view_module": "@jupyter-widgets/base",
            "_view_module_version": "1.2.0",
            "_view_name": "StyleView",
            "bar_color": null,
            "description_width": ""
          }
        },
        "28ca6b061e504fcf8cae977e96aabc22": {
          "model_module": "@jupyter-widgets/controls",
          "model_module_version": "1.5.0",
          "model_name": "HTMLModel",
          "state": {
            "_dom_classes": [],
            "_model_module": "@jupyter-widgets/controls",
            "_model_module_version": "1.5.0",
            "_model_name": "HTMLModel",
            "_view_count": null,
            "_view_module": "@jupyter-widgets/controls",
            "_view_module_version": "1.5.0",
            "_view_name": "HTMLView",
            "description": "",
            "description_tooltip": null,
            "layout": "IPY_MODEL_8d7ea465c1684674af24f0431efe696c",
            "placeholder": "​",
            "style": "IPY_MODEL_baa1a5f61e7e4002becc7eb90c3efef1",
            "value": "Best trial: 25. Best value: 0.165282: 100%"
          }
        },
        "293bf4cdb9ae4d05a82a2672428e8eb3": {
          "model_module": "@jupyter-widgets/base",
          "model_module_version": "1.2.0",
          "model_name": "LayoutModel",
          "state": {
            "_model_module": "@jupyter-widgets/base",
            "_model_module_version": "1.2.0",
            "_model_name": "LayoutModel",
            "_view_count": null,
            "_view_module": "@jupyter-widgets/base",
            "_view_module_version": "1.2.0",
            "_view_name": "LayoutView",
            "align_content": null,
            "align_items": null,
            "align_self": null,
            "border": null,
            "bottom": null,
            "display": null,
            "flex": null,
            "flex_flow": null,
            "grid_area": null,
            "grid_auto_columns": null,
            "grid_auto_flow": null,
            "grid_auto_rows": null,
            "grid_column": null,
            "grid_gap": null,
            "grid_row": null,
            "grid_template_areas": null,
            "grid_template_columns": null,
            "grid_template_rows": null,
            "height": null,
            "justify_content": null,
            "justify_items": null,
            "left": null,
            "margin": null,
            "max_height": null,
            "max_width": null,
            "min_height": null,
            "min_width": null,
            "object_fit": null,
            "object_position": null,
            "order": null,
            "overflow": null,
            "overflow_x": null,
            "overflow_y": null,
            "padding": null,
            "right": null,
            "top": null,
            "visibility": null,
            "width": null
          }
        },
        "2b3e7a6475874630ada2e8f16ec8b3b0": {
          "model_module": "@jupyter-widgets/controls",
          "model_module_version": "1.5.0",
          "model_name": "DescriptionStyleModel",
          "state": {
            "_model_module": "@jupyter-widgets/controls",
            "_model_module_version": "1.5.0",
            "_model_name": "DescriptionStyleModel",
            "_view_count": null,
            "_view_module": "@jupyter-widgets/base",
            "_view_module_version": "1.2.0",
            "_view_name": "StyleView",
            "description_width": ""
          }
        },
        "2e2b8b62ac4e49e1b2d7dc14bbd59707": {
          "model_module": "@jupyter-widgets/base",
          "model_module_version": "1.2.0",
          "model_name": "LayoutModel",
          "state": {
            "_model_module": "@jupyter-widgets/base",
            "_model_module_version": "1.2.0",
            "_model_name": "LayoutModel",
            "_view_count": null,
            "_view_module": "@jupyter-widgets/base",
            "_view_module_version": "1.2.0",
            "_view_name": "LayoutView",
            "align_content": null,
            "align_items": null,
            "align_self": null,
            "border": null,
            "bottom": null,
            "display": null,
            "flex": null,
            "flex_flow": null,
            "grid_area": null,
            "grid_auto_columns": null,
            "grid_auto_flow": null,
            "grid_auto_rows": null,
            "grid_column": null,
            "grid_gap": null,
            "grid_row": null,
            "grid_template_areas": null,
            "grid_template_columns": null,
            "grid_template_rows": null,
            "height": null,
            "justify_content": null,
            "justify_items": null,
            "left": null,
            "margin": null,
            "max_height": null,
            "max_width": null,
            "min_height": null,
            "min_width": null,
            "object_fit": null,
            "object_position": null,
            "order": null,
            "overflow": null,
            "overflow_x": null,
            "overflow_y": null,
            "padding": null,
            "right": null,
            "top": null,
            "visibility": null,
            "width": null
          }
        },
        "2f5ec5c4ed154d6cb41002361aa47f1e": {
          "model_module": "@jupyter-widgets/controls",
          "model_module_version": "1.5.0",
          "model_name": "HTMLModel",
          "state": {
            "_dom_classes": [],
            "_model_module": "@jupyter-widgets/controls",
            "_model_module_version": "1.5.0",
            "_model_name": "HTMLModel",
            "_view_count": null,
            "_view_module": "@jupyter-widgets/controls",
            "_view_module_version": "1.5.0",
            "_view_name": "HTMLView",
            "description": "",
            "description_tooltip": null,
            "layout": "IPY_MODEL_f15de096c93b4ad8a7adce919232c896",
            "placeholder": "​",
            "style": "IPY_MODEL_43acc330b762442d8b648c873747386c",
            "value": " 30/30 [04:55&lt;00:00,  8.59s/it]"
          }
        },
        "3093403de7bc44d1a04821c384610634": {
          "model_module": "@jupyter-widgets/controls",
          "model_module_version": "1.5.0",
          "model_name": "HTMLModel",
          "state": {
            "_dom_classes": [],
            "_model_module": "@jupyter-widgets/controls",
            "_model_module_version": "1.5.0",
            "_model_name": "HTMLModel",
            "_view_count": null,
            "_view_module": "@jupyter-widgets/controls",
            "_view_module_version": "1.5.0",
            "_view_name": "HTMLView",
            "description": "",
            "description_tooltip": null,
            "layout": "IPY_MODEL_8e9d9c8ecfb74ed78c2ab5cbf0f09ff3",
            "placeholder": "​",
            "style": "IPY_MODEL_e0075ed6dfad46ae8fb113563e849c56",
            "value": "Best trial: 19. Best value: 0.199691: 100%"
          }
        },
        "35926b7dda1445709aa496e4c2a09bee": {
          "model_module": "@jupyter-widgets/controls",
          "model_module_version": "1.5.0",
          "model_name": "HTMLModel",
          "state": {
            "_dom_classes": [],
            "_model_module": "@jupyter-widgets/controls",
            "_model_module_version": "1.5.0",
            "_model_name": "HTMLModel",
            "_view_count": null,
            "_view_module": "@jupyter-widgets/controls",
            "_view_module_version": "1.5.0",
            "_view_name": "HTMLView",
            "description": "",
            "description_tooltip": null,
            "layout": "IPY_MODEL_5da6c137409442c48e708b04a71e0f4b",
            "placeholder": "​",
            "style": "IPY_MODEL_4400ec3b8b99409db74cb2449f1cb1bc",
            "value": " 30/30 [03:43&lt;00:00,  7.60s/it]"
          }
        },
        "36c416c6229e4b62a26b838bdde662bc": {
          "model_module": "@jupyter-widgets/controls",
          "model_module_version": "1.5.0",
          "model_name": "DescriptionStyleModel",
          "state": {
            "_model_module": "@jupyter-widgets/controls",
            "_model_module_version": "1.5.0",
            "_model_name": "DescriptionStyleModel",
            "_view_count": null,
            "_view_module": "@jupyter-widgets/base",
            "_view_module_version": "1.2.0",
            "_view_name": "StyleView",
            "description_width": ""
          }
        },
        "3786ffea531f44d9be8ec1e82825be8b": {
          "model_module": "@jupyter-widgets/base",
          "model_module_version": "1.2.0",
          "model_name": "LayoutModel",
          "state": {
            "_model_module": "@jupyter-widgets/base",
            "_model_module_version": "1.2.0",
            "_model_name": "LayoutModel",
            "_view_count": null,
            "_view_module": "@jupyter-widgets/base",
            "_view_module_version": "1.2.0",
            "_view_name": "LayoutView",
            "align_content": null,
            "align_items": null,
            "align_self": null,
            "border": null,
            "bottom": null,
            "display": null,
            "flex": null,
            "flex_flow": null,
            "grid_area": null,
            "grid_auto_columns": null,
            "grid_auto_flow": null,
            "grid_auto_rows": null,
            "grid_column": null,
            "grid_gap": null,
            "grid_row": null,
            "grid_template_areas": null,
            "grid_template_columns": null,
            "grid_template_rows": null,
            "height": null,
            "justify_content": null,
            "justify_items": null,
            "left": null,
            "margin": null,
            "max_height": null,
            "max_width": null,
            "min_height": null,
            "min_width": null,
            "object_fit": null,
            "object_position": null,
            "order": null,
            "overflow": null,
            "overflow_x": null,
            "overflow_y": null,
            "padding": null,
            "right": null,
            "top": null,
            "visibility": null,
            "width": null
          }
        },
        "3d9600ebfc724cf9835b2fd51b1abfc6": {
          "model_module": "@jupyter-widgets/base",
          "model_module_version": "1.2.0",
          "model_name": "LayoutModel",
          "state": {
            "_model_module": "@jupyter-widgets/base",
            "_model_module_version": "1.2.0",
            "_model_name": "LayoutModel",
            "_view_count": null,
            "_view_module": "@jupyter-widgets/base",
            "_view_module_version": "1.2.0",
            "_view_name": "LayoutView",
            "align_content": null,
            "align_items": null,
            "align_self": null,
            "border": null,
            "bottom": null,
            "display": null,
            "flex": null,
            "flex_flow": null,
            "grid_area": null,
            "grid_auto_columns": null,
            "grid_auto_flow": null,
            "grid_auto_rows": null,
            "grid_column": null,
            "grid_gap": null,
            "grid_row": null,
            "grid_template_areas": null,
            "grid_template_columns": null,
            "grid_template_rows": null,
            "height": null,
            "justify_content": null,
            "justify_items": null,
            "left": null,
            "margin": null,
            "max_height": null,
            "max_width": null,
            "min_height": null,
            "min_width": null,
            "object_fit": null,
            "object_position": null,
            "order": null,
            "overflow": null,
            "overflow_x": null,
            "overflow_y": null,
            "padding": null,
            "right": null,
            "top": null,
            "visibility": null,
            "width": null
          }
        },
        "42e1b5245d164354b04efd80d338f8e2": {
          "model_module": "@jupyter-widgets/base",
          "model_module_version": "1.2.0",
          "model_name": "LayoutModel",
          "state": {
            "_model_module": "@jupyter-widgets/base",
            "_model_module_version": "1.2.0",
            "_model_name": "LayoutModel",
            "_view_count": null,
            "_view_module": "@jupyter-widgets/base",
            "_view_module_version": "1.2.0",
            "_view_name": "LayoutView",
            "align_content": null,
            "align_items": null,
            "align_self": null,
            "border": null,
            "bottom": null,
            "display": null,
            "flex": null,
            "flex_flow": null,
            "grid_area": null,
            "grid_auto_columns": null,
            "grid_auto_flow": null,
            "grid_auto_rows": null,
            "grid_column": null,
            "grid_gap": null,
            "grid_row": null,
            "grid_template_areas": null,
            "grid_template_columns": null,
            "grid_template_rows": null,
            "height": null,
            "justify_content": null,
            "justify_items": null,
            "left": null,
            "margin": null,
            "max_height": null,
            "max_width": null,
            "min_height": null,
            "min_width": null,
            "object_fit": null,
            "object_position": null,
            "order": null,
            "overflow": null,
            "overflow_x": null,
            "overflow_y": null,
            "padding": null,
            "right": null,
            "top": null,
            "visibility": null,
            "width": null
          }
        },
        "43acc330b762442d8b648c873747386c": {
          "model_module": "@jupyter-widgets/controls",
          "model_module_version": "1.5.0",
          "model_name": "DescriptionStyleModel",
          "state": {
            "_model_module": "@jupyter-widgets/controls",
            "_model_module_version": "1.5.0",
            "_model_name": "DescriptionStyleModel",
            "_view_count": null,
            "_view_module": "@jupyter-widgets/base",
            "_view_module_version": "1.2.0",
            "_view_name": "StyleView",
            "description_width": ""
          }
        },
        "4400ec3b8b99409db74cb2449f1cb1bc": {
          "model_module": "@jupyter-widgets/controls",
          "model_module_version": "1.5.0",
          "model_name": "DescriptionStyleModel",
          "state": {
            "_model_module": "@jupyter-widgets/controls",
            "_model_module_version": "1.5.0",
            "_model_name": "DescriptionStyleModel",
            "_view_count": null,
            "_view_module": "@jupyter-widgets/base",
            "_view_module_version": "1.2.0",
            "_view_name": "StyleView",
            "description_width": ""
          }
        },
        "48792c45b69c4fc793b332bb2aa07061": {
          "model_module": "@jupyter-widgets/controls",
          "model_module_version": "1.5.0",
          "model_name": "DescriptionStyleModel",
          "state": {
            "_model_module": "@jupyter-widgets/controls",
            "_model_module_version": "1.5.0",
            "_model_name": "DescriptionStyleModel",
            "_view_count": null,
            "_view_module": "@jupyter-widgets/base",
            "_view_module_version": "1.2.0",
            "_view_name": "StyleView",
            "description_width": ""
          }
        },
        "48df3194a85640ffac1deba5309890d2": {
          "model_module": "@jupyter-widgets/controls",
          "model_module_version": "1.5.0",
          "model_name": "DescriptionStyleModel",
          "state": {
            "_model_module": "@jupyter-widgets/controls",
            "_model_module_version": "1.5.0",
            "_model_name": "DescriptionStyleModel",
            "_view_count": null,
            "_view_module": "@jupyter-widgets/base",
            "_view_module_version": "1.2.0",
            "_view_name": "StyleView",
            "description_width": ""
          }
        },
        "5270ccdbd32c457b8590226e1a504f97": {
          "model_module": "@jupyter-widgets/controls",
          "model_module_version": "1.5.0",
          "model_name": "HTMLModel",
          "state": {
            "_dom_classes": [],
            "_model_module": "@jupyter-widgets/controls",
            "_model_module_version": "1.5.0",
            "_model_name": "HTMLModel",
            "_view_count": null,
            "_view_module": "@jupyter-widgets/controls",
            "_view_module_version": "1.5.0",
            "_view_name": "HTMLView",
            "description": "",
            "description_tooltip": null,
            "layout": "IPY_MODEL_84e0a405c67143ef9b459ac5b74bccc2",
            "placeholder": "​",
            "style": "IPY_MODEL_de921f60e2cd4b0ba80b909445a06191",
            "value": " 30/30 [35:46&lt;00:00, 96.59s/it]"
          }
        },
        "5a851a8450fa4c7d8ab87a875c8b073a": {
          "model_module": "@jupyter-widgets/controls",
          "model_module_version": "1.5.0",
          "model_name": "HTMLModel",
          "state": {
            "_dom_classes": [],
            "_model_module": "@jupyter-widgets/controls",
            "_model_module_version": "1.5.0",
            "_model_name": "HTMLModel",
            "_view_count": null,
            "_view_module": "@jupyter-widgets/controls",
            "_view_module_version": "1.5.0",
            "_view_name": "HTMLView",
            "description": "",
            "description_tooltip": null,
            "layout": "IPY_MODEL_b90f9a30a77c47d38be1d604379b1c7c",
            "placeholder": "​",
            "style": "IPY_MODEL_0e876d0be22b42e7922ddb9048636760",
            "value": "Best trial: 27. Best value: 0.127497: 100%"
          }
        },
        "5ba2eb57d959481bb372c92dcf218146": {
          "model_module": "@jupyter-widgets/base",
          "model_module_version": "1.2.0",
          "model_name": "LayoutModel",
          "state": {
            "_model_module": "@jupyter-widgets/base",
            "_model_module_version": "1.2.0",
            "_model_name": "LayoutModel",
            "_view_count": null,
            "_view_module": "@jupyter-widgets/base",
            "_view_module_version": "1.2.0",
            "_view_name": "LayoutView",
            "align_content": null,
            "align_items": null,
            "align_self": null,
            "border": null,
            "bottom": null,
            "display": null,
            "flex": null,
            "flex_flow": null,
            "grid_area": null,
            "grid_auto_columns": null,
            "grid_auto_flow": null,
            "grid_auto_rows": null,
            "grid_column": null,
            "grid_gap": null,
            "grid_row": null,
            "grid_template_areas": null,
            "grid_template_columns": null,
            "grid_template_rows": null,
            "height": null,
            "justify_content": null,
            "justify_items": null,
            "left": null,
            "margin": null,
            "max_height": null,
            "max_width": null,
            "min_height": null,
            "min_width": null,
            "object_fit": null,
            "object_position": null,
            "order": null,
            "overflow": null,
            "overflow_x": null,
            "overflow_y": null,
            "padding": null,
            "right": null,
            "top": null,
            "visibility": null,
            "width": null
          }
        },
        "5c05d45969b0494bbc4738fa1f34155b": {
          "model_module": "@jupyter-widgets/base",
          "model_module_version": "1.2.0",
          "model_name": "LayoutModel",
          "state": {
            "_model_module": "@jupyter-widgets/base",
            "_model_module_version": "1.2.0",
            "_model_name": "LayoutModel",
            "_view_count": null,
            "_view_module": "@jupyter-widgets/base",
            "_view_module_version": "1.2.0",
            "_view_name": "LayoutView",
            "align_content": null,
            "align_items": null,
            "align_self": null,
            "border": null,
            "bottom": null,
            "display": null,
            "flex": null,
            "flex_flow": null,
            "grid_area": null,
            "grid_auto_columns": null,
            "grid_auto_flow": null,
            "grid_auto_rows": null,
            "grid_column": null,
            "grid_gap": null,
            "grid_row": null,
            "grid_template_areas": null,
            "grid_template_columns": null,
            "grid_template_rows": null,
            "height": null,
            "justify_content": null,
            "justify_items": null,
            "left": null,
            "margin": null,
            "max_height": null,
            "max_width": null,
            "min_height": null,
            "min_width": null,
            "object_fit": null,
            "object_position": null,
            "order": null,
            "overflow": null,
            "overflow_x": null,
            "overflow_y": null,
            "padding": null,
            "right": null,
            "top": null,
            "visibility": null,
            "width": null
          }
        },
        "5da6c137409442c48e708b04a71e0f4b": {
          "model_module": "@jupyter-widgets/base",
          "model_module_version": "1.2.0",
          "model_name": "LayoutModel",
          "state": {
            "_model_module": "@jupyter-widgets/base",
            "_model_module_version": "1.2.0",
            "_model_name": "LayoutModel",
            "_view_count": null,
            "_view_module": "@jupyter-widgets/base",
            "_view_module_version": "1.2.0",
            "_view_name": "LayoutView",
            "align_content": null,
            "align_items": null,
            "align_self": null,
            "border": null,
            "bottom": null,
            "display": null,
            "flex": null,
            "flex_flow": null,
            "grid_area": null,
            "grid_auto_columns": null,
            "grid_auto_flow": null,
            "grid_auto_rows": null,
            "grid_column": null,
            "grid_gap": null,
            "grid_row": null,
            "grid_template_areas": null,
            "grid_template_columns": null,
            "grid_template_rows": null,
            "height": null,
            "justify_content": null,
            "justify_items": null,
            "left": null,
            "margin": null,
            "max_height": null,
            "max_width": null,
            "min_height": null,
            "min_width": null,
            "object_fit": null,
            "object_position": null,
            "order": null,
            "overflow": null,
            "overflow_x": null,
            "overflow_y": null,
            "padding": null,
            "right": null,
            "top": null,
            "visibility": null,
            "width": null
          }
        },
        "60e005cbabe3417a982da606169fe6ba": {
          "model_module": "@jupyter-widgets/base",
          "model_module_version": "1.2.0",
          "model_name": "LayoutModel",
          "state": {
            "_model_module": "@jupyter-widgets/base",
            "_model_module_version": "1.2.0",
            "_model_name": "LayoutModel",
            "_view_count": null,
            "_view_module": "@jupyter-widgets/base",
            "_view_module_version": "1.2.0",
            "_view_name": "LayoutView",
            "align_content": null,
            "align_items": null,
            "align_self": null,
            "border": null,
            "bottom": null,
            "display": null,
            "flex": null,
            "flex_flow": null,
            "grid_area": null,
            "grid_auto_columns": null,
            "grid_auto_flow": null,
            "grid_auto_rows": null,
            "grid_column": null,
            "grid_gap": null,
            "grid_row": null,
            "grid_template_areas": null,
            "grid_template_columns": null,
            "grid_template_rows": null,
            "height": null,
            "justify_content": null,
            "justify_items": null,
            "left": null,
            "margin": null,
            "max_height": null,
            "max_width": null,
            "min_height": null,
            "min_width": null,
            "object_fit": null,
            "object_position": null,
            "order": null,
            "overflow": null,
            "overflow_x": null,
            "overflow_y": null,
            "padding": null,
            "right": null,
            "top": null,
            "visibility": null,
            "width": null
          }
        },
        "62e9dda486014cb1a01c1d59e4b00116": {
          "model_module": "@jupyter-widgets/controls",
          "model_module_version": "1.5.0",
          "model_name": "FloatProgressModel",
          "state": {
            "_dom_classes": [],
            "_model_module": "@jupyter-widgets/controls",
            "_model_module_version": "1.5.0",
            "_model_name": "FloatProgressModel",
            "_view_count": null,
            "_view_module": "@jupyter-widgets/controls",
            "_view_module_version": "1.5.0",
            "_view_name": "ProgressView",
            "bar_style": "success",
            "description": "",
            "description_tooltip": null,
            "layout": "IPY_MODEL_293bf4cdb9ae4d05a82a2672428e8eb3",
            "max": 30,
            "min": 0,
            "orientation": "horizontal",
            "style": "IPY_MODEL_f7edc86e08bb478c9b5a87cf919a44d2",
            "value": 30
          }
        },
        "647dd816455c484897142da349081250": {
          "model_module": "@jupyter-widgets/controls",
          "model_module_version": "1.5.0",
          "model_name": "ProgressStyleModel",
          "state": {
            "_model_module": "@jupyter-widgets/controls",
            "_model_module_version": "1.5.0",
            "_model_name": "ProgressStyleModel",
            "_view_count": null,
            "_view_module": "@jupyter-widgets/base",
            "_view_module_version": "1.2.0",
            "_view_name": "StyleView",
            "bar_color": null,
            "description_width": ""
          }
        },
        "671fe5a43af4495982e5133912c2c451": {
          "model_module": "@jupyter-widgets/controls",
          "model_module_version": "1.5.0",
          "model_name": "FloatProgressModel",
          "state": {
            "_dom_classes": [],
            "_model_module": "@jupyter-widgets/controls",
            "_model_module_version": "1.5.0",
            "_model_name": "FloatProgressModel",
            "_view_count": null,
            "_view_module": "@jupyter-widgets/controls",
            "_view_module_version": "1.5.0",
            "_view_name": "ProgressView",
            "bar_style": "success",
            "description": "",
            "description_tooltip": null,
            "layout": "IPY_MODEL_6c772a5904ee4f0eb5ce44964bd6feb2",
            "max": 30,
            "min": 0,
            "orientation": "horizontal",
            "style": "IPY_MODEL_2414b58cb19f4e659ae2bfbe3f2050da",
            "value": 30
          }
        },
        "69bacdb664b94d81bb5ebfb5aaf6acfb": {
          "model_module": "@jupyter-widgets/controls",
          "model_module_version": "1.5.0",
          "model_name": "HTMLModel",
          "state": {
            "_dom_classes": [],
            "_model_module": "@jupyter-widgets/controls",
            "_model_module_version": "1.5.0",
            "_model_name": "HTMLModel",
            "_view_count": null,
            "_view_module": "@jupyter-widgets/controls",
            "_view_module_version": "1.5.0",
            "_view_name": "HTMLView",
            "description": "",
            "description_tooltip": null,
            "layout": "IPY_MODEL_23509e42a689464ea1e2d0cbe2686249",
            "placeholder": "​",
            "style": "IPY_MODEL_2b3e7a6475874630ada2e8f16ec8b3b0",
            "value": "Best trial: 12. Best value: 0.127448: 100%"
          }
        },
        "6c772a5904ee4f0eb5ce44964bd6feb2": {
          "model_module": "@jupyter-widgets/base",
          "model_module_version": "1.2.0",
          "model_name": "LayoutModel",
          "state": {
            "_model_module": "@jupyter-widgets/base",
            "_model_module_version": "1.2.0",
            "_model_name": "LayoutModel",
            "_view_count": null,
            "_view_module": "@jupyter-widgets/base",
            "_view_module_version": "1.2.0",
            "_view_name": "LayoutView",
            "align_content": null,
            "align_items": null,
            "align_self": null,
            "border": null,
            "bottom": null,
            "display": null,
            "flex": null,
            "flex_flow": null,
            "grid_area": null,
            "grid_auto_columns": null,
            "grid_auto_flow": null,
            "grid_auto_rows": null,
            "grid_column": null,
            "grid_gap": null,
            "grid_row": null,
            "grid_template_areas": null,
            "grid_template_columns": null,
            "grid_template_rows": null,
            "height": null,
            "justify_content": null,
            "justify_items": null,
            "left": null,
            "margin": null,
            "max_height": null,
            "max_width": null,
            "min_height": null,
            "min_width": null,
            "object_fit": null,
            "object_position": null,
            "order": null,
            "overflow": null,
            "overflow_x": null,
            "overflow_y": null,
            "padding": null,
            "right": null,
            "top": null,
            "visibility": null,
            "width": null
          }
        },
        "7c2364ed69bc42308288dc1636de1182": {
          "model_module": "@jupyter-widgets/base",
          "model_module_version": "1.2.0",
          "model_name": "LayoutModel",
          "state": {
            "_model_module": "@jupyter-widgets/base",
            "_model_module_version": "1.2.0",
            "_model_name": "LayoutModel",
            "_view_count": null,
            "_view_module": "@jupyter-widgets/base",
            "_view_module_version": "1.2.0",
            "_view_name": "LayoutView",
            "align_content": null,
            "align_items": null,
            "align_self": null,
            "border": null,
            "bottom": null,
            "display": null,
            "flex": null,
            "flex_flow": null,
            "grid_area": null,
            "grid_auto_columns": null,
            "grid_auto_flow": null,
            "grid_auto_rows": null,
            "grid_column": null,
            "grid_gap": null,
            "grid_row": null,
            "grid_template_areas": null,
            "grid_template_columns": null,
            "grid_template_rows": null,
            "height": null,
            "justify_content": null,
            "justify_items": null,
            "left": null,
            "margin": null,
            "max_height": null,
            "max_width": null,
            "min_height": null,
            "min_width": null,
            "object_fit": null,
            "object_position": null,
            "order": null,
            "overflow": null,
            "overflow_x": null,
            "overflow_y": null,
            "padding": null,
            "right": null,
            "top": null,
            "visibility": null,
            "width": null
          }
        },
        "7ea3c9b9328e4f929ea01966f0aed779": {
          "model_module": "@jupyter-widgets/controls",
          "model_module_version": "1.5.0",
          "model_name": "HTMLModel",
          "state": {
            "_dom_classes": [],
            "_model_module": "@jupyter-widgets/controls",
            "_model_module_version": "1.5.0",
            "_model_name": "HTMLModel",
            "_view_count": null,
            "_view_module": "@jupyter-widgets/controls",
            "_view_module_version": "1.5.0",
            "_view_name": "HTMLView",
            "description": "",
            "description_tooltip": null,
            "layout": "IPY_MODEL_93a26b8a9e1b49d39d270beda0487bd4",
            "placeholder": "​",
            "style": "IPY_MODEL_bb79ae456def440596bcb323e7d6f2ce",
            "value": " 30/30 [55:36&lt;00:00, 83.39s/it]"
          }
        },
        "84e0a405c67143ef9b459ac5b74bccc2": {
          "model_module": "@jupyter-widgets/base",
          "model_module_version": "1.2.0",
          "model_name": "LayoutModel",
          "state": {
            "_model_module": "@jupyter-widgets/base",
            "_model_module_version": "1.2.0",
            "_model_name": "LayoutModel",
            "_view_count": null,
            "_view_module": "@jupyter-widgets/base",
            "_view_module_version": "1.2.0",
            "_view_name": "LayoutView",
            "align_content": null,
            "align_items": null,
            "align_self": null,
            "border": null,
            "bottom": null,
            "display": null,
            "flex": null,
            "flex_flow": null,
            "grid_area": null,
            "grid_auto_columns": null,
            "grid_auto_flow": null,
            "grid_auto_rows": null,
            "grid_column": null,
            "grid_gap": null,
            "grid_row": null,
            "grid_template_areas": null,
            "grid_template_columns": null,
            "grid_template_rows": null,
            "height": null,
            "justify_content": null,
            "justify_items": null,
            "left": null,
            "margin": null,
            "max_height": null,
            "max_width": null,
            "min_height": null,
            "min_width": null,
            "object_fit": null,
            "object_position": null,
            "order": null,
            "overflow": null,
            "overflow_x": null,
            "overflow_y": null,
            "padding": null,
            "right": null,
            "top": null,
            "visibility": null,
            "width": null
          }
        },
        "8d7ea465c1684674af24f0431efe696c": {
          "model_module": "@jupyter-widgets/base",
          "model_module_version": "1.2.0",
          "model_name": "LayoutModel",
          "state": {
            "_model_module": "@jupyter-widgets/base",
            "_model_module_version": "1.2.0",
            "_model_name": "LayoutModel",
            "_view_count": null,
            "_view_module": "@jupyter-widgets/base",
            "_view_module_version": "1.2.0",
            "_view_name": "LayoutView",
            "align_content": null,
            "align_items": null,
            "align_self": null,
            "border": null,
            "bottom": null,
            "display": null,
            "flex": null,
            "flex_flow": null,
            "grid_area": null,
            "grid_auto_columns": null,
            "grid_auto_flow": null,
            "grid_auto_rows": null,
            "grid_column": null,
            "grid_gap": null,
            "grid_row": null,
            "grid_template_areas": null,
            "grid_template_columns": null,
            "grid_template_rows": null,
            "height": null,
            "justify_content": null,
            "justify_items": null,
            "left": null,
            "margin": null,
            "max_height": null,
            "max_width": null,
            "min_height": null,
            "min_width": null,
            "object_fit": null,
            "object_position": null,
            "order": null,
            "overflow": null,
            "overflow_x": null,
            "overflow_y": null,
            "padding": null,
            "right": null,
            "top": null,
            "visibility": null,
            "width": null
          }
        },
        "8e9d9c8ecfb74ed78c2ab5cbf0f09ff3": {
          "model_module": "@jupyter-widgets/base",
          "model_module_version": "1.2.0",
          "model_name": "LayoutModel",
          "state": {
            "_model_module": "@jupyter-widgets/base",
            "_model_module_version": "1.2.0",
            "_model_name": "LayoutModel",
            "_view_count": null,
            "_view_module": "@jupyter-widgets/base",
            "_view_module_version": "1.2.0",
            "_view_name": "LayoutView",
            "align_content": null,
            "align_items": null,
            "align_self": null,
            "border": null,
            "bottom": null,
            "display": null,
            "flex": null,
            "flex_flow": null,
            "grid_area": null,
            "grid_auto_columns": null,
            "grid_auto_flow": null,
            "grid_auto_rows": null,
            "grid_column": null,
            "grid_gap": null,
            "grid_row": null,
            "grid_template_areas": null,
            "grid_template_columns": null,
            "grid_template_rows": null,
            "height": null,
            "justify_content": null,
            "justify_items": null,
            "left": null,
            "margin": null,
            "max_height": null,
            "max_width": null,
            "min_height": null,
            "min_width": null,
            "object_fit": null,
            "object_position": null,
            "order": null,
            "overflow": null,
            "overflow_x": null,
            "overflow_y": null,
            "padding": null,
            "right": null,
            "top": null,
            "visibility": null,
            "width": null
          }
        },
        "91c8288d13e0429983cda2e9c6dabe64": {
          "model_module": "@jupyter-widgets/base",
          "model_module_version": "1.2.0",
          "model_name": "LayoutModel",
          "state": {
            "_model_module": "@jupyter-widgets/base",
            "_model_module_version": "1.2.0",
            "_model_name": "LayoutModel",
            "_view_count": null,
            "_view_module": "@jupyter-widgets/base",
            "_view_module_version": "1.2.0",
            "_view_name": "LayoutView",
            "align_content": null,
            "align_items": null,
            "align_self": null,
            "border": null,
            "bottom": null,
            "display": null,
            "flex": null,
            "flex_flow": null,
            "grid_area": null,
            "grid_auto_columns": null,
            "grid_auto_flow": null,
            "grid_auto_rows": null,
            "grid_column": null,
            "grid_gap": null,
            "grid_row": null,
            "grid_template_areas": null,
            "grid_template_columns": null,
            "grid_template_rows": null,
            "height": null,
            "justify_content": null,
            "justify_items": null,
            "left": null,
            "margin": null,
            "max_height": null,
            "max_width": null,
            "min_height": null,
            "min_width": null,
            "object_fit": null,
            "object_position": null,
            "order": null,
            "overflow": null,
            "overflow_x": null,
            "overflow_y": null,
            "padding": null,
            "right": null,
            "top": null,
            "visibility": null,
            "width": null
          }
        },
        "93a26b8a9e1b49d39d270beda0487bd4": {
          "model_module": "@jupyter-widgets/base",
          "model_module_version": "1.2.0",
          "model_name": "LayoutModel",
          "state": {
            "_model_module": "@jupyter-widgets/base",
            "_model_module_version": "1.2.0",
            "_model_name": "LayoutModel",
            "_view_count": null,
            "_view_module": "@jupyter-widgets/base",
            "_view_module_version": "1.2.0",
            "_view_name": "LayoutView",
            "align_content": null,
            "align_items": null,
            "align_self": null,
            "border": null,
            "bottom": null,
            "display": null,
            "flex": null,
            "flex_flow": null,
            "grid_area": null,
            "grid_auto_columns": null,
            "grid_auto_flow": null,
            "grid_auto_rows": null,
            "grid_column": null,
            "grid_gap": null,
            "grid_row": null,
            "grid_template_areas": null,
            "grid_template_columns": null,
            "grid_template_rows": null,
            "height": null,
            "justify_content": null,
            "justify_items": null,
            "left": null,
            "margin": null,
            "max_height": null,
            "max_width": null,
            "min_height": null,
            "min_width": null,
            "object_fit": null,
            "object_position": null,
            "order": null,
            "overflow": null,
            "overflow_x": null,
            "overflow_y": null,
            "padding": null,
            "right": null,
            "top": null,
            "visibility": null,
            "width": null
          }
        },
        "a18276108a314b0e861c6204ebf37328": {
          "model_module": "@jupyter-widgets/base",
          "model_module_version": "1.2.0",
          "model_name": "LayoutModel",
          "state": {
            "_model_module": "@jupyter-widgets/base",
            "_model_module_version": "1.2.0",
            "_model_name": "LayoutModel",
            "_view_count": null,
            "_view_module": "@jupyter-widgets/base",
            "_view_module_version": "1.2.0",
            "_view_name": "LayoutView",
            "align_content": null,
            "align_items": null,
            "align_self": null,
            "border": null,
            "bottom": null,
            "display": null,
            "flex": null,
            "flex_flow": null,
            "grid_area": null,
            "grid_auto_columns": null,
            "grid_auto_flow": null,
            "grid_auto_rows": null,
            "grid_column": null,
            "grid_gap": null,
            "grid_row": null,
            "grid_template_areas": null,
            "grid_template_columns": null,
            "grid_template_rows": null,
            "height": null,
            "justify_content": null,
            "justify_items": null,
            "left": null,
            "margin": null,
            "max_height": null,
            "max_width": null,
            "min_height": null,
            "min_width": null,
            "object_fit": null,
            "object_position": null,
            "order": null,
            "overflow": null,
            "overflow_x": null,
            "overflow_y": null,
            "padding": null,
            "right": null,
            "top": null,
            "visibility": null,
            "width": null
          }
        },
        "aac9da1d7d8d4abe99b8f7f7e04fa38e": {
          "model_module": "@jupyter-widgets/base",
          "model_module_version": "1.2.0",
          "model_name": "LayoutModel",
          "state": {
            "_model_module": "@jupyter-widgets/base",
            "_model_module_version": "1.2.0",
            "_model_name": "LayoutModel",
            "_view_count": null,
            "_view_module": "@jupyter-widgets/base",
            "_view_module_version": "1.2.0",
            "_view_name": "LayoutView",
            "align_content": null,
            "align_items": null,
            "align_self": null,
            "border": null,
            "bottom": null,
            "display": null,
            "flex": null,
            "flex_flow": null,
            "grid_area": null,
            "grid_auto_columns": null,
            "grid_auto_flow": null,
            "grid_auto_rows": null,
            "grid_column": null,
            "grid_gap": null,
            "grid_row": null,
            "grid_template_areas": null,
            "grid_template_columns": null,
            "grid_template_rows": null,
            "height": null,
            "justify_content": null,
            "justify_items": null,
            "left": null,
            "margin": null,
            "max_height": null,
            "max_width": null,
            "min_height": null,
            "min_width": null,
            "object_fit": null,
            "object_position": null,
            "order": null,
            "overflow": null,
            "overflow_x": null,
            "overflow_y": null,
            "padding": null,
            "right": null,
            "top": null,
            "visibility": null,
            "width": null
          }
        },
        "ae199163504440d59ea15a7a1be134fd": {
          "model_module": "@jupyter-widgets/controls",
          "model_module_version": "1.5.0",
          "model_name": "FloatProgressModel",
          "state": {
            "_dom_classes": [],
            "_model_module": "@jupyter-widgets/controls",
            "_model_module_version": "1.5.0",
            "_model_name": "FloatProgressModel",
            "_view_count": null,
            "_view_module": "@jupyter-widgets/controls",
            "_view_module_version": "1.5.0",
            "_view_name": "ProgressView",
            "bar_style": "success",
            "description": "",
            "description_tooltip": null,
            "layout": "IPY_MODEL_00fd6be269be4b2ca2938aaf000278cc",
            "max": 30,
            "min": 0,
            "orientation": "horizontal",
            "style": "IPY_MODEL_0f873625281b49f8acb0a588c021bebf",
            "value": 30
          }
        },
        "b55a6a7a9603406880eb37c829d6e9a4": {
          "model_module": "@jupyter-widgets/controls",
          "model_module_version": "1.5.0",
          "model_name": "HTMLModel",
          "state": {
            "_dom_classes": [],
            "_model_module": "@jupyter-widgets/controls",
            "_model_module_version": "1.5.0",
            "_model_name": "HTMLModel",
            "_view_count": null,
            "_view_module": "@jupyter-widgets/controls",
            "_view_module_version": "1.5.0",
            "_view_name": "HTMLView",
            "description": "",
            "description_tooltip": null,
            "layout": "IPY_MODEL_7c2364ed69bc42308288dc1636de1182",
            "placeholder": "​",
            "style": "IPY_MODEL_48792c45b69c4fc793b332bb2aa07061",
            "value": "Best trial: 24. Best value: 0.165255: 100%"
          }
        },
        "b5c94a7382224602a73c405350c68ad5": {
          "model_module": "@jupyter-widgets/controls",
          "model_module_version": "1.5.0",
          "model_name": "HTMLModel",
          "state": {
            "_dom_classes": [],
            "_model_module": "@jupyter-widgets/controls",
            "_model_module_version": "1.5.0",
            "_model_name": "HTMLModel",
            "_view_count": null,
            "_view_module": "@jupyter-widgets/controls",
            "_view_module_version": "1.5.0",
            "_view_name": "HTMLView",
            "description": "",
            "description_tooltip": null,
            "layout": "IPY_MODEL_a18276108a314b0e861c6204ebf37328",
            "placeholder": "​",
            "style": "IPY_MODEL_f14630c4f4464d0882c3ba25f6d0c694",
            "value": "Best trial: 28. Best value: 0.199745: 100%"
          }
        },
        "b6c3eb6585314af8a3411d4a994b591e": {
          "model_module": "@jupyter-widgets/controls",
          "model_module_version": "1.5.0",
          "model_name": "ProgressStyleModel",
          "state": {
            "_model_module": "@jupyter-widgets/controls",
            "_model_module_version": "1.5.0",
            "_model_name": "ProgressStyleModel",
            "_view_count": null,
            "_view_module": "@jupyter-widgets/base",
            "_view_module_version": "1.2.0",
            "_view_name": "StyleView",
            "bar_color": null,
            "description_width": ""
          }
        },
        "b90f9a30a77c47d38be1d604379b1c7c": {
          "model_module": "@jupyter-widgets/base",
          "model_module_version": "1.2.0",
          "model_name": "LayoutModel",
          "state": {
            "_model_module": "@jupyter-widgets/base",
            "_model_module_version": "1.2.0",
            "_model_name": "LayoutModel",
            "_view_count": null,
            "_view_module": "@jupyter-widgets/base",
            "_view_module_version": "1.2.0",
            "_view_name": "LayoutView",
            "align_content": null,
            "align_items": null,
            "align_self": null,
            "border": null,
            "bottom": null,
            "display": null,
            "flex": null,
            "flex_flow": null,
            "grid_area": null,
            "grid_auto_columns": null,
            "grid_auto_flow": null,
            "grid_auto_rows": null,
            "grid_column": null,
            "grid_gap": null,
            "grid_row": null,
            "grid_template_areas": null,
            "grid_template_columns": null,
            "grid_template_rows": null,
            "height": null,
            "justify_content": null,
            "justify_items": null,
            "left": null,
            "margin": null,
            "max_height": null,
            "max_width": null,
            "min_height": null,
            "min_width": null,
            "object_fit": null,
            "object_position": null,
            "order": null,
            "overflow": null,
            "overflow_x": null,
            "overflow_y": null,
            "padding": null,
            "right": null,
            "top": null,
            "visibility": null,
            "width": null
          }
        },
        "baa1a5f61e7e4002becc7eb90c3efef1": {
          "model_module": "@jupyter-widgets/controls",
          "model_module_version": "1.5.0",
          "model_name": "DescriptionStyleModel",
          "state": {
            "_model_module": "@jupyter-widgets/controls",
            "_model_module_version": "1.5.0",
            "_model_name": "DescriptionStyleModel",
            "_view_count": null,
            "_view_module": "@jupyter-widgets/base",
            "_view_module_version": "1.2.0",
            "_view_name": "StyleView",
            "description_width": ""
          }
        },
        "bb79ae456def440596bcb323e7d6f2ce": {
          "model_module": "@jupyter-widgets/controls",
          "model_module_version": "1.5.0",
          "model_name": "DescriptionStyleModel",
          "state": {
            "_model_module": "@jupyter-widgets/controls",
            "_model_module_version": "1.5.0",
            "_model_name": "DescriptionStyleModel",
            "_view_count": null,
            "_view_module": "@jupyter-widgets/base",
            "_view_module_version": "1.2.0",
            "_view_name": "StyleView",
            "description_width": ""
          }
        },
        "bf7d61d398ea4bab8835e59ddbea1362": {
          "model_module": "@jupyter-widgets/controls",
          "model_module_version": "1.5.0",
          "model_name": "FloatProgressModel",
          "state": {
            "_dom_classes": [],
            "_model_module": "@jupyter-widgets/controls",
            "_model_module_version": "1.5.0",
            "_model_name": "FloatProgressModel",
            "_view_count": null,
            "_view_module": "@jupyter-widgets/controls",
            "_view_module_version": "1.5.0",
            "_view_name": "ProgressView",
            "bar_style": "success",
            "description": "",
            "description_tooltip": null,
            "layout": "IPY_MODEL_cc422519562d4d7eac227fb08ad87c2c",
            "max": 30,
            "min": 0,
            "orientation": "horizontal",
            "style": "IPY_MODEL_647dd816455c484897142da349081250",
            "value": 30
          }
        },
        "c2e165b2fc9549199723b4be1fb48c49": {
          "model_module": "@jupyter-widgets/controls",
          "model_module_version": "1.5.0",
          "model_name": "FloatProgressModel",
          "state": {
            "_dom_classes": [],
            "_model_module": "@jupyter-widgets/controls",
            "_model_module_version": "1.5.0",
            "_model_name": "FloatProgressModel",
            "_view_count": null,
            "_view_module": "@jupyter-widgets/controls",
            "_view_module_version": "1.5.0",
            "_view_name": "ProgressView",
            "bar_style": "success",
            "description": "",
            "description_tooltip": null,
            "layout": "IPY_MODEL_3786ffea531f44d9be8ec1e82825be8b",
            "max": 30,
            "min": 0,
            "orientation": "horizontal",
            "style": "IPY_MODEL_b6c3eb6585314af8a3411d4a994b591e",
            "value": 30
          }
        },
        "c7abe979992945a682d3ab42ed14d031": {
          "model_module": "@jupyter-widgets/controls",
          "model_module_version": "1.5.0",
          "model_name": "HTMLModel",
          "state": {
            "_dom_classes": [],
            "_model_module": "@jupyter-widgets/controls",
            "_model_module_version": "1.5.0",
            "_model_name": "HTMLModel",
            "_view_count": null,
            "_view_module": "@jupyter-widgets/controls",
            "_view_module_version": "1.5.0",
            "_view_name": "HTMLView",
            "description": "",
            "description_tooltip": null,
            "layout": "IPY_MODEL_91c8288d13e0429983cda2e9c6dabe64",
            "placeholder": "​",
            "style": "IPY_MODEL_36c416c6229e4b62a26b838bdde662bc",
            "value": " 30/30 [01:26&lt;00:00,  1.70s/it]"
          }
        },
        "cc422519562d4d7eac227fb08ad87c2c": {
          "model_module": "@jupyter-widgets/base",
          "model_module_version": "1.2.0",
          "model_name": "LayoutModel",
          "state": {
            "_model_module": "@jupyter-widgets/base",
            "_model_module_version": "1.2.0",
            "_model_name": "LayoutModel",
            "_view_count": null,
            "_view_module": "@jupyter-widgets/base",
            "_view_module_version": "1.2.0",
            "_view_name": "LayoutView",
            "align_content": null,
            "align_items": null,
            "align_self": null,
            "border": null,
            "bottom": null,
            "display": null,
            "flex": null,
            "flex_flow": null,
            "grid_area": null,
            "grid_auto_columns": null,
            "grid_auto_flow": null,
            "grid_auto_rows": null,
            "grid_column": null,
            "grid_gap": null,
            "grid_row": null,
            "grid_template_areas": null,
            "grid_template_columns": null,
            "grid_template_rows": null,
            "height": null,
            "justify_content": null,
            "justify_items": null,
            "left": null,
            "margin": null,
            "max_height": null,
            "max_width": null,
            "min_height": null,
            "min_width": null,
            "object_fit": null,
            "object_position": null,
            "order": null,
            "overflow": null,
            "overflow_x": null,
            "overflow_y": null,
            "padding": null,
            "right": null,
            "top": null,
            "visibility": null,
            "width": null
          }
        },
        "ccbd9388bc54420ea0cf5595c4b1d61c": {
          "model_module": "@jupyter-widgets/controls",
          "model_module_version": "1.5.0",
          "model_name": "HBoxModel",
          "state": {
            "_dom_classes": [],
            "_model_module": "@jupyter-widgets/controls",
            "_model_module_version": "1.5.0",
            "_model_name": "HBoxModel",
            "_view_count": null,
            "_view_module": "@jupyter-widgets/controls",
            "_view_module_version": "1.5.0",
            "_view_name": "HBoxView",
            "box_style": "",
            "children": [
              "IPY_MODEL_69bacdb664b94d81bb5ebfb5aaf6acfb",
              "IPY_MODEL_ae199163504440d59ea15a7a1be134fd",
              "IPY_MODEL_18ad334693dd4f66a9fdb3cacd7c0eb1"
            ],
            "layout": "IPY_MODEL_60e005cbabe3417a982da606169fe6ba"
          }
        },
        "ce6b7192cf1d4fb581826e97bc3e29dc": {
          "model_module": "@jupyter-widgets/controls",
          "model_module_version": "1.5.0",
          "model_name": "ProgressStyleModel",
          "state": {
            "_model_module": "@jupyter-widgets/controls",
            "_model_module_version": "1.5.0",
            "_model_name": "ProgressStyleModel",
            "_view_count": null,
            "_view_module": "@jupyter-widgets/base",
            "_view_module_version": "1.2.0",
            "_view_name": "StyleView",
            "bar_color": null,
            "description_width": ""
          }
        },
        "d4f777a1d0d84030bdb60a82dc8188fb": {
          "model_module": "@jupyter-widgets/controls",
          "model_module_version": "1.5.0",
          "model_name": "HBoxModel",
          "state": {
            "_dom_classes": [],
            "_model_module": "@jupyter-widgets/controls",
            "_model_module_version": "1.5.0",
            "_model_name": "HBoxModel",
            "_view_count": null,
            "_view_module": "@jupyter-widgets/controls",
            "_view_module_version": "1.5.0",
            "_view_name": "HBoxView",
            "box_style": "",
            "children": [
              "IPY_MODEL_3093403de7bc44d1a04821c384610634",
              "IPY_MODEL_62e9dda486014cb1a01c1d59e4b00116",
              "IPY_MODEL_c7abe979992945a682d3ab42ed14d031"
            ],
            "layout": "IPY_MODEL_42e1b5245d164354b04efd80d338f8e2"
          }
        },
        "de921f60e2cd4b0ba80b909445a06191": {
          "model_module": "@jupyter-widgets/controls",
          "model_module_version": "1.5.0",
          "model_name": "DescriptionStyleModel",
          "state": {
            "_model_module": "@jupyter-widgets/controls",
            "_model_module_version": "1.5.0",
            "_model_name": "DescriptionStyleModel",
            "_view_count": null,
            "_view_module": "@jupyter-widgets/base",
            "_view_module_version": "1.2.0",
            "_view_name": "StyleView",
            "description_width": ""
          }
        },
        "df0bdd60a0fe4062a2517a7cc40dbeab": {
          "model_module": "@jupyter-widgets/controls",
          "model_module_version": "1.5.0",
          "model_name": "HBoxModel",
          "state": {
            "_dom_classes": [],
            "_model_module": "@jupyter-widgets/controls",
            "_model_module_version": "1.5.0",
            "_model_name": "HBoxModel",
            "_view_count": null,
            "_view_module": "@jupyter-widgets/controls",
            "_view_module_version": "1.5.0",
            "_view_name": "HBoxView",
            "box_style": "",
            "children": [
              "IPY_MODEL_b55a6a7a9603406880eb37c829d6e9a4",
              "IPY_MODEL_bf7d61d398ea4bab8835e59ddbea1362",
              "IPY_MODEL_7ea3c9b9328e4f929ea01966f0aed779"
            ],
            "layout": "IPY_MODEL_01503d35c8c248bdb886dfa18d6fec5a"
          }
        },
        "e0075ed6dfad46ae8fb113563e849c56": {
          "model_module": "@jupyter-widgets/controls",
          "model_module_version": "1.5.0",
          "model_name": "DescriptionStyleModel",
          "state": {
            "_model_module": "@jupyter-widgets/controls",
            "_model_module_version": "1.5.0",
            "_model_name": "DescriptionStyleModel",
            "_view_count": null,
            "_view_module": "@jupyter-widgets/base",
            "_view_module_version": "1.2.0",
            "_view_name": "StyleView",
            "description_width": ""
          }
        },
        "e6523f3cba304ded903dfb357a43ee92": {
          "model_module": "@jupyter-widgets/controls",
          "model_module_version": "1.5.0",
          "model_name": "HBoxModel",
          "state": {
            "_dom_classes": [],
            "_model_module": "@jupyter-widgets/controls",
            "_model_module_version": "1.5.0",
            "_model_name": "HBoxModel",
            "_view_count": null,
            "_view_module": "@jupyter-widgets/controls",
            "_view_module_version": "1.5.0",
            "_view_name": "HBoxView",
            "box_style": "",
            "children": [
              "IPY_MODEL_28ca6b061e504fcf8cae977e96aabc22",
              "IPY_MODEL_13169dff4a7e4f9c9b2e753947934a59",
              "IPY_MODEL_5270ccdbd32c457b8590226e1a504f97"
            ],
            "layout": "IPY_MODEL_5c05d45969b0494bbc4738fa1f34155b"
          }
        },
        "f14630c4f4464d0882c3ba25f6d0c694": {
          "model_module": "@jupyter-widgets/controls",
          "model_module_version": "1.5.0",
          "model_name": "DescriptionStyleModel",
          "state": {
            "_model_module": "@jupyter-widgets/controls",
            "_model_module_version": "1.5.0",
            "_model_name": "DescriptionStyleModel",
            "_view_count": null,
            "_view_module": "@jupyter-widgets/base",
            "_view_module_version": "1.2.0",
            "_view_name": "StyleView",
            "description_width": ""
          }
        },
        "f15de096c93b4ad8a7adce919232c896": {
          "model_module": "@jupyter-widgets/base",
          "model_module_version": "1.2.0",
          "model_name": "LayoutModel",
          "state": {
            "_model_module": "@jupyter-widgets/base",
            "_model_module_version": "1.2.0",
            "_model_name": "LayoutModel",
            "_view_count": null,
            "_view_module": "@jupyter-widgets/base",
            "_view_module_version": "1.2.0",
            "_view_name": "LayoutView",
            "align_content": null,
            "align_items": null,
            "align_self": null,
            "border": null,
            "bottom": null,
            "display": null,
            "flex": null,
            "flex_flow": null,
            "grid_area": null,
            "grid_auto_columns": null,
            "grid_auto_flow": null,
            "grid_auto_rows": null,
            "grid_column": null,
            "grid_gap": null,
            "grid_row": null,
            "grid_template_areas": null,
            "grid_template_columns": null,
            "grid_template_rows": null,
            "height": null,
            "justify_content": null,
            "justify_items": null,
            "left": null,
            "margin": null,
            "max_height": null,
            "max_width": null,
            "min_height": null,
            "min_width": null,
            "object_fit": null,
            "object_position": null,
            "order": null,
            "overflow": null,
            "overflow_x": null,
            "overflow_y": null,
            "padding": null,
            "right": null,
            "top": null,
            "visibility": null,
            "width": null
          }
        },
        "f7edc86e08bb478c9b5a87cf919a44d2": {
          "model_module": "@jupyter-widgets/controls",
          "model_module_version": "1.5.0",
          "model_name": "ProgressStyleModel",
          "state": {
            "_model_module": "@jupyter-widgets/controls",
            "_model_module_version": "1.5.0",
            "_model_name": "ProgressStyleModel",
            "_view_count": null,
            "_view_module": "@jupyter-widgets/base",
            "_view_module_version": "1.2.0",
            "_view_name": "StyleView",
            "bar_color": null,
            "description_width": ""
          }
        },
        "fb13b241df464e4e91e9cf763e771748": {
          "model_module": "@jupyter-widgets/controls",
          "model_module_version": "1.5.0",
          "model_name": "HBoxModel",
          "state": {
            "_dom_classes": [],
            "_model_module": "@jupyter-widgets/controls",
            "_model_module_version": "1.5.0",
            "_model_name": "HBoxModel",
            "_view_count": null,
            "_view_module": "@jupyter-widgets/controls",
            "_view_module_version": "1.5.0",
            "_view_name": "HBoxView",
            "box_style": "",
            "children": [
              "IPY_MODEL_b5c94a7382224602a73c405350c68ad5",
              "IPY_MODEL_c2e165b2fc9549199723b4be1fb48c49",
              "IPY_MODEL_2f5ec5c4ed154d6cb41002361aa47f1e"
            ],
            "layout": "IPY_MODEL_aac9da1d7d8d4abe99b8f7f7e04fa38e"
          }
        }
      }
    }
  },
  "nbformat": 4,
  "nbformat_minor": 0
}
